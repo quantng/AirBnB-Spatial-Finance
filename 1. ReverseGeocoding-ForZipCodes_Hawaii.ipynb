{
 "cells": [
  {
   "cell_type": "code",
   "execution_count": null,
   "metadata": {
    "colab": {
     "base_uri": "https://localhost:8080/"
    },
    "id": "I_QUBO6ivkJS",
    "outputId": "7330d5f4-e57b-4257-ae6d-21af3cc6c0e2"
   },
   "outputs": [
    {
     "name": "stdout",
     "output_type": "stream",
     "text": [
      "Processed 1000 rows\n",
      "Processed 2000 rows\n",
      "Processed 3000 rows\n",
      "Processed 4000 rows\n",
      "Processed 5000 rows\n",
      "Processed 6000 rows\n"
     ]
    }
   ],
   "source": [
    "import csv\n",
    "import pandas as pd\n",
    "import urllib3\n",
    "from geopy.geocoders import Nominatim\n",
    "from geopy.extra.rate_limiter import RateLimiter\n",
    "\n",
    "# Disable the urllib3 warnings\n",
    "urllib3.disable_warnings(urllib3.exceptions.InsecureRequestWarning)\n",
    "\n",
    "# Create a geolocator object with rate limiting\n",
    "geolocator = Nominatim(user_agent=\"my_app\")\n",
    "geocode = RateLimiter(geolocator.reverse, min_delay_seconds=1)\n",
    "\n",
    "# Read the input CSV file into a pandas DataFrame\n",
    "input_df = pd.read_excel('/content/for2.xlsx')\n",
    "\n",
    "# Set the maximum number of rows per output file\n",
    "max_rows_per_file = 500\n",
    "\n",
    "# Initialize the row counter and output file counter\n",
    "row_count = 0\n",
    "file_count = 1\n",
    "\n",
    "# Loop through each row in the input DataFrame\n",
    "for index, row in input_df.iterrows():\n",
    "    # Extract the latitude and longitude from the row\n",
    "    lat = row['Latitude']\n",
    "    lon = row['Longitude']\n",
    "\n",
    "    # Use the geolocator to get the zip code from the latitude and longitude\n",
    "    try:\n",
    "        location = geocode(f\"{lat}, {lon}\", exactly_one=True, timeout=10)\n",
    "        if location.raw['address'].get('postcode'):\n",
    "            zip_code = location.raw['address']['postcode']\n",
    "            row['Zipcode'] = zip_code\n",
    "        else:\n",
    "            row['Zipcode'] = \"Zipcode not found\"\n",
    "    except (urllib3.exceptions.ConnectTimeoutError, urllib3.exceptions.ReadTimeoutError):\n",
    "        row['Zipcode'] = \"Timeout getting zip code\"\n",
    "    except Exception:\n",
    "        row['Zipcode'] = \"Error getting zip code\"\n",
    "\n",
    "    # Append the updated row to the output CSV file\n",
    "    if row_count == 0:\n",
    "        # If this is the first row in a new output file, create the file\n",
    "        output_file_name = f\"output_file_{file_count}.csv\"\n",
    "        output_df = pd.DataFrame(columns=input_df.columns)\n",
    "        output_df.to_csv(output_file_name, index=False)\n",
    "\n",
    "    # Append the updated row to the current output file\n",
    "    output_df = pd.concat([output_df, row.to_frame().transpose()], ignore_index=True)\n",
    "    output_df.to_csv(output_file_name, index=False)\n",
    "\n",
    "    # Increment the row counter\n",
    "    row_count += 1\n",
    "\n",
    "    # If we've reached the maximum rows per output file, reset the row counter and increment the output file counter\n",
    "    if row_count == max_rows_per_file:\n",
    "        row_count = 0\n",
    "        file_count += 1\n",
    "\n",
    "    # Print a status update every 1000 rows\n",
    "    if (index + 1) % 1000 == 0:\n",
    "        print(f\"Processed {index + 1} rows\")\n",
    "\n",
    "# If there are any remaining rows in the output DataFrame, write them to a new output file\n",
    "if row_count > 0:\n",
    "    output_file_name = f\"output_file_hawaii_{file_count}.csv\"\n",
    "    output_df.to_csv(output_file_name, index=False)\n"
   ]
  }
 ],
 "metadata": {
  "accelerator": "GPU",
  "colab": {
   "machine_shape": "hm",
   "provenance": []
  },
  "gpuClass": "premium",
  "kernelspec": {
   "display_name": "Python 3",
   "language": "python",
   "name": "python3"
  },
  "language_info": {
   "codemirror_mode": {
    "name": "ipython",
    "version": 3
   },
   "file_extension": ".py",
   "mimetype": "text/x-python",
   "name": "python",
   "nbconvert_exporter": "python",
   "pygments_lexer": "ipython3",
   "version": "3.8.12"
  }
 },
 "nbformat": 4,
 "nbformat_minor": 4
}
