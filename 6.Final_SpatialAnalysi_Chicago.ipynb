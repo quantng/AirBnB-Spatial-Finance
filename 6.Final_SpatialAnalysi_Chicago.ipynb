{
 "cells": [
  {
   "cell_type": "code",
   "execution_count": 1,
   "metadata": {
    "id": "bVjtxROkf8nL"
   },
   "outputs": [],
   "source": [
    "import pandas as pd # Library for handling data structures like DataFrames and Series\n",
    "import numpy as np # Library for numerical operations, such as linear algebra and statistical functions\n",
    "from matplotlib import pyplot as plt # Library for creating static, animated, and interactive visualizations in Python"
   ]
  },
  {
   "cell_type": "code",
   "execution_count": 2,
   "metadata": {},
   "outputs": [
    {
     "name": "stdout",
     "output_type": "stream",
     "text": [
      "Current working directory: /home/jovyan/work/GGIS570/FinalProject\n"
     ]
    }
   ],
   "source": [
    "import os\n",
    "current_working_directory = os.getcwd()\n",
    "print(\"Current working directory:\", current_working_directory)"
   ]
  },
  {
   "cell_type": "code",
   "execution_count": 3,
   "metadata": {
    "id": "SoqVMOCpitTt"
   },
   "outputs": [],
   "source": [
    "#reading cleaned data file into data frame\n",
    "chicago_raw=pd.read_csv('/home/jovyan/work/GGIS570/FinalProject/ChicagoData.csv')"
   ]
  },
  {
   "cell_type": "code",
   "execution_count": 4,
   "metadata": {
    "colab": {
     "base_uri": "https://localhost:8080/"
    },
    "id": "HSyCrGjekWIB",
    "outputId": "7dbe50d0-df84-4f98-bbd8-8bd973bd72ff"
   },
   "outputs": [
    {
     "name": "stdout",
     "output_type": "stream",
     "text": [
      "<class 'pandas.core.frame.DataFrame'>\n",
      "RangeIndex: 5205 entries, 0 to 5204\n",
      "Data columns (total 55 columns):\n",
      " #   Column                                  Non-Null Count  Dtype  \n",
      "---  ------                                  --------------  -----  \n",
      " 0   Latitude                                5205 non-null   float64\n",
      " 1   Longitude                               5205 non-null   float64\n",
      " 2   Zipcode                                 5205 non-null   int64  \n",
      " 3   id                                      5205 non-null   float64\n",
      " 4   listing_url                             5205 non-null   object \n",
      " 5   name                                    5205 non-null   object \n",
      " 6   picture_url                             5205 non-null   object \n",
      " 7   host_id                                 5205 non-null   int64  \n",
      " 8   host_url                                5205 non-null   object \n",
      " 9   host_name                               5205 non-null   object \n",
      " 10  host_since                              5205 non-null   object \n",
      " 11  host_location                           4241 non-null   object \n",
      " 12  host_acceptance_rate                    4984 non-null   object \n",
      " 13  host_is_superhost                       5205 non-null   object \n",
      " 14  host_thumbnail_url                      5205 non-null   object \n",
      " 15  host_picture_url                        5205 non-null   object \n",
      " 16  host_neighbourhood                      5003 non-null   object \n",
      " 17  host_listings_count                     5205 non-null   int64  \n",
      " 18  host_has_profile_pic                    5205 non-null   object \n",
      " 19  host_identity_verified                  5205 non-null   object \n",
      " 20  neighbourhood_cleansed                  5205 non-null   object \n",
      " 21  property_type                           5205 non-null   object \n",
      " 22  code-chicago                            5205 non-null   int64  \n",
      " 23  room_type                               5205 non-null   object \n",
      " 24  accommodates                            5205 non-null   int64  \n",
      " 25  bathrooms_text                          5195 non-null   object \n",
      " 26  bedrooms                                4845 non-null   float64\n",
      " 27  beds                                    5167 non-null   float64\n",
      " 28  price                                   5205 non-null   object \n",
      " 29  revenue_potential_annual                5205 non-null   int64  \n",
      " 30  has_availability                        5205 non-null   object \n",
      " 31  availability_30                         5205 non-null   int64  \n",
      " 32  availability_60                         5205 non-null   int64  \n",
      " 33  availability_90                         5205 non-null   int64  \n",
      " 34  availability_365                        5205 non-null   int64  \n",
      " 35  number_of_reviews                       5205 non-null   int64  \n",
      " 36  number_of_reviews_ltm                   5205 non-null   int64  \n",
      " 37  number_of_reviews_l30d                  5205 non-null   int64  \n",
      " 38  review_scores_rating                    4494 non-null   float64\n",
      " 39  review_scores_accuracy                  4492 non-null   float64\n",
      " 40  review_scores_cleanliness               4492 non-null   float64\n",
      " 41  review_scores_checkin                   4492 non-null   float64\n",
      " 42  review_scores_communication             4491 non-null   float64\n",
      " 43  review_scores_location                  4492 non-null   float64\n",
      " 44  review_scores_value                     4492 non-null   float64\n",
      " 45  Average Annual Max Temp (F)             5205 non-null   float64\n",
      " 46  Average Annual Min Temp (F)             5205 non-null   float64\n",
      " 47  Average Annual Precipitation (inches)   5205 non-null   float64\n",
      " 48  Average Annual Wind Speed (mph)         5205 non-null   float64\n",
      " 49  Average Annual UV Index (0-10)          5205 non-null   float64\n",
      " 50  Average Annual Visibility (miles)       5205 non-null   float64\n",
      " 51  Average Annual Cloud Cover (%)          5205 non-null   float64\n",
      " 52  Average Annual Humidity (%)             5205 non-null   float64\n",
      " 53  Average Annual Solar Radiation (W/m^2)  5205 non-null   float64\n",
      " 54  median_ppsf                             5205 non-null   float64\n",
      "dtypes: float64(22), int64(13), object(20)\n",
      "memory usage: 2.2+ MB\n"
     ]
    }
   ],
   "source": [
    "chicago_raw.info()"
   ]
  },
  {
   "cell_type": "code",
   "execution_count": 5,
   "metadata": {
    "colab": {
     "base_uri": "https://localhost:8080/"
    },
    "id": "eGl_7R2nkcHA",
    "outputId": "c80b16c9-11d6-4628-9611-62e0b72e1f8b"
   },
   "outputs": [
    {
     "name": "stdout",
     "output_type": "stream",
     "text": [
      "<class 'pandas.core.frame.DataFrame'>\n",
      "RangeIndex: 5205 entries, 0 to 5204\n",
      "Data columns (total 55 columns):\n",
      " #   Column                                  Non-Null Count  Dtype  \n",
      "---  ------                                  --------------  -----  \n",
      " 0   Latitude                                5205 non-null   float64\n",
      " 1   Longitude                               5205 non-null   float64\n",
      " 2   Zipcode                                 5205 non-null   int64  \n",
      " 3   id                                      5205 non-null   float64\n",
      " 4   listing_url                             5205 non-null   object \n",
      " 5   name                                    5205 non-null   object \n",
      " 6   picture_url                             5205 non-null   object \n",
      " 7   host_id                                 5205 non-null   int64  \n",
      " 8   host_url                                5205 non-null   object \n",
      " 9   host_name                               5205 non-null   object \n",
      " 10  host_since                              5205 non-null   object \n",
      " 11  host_location                           4241 non-null   object \n",
      " 12  host_acceptance_rate                    4984 non-null   object \n",
      " 13  host_is_superhost                       5205 non-null   object \n",
      " 14  host_thumbnail_url                      5205 non-null   object \n",
      " 15  host_picture_url                        5205 non-null   object \n",
      " 16  host_neighbourhood                      5003 non-null   object \n",
      " 17  host_listings_count                     5205 non-null   int64  \n",
      " 18  host_has_profile_pic                    5205 non-null   object \n",
      " 19  host_identity_verified                  5205 non-null   object \n",
      " 20  neighbourhood_cleansed                  5205 non-null   object \n",
      " 21  property_type                           5205 non-null   object \n",
      " 22  code-chicago                            5205 non-null   int64  \n",
      " 23  room_type                               5205 non-null   object \n",
      " 24  accommodates                            5205 non-null   int64  \n",
      " 25  bathrooms_text                          5195 non-null   object \n",
      " 26  bedrooms                                4845 non-null   float64\n",
      " 27  beds                                    5167 non-null   float64\n",
      " 28  price                                   5205 non-null   object \n",
      " 29  revenue_potential_annual                5205 non-null   int64  \n",
      " 30  has_availability                        5205 non-null   object \n",
      " 31  availability_30                         5205 non-null   int64  \n",
      " 32  availability_60                         5205 non-null   int64  \n",
      " 33  availability_90                         5205 non-null   int64  \n",
      " 34  availability_365                        5205 non-null   int64  \n",
      " 35  number_of_reviews                       5205 non-null   int64  \n",
      " 36  number_of_reviews_ltm                   5205 non-null   int64  \n",
      " 37  number_of_reviews_l30d                  5205 non-null   int64  \n",
      " 38  review_scores_rating                    4494 non-null   float64\n",
      " 39  review_scores_accuracy                  4492 non-null   float64\n",
      " 40  review_scores_cleanliness               4492 non-null   float64\n",
      " 41  review_scores_checkin                   4492 non-null   float64\n",
      " 42  review_scores_communication             4491 non-null   float64\n",
      " 43  review_scores_location                  4492 non-null   float64\n",
      " 44  review_scores_value                     4492 non-null   float64\n",
      " 45  Average Annual Max Temp (F)             5205 non-null   float64\n",
      " 46  Average Annual Min Temp (F)             5205 non-null   float64\n",
      " 47  Average Annual Precipitation (inches)   5205 non-null   float64\n",
      " 48  Average Annual Wind Speed (mph)         5205 non-null   float64\n",
      " 49  Average Annual UV Index (0-10)          5205 non-null   float64\n",
      " 50  Average Annual Visibility (miles)       5205 non-null   float64\n",
      " 51  Average Annual Cloud Cover (%)          5205 non-null   float64\n",
      " 52  Average Annual Humidity (%)             5205 non-null   float64\n",
      " 53  Average Annual Solar Radiation (W/m^2)  5205 non-null   float64\n",
      " 54  median_ppsf                             5205 non-null   float64\n",
      "dtypes: float64(22), int64(13), object(20)\n",
      "memory usage: 2.2+ MB\n"
     ]
    }
   ],
   "source": [
    "chicago_raw.dropna()\n",
    "chicago_raw.info()"
   ]
  },
  {
   "cell_type": "code",
   "execution_count": 6,
   "metadata": {
    "colab": {
     "base_uri": "https://localhost:8080/"
    },
    "id": "UxxcXRxLlYeA",
    "outputId": "70f14784-93e5-4748-dfe8-2df47d53a1cd"
   },
   "outputs": [
    {
     "name": "stdout",
     "output_type": "stream",
     "text": [
      "Defaulting to user installation because normal site-packages is not writeable\n",
      "Requirement already satisfied: geopandas in /cvmfs/cybergis.illinois.edu/software/conda/cybergisx/python3-0.9.0/lib/python3.8/site-packages (0.10.2)\n",
      "Requirement already satisfied: shapely>=1.6 in /cvmfs/cybergis.illinois.edu/software/conda/cybergisx/python3-0.9.0/lib/python3.8/site-packages (from geopandas) (1.8.0)\n",
      "Requirement already satisfied: pyproj>=2.2.0 in /cvmfs/cybergis.illinois.edu/software/conda/cybergisx/python3-0.9.0/lib/python3.8/site-packages (from geopandas) (3.3.0)\n",
      "Requirement already satisfied: pandas>=0.25.0 in /cvmfs/cybergis.illinois.edu/software/conda/cybergisx/python3-0.9.0/lib/python3.8/site-packages (from geopandas) (1.3.5)\n",
      "Requirement already satisfied: fiona>=1.8 in /cvmfs/cybergis.illinois.edu/software/conda/cybergisx/python3-0.9.0/lib/python3.8/site-packages (from geopandas) (1.8.20)\n",
      "Requirement already satisfied: attrs>=17 in /cvmfs/cybergis.illinois.edu/software/conda/cybergisx/python3-0.9.0/lib/python3.8/site-packages (from fiona>=1.8->geopandas) (21.4.0)\n",
      "Requirement already satisfied: certifi in /cvmfs/cybergis.illinois.edu/software/conda/cybergisx/python3-0.9.0/lib/python3.8/site-packages (from fiona>=1.8->geopandas) (2021.10.8)\n",
      "Requirement already satisfied: click>=4.0 in /cvmfs/cybergis.illinois.edu/software/conda/cybergisx/python3-0.9.0/lib/python3.8/site-packages (from fiona>=1.8->geopandas) (7.1.2)\n",
      "Requirement already satisfied: cligj>=0.5 in /cvmfs/cybergis.illinois.edu/software/conda/cybergisx/python3-0.9.0/lib/python3.8/site-packages (from fiona>=1.8->geopandas) (0.7.2)\n",
      "Requirement already satisfied: click-plugins>=1.0 in /cvmfs/cybergis.illinois.edu/software/conda/cybergisx/python3-0.9.0/lib/python3.8/site-packages (from fiona>=1.8->geopandas) (1.1.1)\n",
      "Requirement already satisfied: six>=1.7 in /cvmfs/cybergis.illinois.edu/software/conda/cybergisx/python3-0.9.0/lib/python3.8/site-packages (from fiona>=1.8->geopandas) (1.16.0)\n",
      "Requirement already satisfied: munch in /cvmfs/cybergis.illinois.edu/software/conda/cybergisx/python3-0.9.0/lib/python3.8/site-packages (from fiona>=1.8->geopandas) (2.5.0)\n",
      "Requirement already satisfied: setuptools in /cvmfs/cybergis.illinois.edu/software/conda/cybergisx/python3-0.9.0/lib/python3.8/site-packages (from fiona>=1.8->geopandas) (59.8.0)\n",
      "Requirement already satisfied: python-dateutil>=2.7.3 in /cvmfs/cybergis.illinois.edu/software/conda/cybergisx/python3-0.9.0/lib/python3.8/site-packages (from pandas>=0.25.0->geopandas) (2.8.0)\n",
      "Requirement already satisfied: pytz>=2017.3 in /cvmfs/cybergis.illinois.edu/software/conda/cybergisx/python3-0.9.0/lib/python3.8/site-packages (from pandas>=0.25.0->geopandas) (2021.3)\n",
      "Requirement already satisfied: numpy>=1.17.3 in /cvmfs/cybergis.illinois.edu/software/conda/cybergisx/python3-0.9.0/lib/python3.8/site-packages (from pandas>=0.25.0->geopandas) (1.22.0)\n",
      "Note: you may need to restart the kernel to use updated packages.\n"
     ]
    }
   ],
   "source": [
    "pip install geopandas"
   ]
  },
  {
   "cell_type": "code",
   "execution_count": 7,
   "metadata": {
    "id": "1a05Q-sfkuHa"
   },
   "outputs": [],
   "source": [
    "#reading zipcode wise shape file of US\n",
    "import geopandas\n",
    "chicago_zipcode_gdf=geopandas.read_file(\"/home/jovyan/work/GGIS570/FinalProject/ShapeFiles/tl_2022_us_zcta520.shp\")"
   ]
  },
  {
   "cell_type": "code",
   "execution_count": 8,
   "metadata": {
    "colab": {
     "base_uri": "https://localhost:8080/"
    },
    "id": "mVwLLgnNnIx4",
    "outputId": "f2a6e2ce-e83f-4ed5-fd38-49af52bffacc"
   },
   "outputs": [
    {
     "name": "stdout",
     "output_type": "stream",
     "text": [
      "<class 'geopandas.geodataframe.GeoDataFrame'>\n",
      "RangeIndex: 33791 entries, 0 to 33790\n",
      "Data columns (total 10 columns):\n",
      " #   Column      Non-Null Count  Dtype   \n",
      "---  ------      --------------  -----   \n",
      " 0   ZCTA5CE20   33791 non-null  object  \n",
      " 1   GEOID20     33791 non-null  object  \n",
      " 2   CLASSFP20   33791 non-null  object  \n",
      " 3   MTFCC20     33791 non-null  object  \n",
      " 4   FUNCSTAT20  33791 non-null  object  \n",
      " 5   ALAND20     33791 non-null  int64   \n",
      " 6   AWATER20    33791 non-null  int64   \n",
      " 7   INTPTLAT20  33791 non-null  object  \n",
      " 8   INTPTLON20  33791 non-null  object  \n",
      " 9   geometry    33791 non-null  geometry\n",
      "dtypes: geometry(1), int64(2), object(7)\n",
      "memory usage: 2.6+ MB\n"
     ]
    }
   ],
   "source": [
    "chicago_zipcode_gdf.info()"
   ]
  },
  {
   "cell_type": "code",
   "execution_count": 9,
   "metadata": {
    "colab": {
     "base_uri": "https://localhost:8080/"
    },
    "id": "5eJKmQsHXSxM",
    "outputId": "30374d07-af90-4b8f-d977-fcfcaf7cdee0"
   },
   "outputs": [
    {
     "name": "stdout",
     "output_type": "stream",
     "text": [
      "<class 'geopandas.geodataframe.GeoDataFrame'>\n",
      "Int64Index: 5205 entries, 0 to 5204\n",
      "Data columns (total 64 columns):\n",
      " #   Column                                  Non-Null Count  Dtype   \n",
      "---  ------                                  --------------  -----   \n",
      " 0   ZCTA5CE20                               5205 non-null   int64   \n",
      " 1   GEOID20                                 5205 non-null   object  \n",
      " 2   CLASSFP20                               5205 non-null   object  \n",
      " 3   MTFCC20                                 5205 non-null   object  \n",
      " 4   FUNCSTAT20                              5205 non-null   object  \n",
      " 5   ALAND20                                 5205 non-null   int64   \n",
      " 6   AWATER20                                5205 non-null   int64   \n",
      " 7   INTPTLAT20                              5205 non-null   object  \n",
      " 8   INTPTLON20                              5205 non-null   object  \n",
      " 9   geometry                                5205 non-null   geometry\n",
      " 10  Latitude                                5205 non-null   float64 \n",
      " 11  Longitude                               5205 non-null   float64 \n",
      " 12  id                                      5205 non-null   float64 \n",
      " 13  listing_url                             5205 non-null   object  \n",
      " 14  name                                    5205 non-null   object  \n",
      " 15  picture_url                             5205 non-null   object  \n",
      " 16  host_id                                 5205 non-null   int64   \n",
      " 17  host_url                                5205 non-null   object  \n",
      " 18  host_name                               5205 non-null   object  \n",
      " 19  host_since                              5205 non-null   object  \n",
      " 20  host_location                           4241 non-null   object  \n",
      " 21  host_acceptance_rate                    4984 non-null   object  \n",
      " 22  host_is_superhost                       5205 non-null   object  \n",
      " 23  host_thumbnail_url                      5205 non-null   object  \n",
      " 24  host_picture_url                        5205 non-null   object  \n",
      " 25  host_neighbourhood                      5003 non-null   object  \n",
      " 26  host_listings_count                     5205 non-null   int64   \n",
      " 27  host_has_profile_pic                    5205 non-null   object  \n",
      " 28  host_identity_verified                  5205 non-null   object  \n",
      " 29  neighbourhood_cleansed                  5205 non-null   object  \n",
      " 30  property_type                           5205 non-null   object  \n",
      " 31  code-chicago                            5205 non-null   int64   \n",
      " 32  room_type                               5205 non-null   object  \n",
      " 33  accommodates                            5205 non-null   int64   \n",
      " 34  bathrooms_text                          5195 non-null   object  \n",
      " 35  bedrooms                                4845 non-null   float64 \n",
      " 36  beds                                    5167 non-null   float64 \n",
      " 37  price                                   5205 non-null   object  \n",
      " 38  revenue_potential_annual                5205 non-null   int64   \n",
      " 39  has_availability                        5205 non-null   object  \n",
      " 40  availability_30                         5205 non-null   int64   \n",
      " 41  availability_60                         5205 non-null   int64   \n",
      " 42  availability_90                         5205 non-null   int64   \n",
      " 43  availability_365                        5205 non-null   int64   \n",
      " 44  number_of_reviews                       5205 non-null   int64   \n",
      " 45  number_of_reviews_ltm                   5205 non-null   int64   \n",
      " 46  number_of_reviews_l30d                  5205 non-null   int64   \n",
      " 47  review_scores_rating                    4494 non-null   float64 \n",
      " 48  review_scores_accuracy                  4492 non-null   float64 \n",
      " 49  review_scores_cleanliness               4492 non-null   float64 \n",
      " 50  review_scores_checkin                   4492 non-null   float64 \n",
      " 51  review_scores_communication             4491 non-null   float64 \n",
      " 52  review_scores_location                  4492 non-null   float64 \n",
      " 53  review_scores_value                     4492 non-null   float64 \n",
      " 54  Average Annual Max Temp (F)             5205 non-null   float64 \n",
      " 55  Average Annual Min Temp (F)             5205 non-null   float64 \n",
      " 56  Average Annual Precipitation (inches)   5205 non-null   float64 \n",
      " 57  Average Annual Wind Speed (mph)         5205 non-null   float64 \n",
      " 58  Average Annual UV Index (0-10)          5205 non-null   float64 \n",
      " 59  Average Annual Visibility (miles)       5205 non-null   float64 \n",
      " 60  Average Annual Cloud Cover (%)          5205 non-null   float64 \n",
      " 61  Average Annual Humidity (%)             5205 non-null   float64 \n",
      " 62  Average Annual Solar Radiation (W/m^2)  5205 non-null   float64 \n",
      " 63  median_ppsf                             5205 non-null   float64 \n",
      "dtypes: float64(22), geometry(1), int64(15), object(26)\n",
      "memory usage: 2.6+ MB\n"
     ]
    }
   ],
   "source": [
    "#merging shp gdf (geopandas data frame) and hawaii raw df (data frame)\n",
    "\n",
    "chicago_zipcode_gdf['ZCTA5CE20']=chicago_zipcode_gdf['ZCTA5CE20'].astype(int)\n",
    "chicago_raw.rename(columns = {'Zipcode':'ZCTA5CE20'}, inplace = True)\n",
    "#Merge the shapefile with the places data by the common column - ZCTA5CE20\n",
    "chicago_zipcode_gdf_merged = chicago_zipcode_gdf.merge(chicago_raw, on = \"ZCTA5CE20\")\n",
    "#Final GeoDataFrame\n",
    "\n",
    "chicago_zipcode_gdf_merged.info()"
   ]
  },
  {
   "cell_type": "code",
   "execution_count": 10,
   "metadata": {
    "id": "d1GPbdh3xb4F"
   },
   "outputs": [],
   "source": [
    "#converts the resulting values to floats using the 'astype' method\n",
    "chicago_zipcode_gdf_merged['price'] = chicago_zipcode_gdf_merged['price'].str.replace(',', '').astype(float)"
   ]
  },
  {
   "cell_type": "code",
   "execution_count": 11,
   "metadata": {
    "colab": {
     "base_uri": "https://localhost:8080/"
    },
    "id": "IfV5KTuDYQcJ",
    "outputId": "7b8a79d1-318c-480f-bc62-6c269665dc26"
   },
   "outputs": [
    {
     "name": "stdout",
     "output_type": "stream",
     "text": [
      "<class 'geopandas.geodataframe.GeoDataFrame'>\n",
      "Int64Index: 5205 entries, 0 to 5204\n",
      "Data columns (total 52 columns):\n",
      " #   Column                                  Non-Null Count  Dtype   \n",
      "---  ------                                  --------------  -----   \n",
      " 0   ZCTA5CE20                               5205 non-null   int64   \n",
      " 1   GEOID20                                 5205 non-null   object  \n",
      " 2   CLASSFP20                               5205 non-null   object  \n",
      " 3   MTFCC20                                 5205 non-null   object  \n",
      " 4   FUNCSTAT20                              5205 non-null   object  \n",
      " 5   ALAND20                                 5205 non-null   int64   \n",
      " 6   AWATER20                                5205 non-null   int64   \n",
      " 7   INTPTLAT20                              5205 non-null   object  \n",
      " 8   INTPTLON20                              5205 non-null   object  \n",
      " 9   geometry                                5205 non-null   geometry\n",
      " 10  Latitude                                5205 non-null   float64 \n",
      " 11  Longitude                               5205 non-null   float64 \n",
      " 12  id                                      5205 non-null   float64 \n",
      " 13  listing_url                             5205 non-null   object  \n",
      " 14  name                                    5205 non-null   object  \n",
      " 15  picture_url                             5205 non-null   object  \n",
      " 16  host_id                                 5205 non-null   int64   \n",
      " 17  host_url                                5205 non-null   object  \n",
      " 18  host_name                               5205 non-null   object  \n",
      " 19  host_since                              5205 non-null   object  \n",
      " 20  host_acceptance_rate                    4984 non-null   object  \n",
      " 21  host_is_superhost                       5205 non-null   object  \n",
      " 22  host_thumbnail_url                      5205 non-null   object  \n",
      " 23  host_picture_url                        5205 non-null   object  \n",
      " 24  host_listings_count                     5205 non-null   int64   \n",
      " 25  host_has_profile_pic                    5205 non-null   object  \n",
      " 26  host_identity_verified                  5205 non-null   object  \n",
      " 27  neighbourhood_cleansed                  5205 non-null   object  \n",
      " 28  property_type                           5205 non-null   object  \n",
      " 29  code-chicago                            5205 non-null   int64   \n",
      " 30  room_type                               5205 non-null   object  \n",
      " 31  accommodates                            5205 non-null   int64   \n",
      " 32  price                                   5205 non-null   float64 \n",
      " 33  revenue_potential_annual                5205 non-null   int64   \n",
      " 34  has_availability                        5205 non-null   object  \n",
      " 35  availability_30                         5205 non-null   int64   \n",
      " 36  availability_60                         5205 non-null   int64   \n",
      " 37  availability_90                         5205 non-null   int64   \n",
      " 38  availability_365                        5205 non-null   int64   \n",
      " 39  number_of_reviews                       5205 non-null   int64   \n",
      " 40  number_of_reviews_ltm                   5205 non-null   int64   \n",
      " 41  number_of_reviews_l30d                  5205 non-null   int64   \n",
      " 42  Average Annual Max Temp (F)             5205 non-null   float64 \n",
      " 43  Average Annual Min Temp (F)             5205 non-null   float64 \n",
      " 44  Average Annual Precipitation (inches)   5205 non-null   float64 \n",
      " 45  Average Annual Wind Speed (mph)         5205 non-null   float64 \n",
      " 46  Average Annual UV Index (0-10)          5205 non-null   float64 \n",
      " 47  Average Annual Visibility (miles)       5205 non-null   float64 \n",
      " 48  Average Annual Cloud Cover (%)          5205 non-null   float64 \n",
      " 49  Average Annual Humidity (%)             5205 non-null   float64 \n",
      " 50  Average Annual Solar Radiation (W/m^2)  5205 non-null   float64 \n",
      " 51  median_ppsf                             5205 non-null   float64 \n",
      "dtypes: float64(14), geometry(1), int64(15), object(22)\n",
      "memory usage: 2.1+ MB\n"
     ]
    }
   ],
   "source": [
    "#Dropping non relevant columns to get final geodataframe called chicago_final\n",
    "chicago_final = chicago_zipcode_gdf_merged.drop(columns=['host_location', 'review_scores_value','review_scores_location','review_scores_communication','review_scores_checkin','review_scores_cleanliness','review_scores_accuracy','review_scores_rating','beds','bedrooms','bathrooms_text','host_neighbourhood','host_neighbourhood','host_location'])\n",
    "chicago_final.info()"
   ]
  },
  {
   "cell_type": "code",
   "execution_count": 12,
   "metadata": {
    "colab": {
     "base_uri": "https://localhost:8080/"
    },
    "id": "kZDcYMLgZmDW",
    "outputId": "5d7ae206-42cb-4e73-ed25-d656e049ece6"
   },
   "outputs": [
    {
     "name": "stdout",
     "output_type": "stream",
     "text": [
      "<class 'geopandas.geodataframe.GeoDataFrame'>\n",
      "Int64Index: 5205 entries, 0 to 5204\n",
      "Data columns (total 52 columns):\n",
      " #   Column                                  Non-Null Count  Dtype   \n",
      "---  ------                                  --------------  -----   \n",
      " 0   ZCTA5CE20                               5205 non-null   int64   \n",
      " 1   GEOID20                                 5205 non-null   object  \n",
      " 2   CLASSFP20                               5205 non-null   object  \n",
      " 3   MTFCC20                                 5205 non-null   object  \n",
      " 4   FUNCSTAT20                              5205 non-null   object  \n",
      " 5   ALAND20                                 5205 non-null   int64   \n",
      " 6   AWATER20                                5205 non-null   int64   \n",
      " 7   INTPTLAT20                              5205 non-null   object  \n",
      " 8   INTPTLON20                              5205 non-null   object  \n",
      " 9   geometry                                5205 non-null   geometry\n",
      " 10  Latitude                                5205 non-null   float64 \n",
      " 11  Longitude                               5205 non-null   float64 \n",
      " 12  id                                      5205 non-null   float64 \n",
      " 13  listing_url                             5205 non-null   object  \n",
      " 14  name                                    5205 non-null   object  \n",
      " 15  picture_url                             5205 non-null   object  \n",
      " 16  host_id                                 5205 non-null   int64   \n",
      " 17  host_url                                5205 non-null   object  \n",
      " 18  host_name                               5205 non-null   object  \n",
      " 19  host_since                              5205 non-null   object  \n",
      " 20  host_acceptance_rate                    4984 non-null   object  \n",
      " 21  host_is_superhost                       5205 non-null   object  \n",
      " 22  host_thumbnail_url                      5205 non-null   object  \n",
      " 23  host_picture_url                        5205 non-null   object  \n",
      " 24  host_listings_count                     5205 non-null   int64   \n",
      " 25  host_has_profile_pic                    5205 non-null   object  \n",
      " 26  host_identity_verified                  5205 non-null   object  \n",
      " 27  neighbourhood_cleansed                  5205 non-null   object  \n",
      " 28  property_type                           5205 non-null   object  \n",
      " 29  code-chicago                            5205 non-null   int64   \n",
      " 30  room_type                               5205 non-null   object  \n",
      " 31  accommodates                            5205 non-null   int64   \n",
      " 32  price                                   5205 non-null   float64 \n",
      " 33  revenue_potential_annual                5205 non-null   int64   \n",
      " 34  has_availability                        5205 non-null   object  \n",
      " 35  availability_30                         5205 non-null   int64   \n",
      " 36  availability_60                         5205 non-null   int64   \n",
      " 37  availability_90                         5205 non-null   int64   \n",
      " 38  availability_365                        5205 non-null   int64   \n",
      " 39  number_of_reviews                       5205 non-null   int64   \n",
      " 40  number_of_reviews_ltm                   5205 non-null   int64   \n",
      " 41  number_of_reviews_l30d                  5205 non-null   int64   \n",
      " 42  Average Annual Max Temp (F)             5205 non-null   float64 \n",
      " 43  Average Annual Min Temp (F)             5205 non-null   float64 \n",
      " 44  Average Annual Precipitation (inches)   5205 non-null   float64 \n",
      " 45  Average Annual Wind Speed (mph)         5205 non-null   float64 \n",
      " 46  Average Annual UV Index (0-10)          5205 non-null   float64 \n",
      " 47  Average Annual Visibility (miles)       5205 non-null   float64 \n",
      " 48  Average Annual Cloud Cover (%)          5205 non-null   float64 \n",
      " 49  Average Annual Humidity (%)             5205 non-null   float64 \n",
      " 50  Average Annual Solar Radiation (W/m^2)  5205 non-null   float64 \n",
      " 51  median_ppsf                             5205 non-null   float64 \n",
      "dtypes: float64(14), geometry(1), int64(15), object(22)\n",
      "memory usage: 2.1+ MB\n"
     ]
    }
   ],
   "source": [
    "chicago_final.dropna()\n",
    "chicago_final.info()"
   ]
  },
  {
   "cell_type": "code",
   "execution_count": 13,
   "metadata": {
    "id": "NGGv24G2idvc"
   },
   "outputs": [],
   "source": [
    "#dissolve Chicago's final dataset by zip code boundaries ('ZCTA5CE20') and then retrieving the boundary geometry for each zip code for aggregated granularity\n",
    "zipcode_gdf = chicago_final.dissolve(by='ZCTA5CE20').geometry.boundary"
   ]
  },
  {
   "cell_type": "code",
   "execution_count": 14,
   "metadata": {
    "id": "TN8mL_oIig0f"
   },
   "outputs": [],
   "source": [
    "#defining two variables, y and X, based on the data in a DataFrame called chicago_final\n",
    "variable_names=['price', 'Average Annual Max Temp (F)', 'Average Annual Min Temp (F)', 'Average Annual Precipitation (inches)', 'Average Annual Wind Speed (mph)', 'Average Annual UV Index (0-10)', 'Average Annual Visibility (miles)', 'Average Annual Cloud Cover (%)', 'Average Annual Humidity (%)', 'Average Annual Solar Radiation (W/m^2)']\n",
    "y = chicago_final[['median_ppsf']].values\n",
    "X = chicago_final[variable_names].values"
   ]
  },
  {
   "cell_type": "code",
   "execution_count": 15,
   "metadata": {
    "colab": {
     "base_uri": "https://localhost:8080/"
    },
    "id": "NRsdB0dltakP",
    "outputId": "a5ba2dba-8d6b-4fdf-a1b7-cc1c7b7bd4fb"
   },
   "outputs": [
    {
     "name": "stdout",
     "output_type": "stream",
     "text": [
      "Defaulting to user installation because normal site-packages is not writeable\n",
      "Requirement already satisfied: libpysal in /cvmfs/cybergis.illinois.edu/software/conda/cybergisx/python3-0.9.0/lib/python3.8/site-packages (4.5.1)\n",
      "Requirement already satisfied: numpy>=1.3 in /cvmfs/cybergis.illinois.edu/software/conda/cybergisx/python3-0.9.0/lib/python3.8/site-packages (from libpysal) (1.22.0)\n",
      "Requirement already satisfied: scipy>=0.11 in /cvmfs/cybergis.illinois.edu/software/conda/cybergisx/python3-0.9.0/lib/python3.8/site-packages (from libpysal) (1.7.3)\n",
      "Requirement already satisfied: requests in /cvmfs/cybergis.illinois.edu/software/conda/cybergisx/python3-0.9.0/lib/python3.8/site-packages (from libpysal) (2.27.1)\n",
      "Requirement already satisfied: beautifulsoup4 in /cvmfs/cybergis.illinois.edu/software/conda/cybergisx/python3-0.9.0/lib/python3.8/site-packages (from libpysal) (4.10.0)\n",
      "Requirement already satisfied: jinja2 in /cvmfs/cybergis.illinois.edu/software/conda/cybergisx/python3-0.9.0/lib/python3.8/site-packages (from libpysal) (3.0.3)\n",
      "Requirement already satisfied: pandas in /cvmfs/cybergis.illinois.edu/software/conda/cybergisx/python3-0.9.0/lib/python3.8/site-packages (from libpysal) (1.3.5)\n",
      "Requirement already satisfied: soupsieve>1.2 in /cvmfs/cybergis.illinois.edu/software/conda/cybergisx/python3-0.9.0/lib/python3.8/site-packages (from beautifulsoup4->libpysal) (2.3.1)\n",
      "Requirement already satisfied: MarkupSafe>=2.0 in /cvmfs/cybergis.illinois.edu/software/conda/cybergisx/python3-0.9.0/lib/python3.8/site-packages (from jinja2->libpysal) (2.0.1)\n",
      "Requirement already satisfied: python-dateutil>=2.7.3 in /cvmfs/cybergis.illinois.edu/software/conda/cybergisx/python3-0.9.0/lib/python3.8/site-packages (from pandas->libpysal) (2.8.0)\n",
      "Requirement already satisfied: pytz>=2017.3 in /cvmfs/cybergis.illinois.edu/software/conda/cybergisx/python3-0.9.0/lib/python3.8/site-packages (from pandas->libpysal) (2021.3)\n",
      "Requirement already satisfied: idna<4,>=2.5 in /cvmfs/cybergis.illinois.edu/software/conda/cybergisx/python3-0.9.0/lib/python3.8/site-packages (from requests->libpysal) (3.3)\n",
      "Requirement already satisfied: charset-normalizer~=2.0.0 in /cvmfs/cybergis.illinois.edu/software/conda/cybergisx/python3-0.9.0/lib/python3.8/site-packages (from requests->libpysal) (2.0.10)\n",
      "Requirement already satisfied: certifi>=2017.4.17 in /cvmfs/cybergis.illinois.edu/software/conda/cybergisx/python3-0.9.0/lib/python3.8/site-packages (from requests->libpysal) (2021.10.8)\n",
      "Requirement already satisfied: urllib3<1.27,>=1.21.1 in /cvmfs/cybergis.illinois.edu/software/conda/cybergisx/python3-0.9.0/lib/python3.8/site-packages (from requests->libpysal) (1.25.11)\n",
      "Requirement already satisfied: six>=1.5 in /cvmfs/cybergis.illinois.edu/software/conda/cybergisx/python3-0.9.0/lib/python3.8/site-packages (from python-dateutil>=2.7.3->pandas->libpysal) (1.16.0)\n",
      "Note: you may need to restart the kernel to use updated packages.\n"
     ]
    }
   ],
   "source": [
    "pip install libpysal"
   ]
  },
  {
   "cell_type": "code",
   "execution_count": 16,
   "metadata": {
    "colab": {
     "base_uri": "https://localhost:8080/"
    },
    "id": "JFs-3DswtlS8",
    "outputId": "e486d617-9e7a-42d8-c46b-1dc399858df0"
   },
   "outputs": [
    {
     "name": "stdout",
     "output_type": "stream",
     "text": [
      "Defaulting to user installation because normal site-packages is not writeable\n",
      "Requirement already satisfied: splot in /cvmfs/cybergis.illinois.edu/software/conda/cybergisx/python3-0.9.0/lib/python3.8/site-packages (1.1.4)\n",
      "Requirement already satisfied: seaborn in /cvmfs/cybergis.illinois.edu/software/conda/cybergisx/python3-0.9.0/lib/python3.8/site-packages (from splot) (0.11.2)\n",
      "Requirement already satisfied: giddy in /cvmfs/cybergis.illinois.edu/software/conda/cybergisx/python3-0.9.0/lib/python3.8/site-packages (from splot) (2.3.3)\n",
      "Requirement already satisfied: spreg in /cvmfs/cybergis.illinois.edu/software/conda/cybergisx/python3-0.9.0/lib/python3.8/site-packages (from splot) (1.2.4)\n",
      "Requirement already satisfied: numpy in /cvmfs/cybergis.illinois.edu/software/conda/cybergisx/python3-0.9.0/lib/python3.8/site-packages (from splot) (1.22.0)\n",
      "Requirement already satisfied: mapclassify in /cvmfs/cybergis.illinois.edu/software/conda/cybergisx/python3-0.9.0/lib/python3.8/site-packages (from splot) (2.4.3)\n",
      "Requirement already satisfied: libpysal in /cvmfs/cybergis.illinois.edu/software/conda/cybergisx/python3-0.9.0/lib/python3.8/site-packages (from splot) (4.5.1)\n",
      "Requirement already satisfied: matplotlib in /cvmfs/cybergis.illinois.edu/software/conda/cybergisx/python3-0.9.0/lib/python3.8/site-packages (from splot) (3.4.3)\n",
      "Requirement already satisfied: geopandas>=0.4.0 in /cvmfs/cybergis.illinois.edu/software/conda/cybergisx/python3-0.9.0/lib/python3.8/site-packages (from splot) (0.10.2)\n",
      "Requirement already satisfied: descartes in /cvmfs/cybergis.illinois.edu/software/conda/cybergisx/python3-0.9.0/lib/python3.8/site-packages (from splot) (1.1.0)\n",
      "Requirement already satisfied: esda in /cvmfs/cybergis.illinois.edu/software/conda/cybergisx/python3-0.9.0/lib/python3.8/site-packages (from splot) (2.4.1)\n",
      "Requirement already satisfied: pyproj>=2.2.0 in /cvmfs/cybergis.illinois.edu/software/conda/cybergisx/python3-0.9.0/lib/python3.8/site-packages (from geopandas>=0.4.0->splot) (3.3.0)\n",
      "Requirement already satisfied: pandas>=0.25.0 in /cvmfs/cybergis.illinois.edu/software/conda/cybergisx/python3-0.9.0/lib/python3.8/site-packages (from geopandas>=0.4.0->splot) (1.3.5)\n",
      "Requirement already satisfied: shapely>=1.6 in /cvmfs/cybergis.illinois.edu/software/conda/cybergisx/python3-0.9.0/lib/python3.8/site-packages (from geopandas>=0.4.0->splot) (1.8.0)\n",
      "Requirement already satisfied: fiona>=1.8 in /cvmfs/cybergis.illinois.edu/software/conda/cybergisx/python3-0.9.0/lib/python3.8/site-packages (from geopandas>=0.4.0->splot) (1.8.20)\n",
      "Requirement already satisfied: scikit-learn in /cvmfs/cybergis.illinois.edu/software/conda/cybergisx/python3-0.9.0/lib/python3.8/site-packages (from esda->splot) (1.0.2)\n",
      "Requirement already satisfied: scipy>=0.11 in /cvmfs/cybergis.illinois.edu/software/conda/cybergisx/python3-0.9.0/lib/python3.8/site-packages (from esda->splot) (1.7.3)\n",
      "Requirement already satisfied: quantecon>=0.4.7 in /cvmfs/cybergis.illinois.edu/software/conda/cybergisx/python3-0.9.0/lib/python3.8/site-packages (from giddy->splot) (0.5.2)\n",
      "Requirement already satisfied: jinja2 in /cvmfs/cybergis.illinois.edu/software/conda/cybergisx/python3-0.9.0/lib/python3.8/site-packages (from libpysal->splot) (3.0.3)\n",
      "Requirement already satisfied: requests in /cvmfs/cybergis.illinois.edu/software/conda/cybergisx/python3-0.9.0/lib/python3.8/site-packages (from libpysal->splot) (2.27.1)\n",
      "Requirement already satisfied: beautifulsoup4 in /cvmfs/cybergis.illinois.edu/software/conda/cybergisx/python3-0.9.0/lib/python3.8/site-packages (from libpysal->splot) (4.10.0)\n",
      "Requirement already satisfied: networkx in /cvmfs/cybergis.illinois.edu/software/conda/cybergisx/python3-0.9.0/lib/python3.8/site-packages (from mapclassify->splot) (2.6.3)\n",
      "Requirement already satisfied: python-dateutil>=2.7 in /cvmfs/cybergis.illinois.edu/software/conda/cybergisx/python3-0.9.0/lib/python3.8/site-packages (from matplotlib->splot) (2.8.0)\n",
      "Requirement already satisfied: cycler>=0.10 in /cvmfs/cybergis.illinois.edu/software/conda/cybergisx/python3-0.9.0/lib/python3.8/site-packages (from matplotlib->splot) (0.11.0)\n",
      "Requirement already satisfied: pillow>=6.2.0 in /cvmfs/cybergis.illinois.edu/software/conda/cybergisx/python3-0.9.0/lib/python3.8/site-packages (from matplotlib->splot) (8.4.0)\n",
      "Requirement already satisfied: pyparsing>=2.2.1 in /cvmfs/cybergis.illinois.edu/software/conda/cybergisx/python3-0.9.0/lib/python3.8/site-packages (from matplotlib->splot) (3.0.7)\n",
      "Requirement already satisfied: kiwisolver>=1.0.1 in /cvmfs/cybergis.illinois.edu/software/conda/cybergisx/python3-0.9.0/lib/python3.8/site-packages (from matplotlib->splot) (1.3.2)\n",
      "Requirement already satisfied: attrs>=17 in /cvmfs/cybergis.illinois.edu/software/conda/cybergisx/python3-0.9.0/lib/python3.8/site-packages (from fiona>=1.8->geopandas>=0.4.0->splot) (21.4.0)\n",
      "Requirement already satisfied: certifi in /cvmfs/cybergis.illinois.edu/software/conda/cybergisx/python3-0.9.0/lib/python3.8/site-packages (from fiona>=1.8->geopandas>=0.4.0->splot) (2021.10.8)\n",
      "Requirement already satisfied: click>=4.0 in /cvmfs/cybergis.illinois.edu/software/conda/cybergisx/python3-0.9.0/lib/python3.8/site-packages (from fiona>=1.8->geopandas>=0.4.0->splot) (7.1.2)\n",
      "Requirement already satisfied: cligj>=0.5 in /cvmfs/cybergis.illinois.edu/software/conda/cybergisx/python3-0.9.0/lib/python3.8/site-packages (from fiona>=1.8->geopandas>=0.4.0->splot) (0.7.2)\n",
      "Requirement already satisfied: click-plugins>=1.0 in /cvmfs/cybergis.illinois.edu/software/conda/cybergisx/python3-0.9.0/lib/python3.8/site-packages (from fiona>=1.8->geopandas>=0.4.0->splot) (1.1.1)\n",
      "Requirement already satisfied: six>=1.7 in /cvmfs/cybergis.illinois.edu/software/conda/cybergisx/python3-0.9.0/lib/python3.8/site-packages (from fiona>=1.8->geopandas>=0.4.0->splot) (1.16.0)\n",
      "Requirement already satisfied: munch in /cvmfs/cybergis.illinois.edu/software/conda/cybergisx/python3-0.9.0/lib/python3.8/site-packages (from fiona>=1.8->geopandas>=0.4.0->splot) (2.5.0)\n",
      "Requirement already satisfied: setuptools in /cvmfs/cybergis.illinois.edu/software/conda/cybergisx/python3-0.9.0/lib/python3.8/site-packages (from fiona>=1.8->geopandas>=0.4.0->splot) (59.8.0)\n",
      "Requirement already satisfied: pytz>=2017.3 in /cvmfs/cybergis.illinois.edu/software/conda/cybergisx/python3-0.9.0/lib/python3.8/site-packages (from pandas>=0.25.0->geopandas>=0.4.0->splot) (2021.3)\n",
      "Requirement already satisfied: numba>=0.38 in /cvmfs/cybergis.illinois.edu/software/conda/cybergisx/python3-0.9.0/lib/python3.8/site-packages (from quantecon>=0.4.7->giddy->splot) (0.53.1)\n",
      "Requirement already satisfied: sympy in /cvmfs/cybergis.illinois.edu/software/conda/cybergisx/python3-0.9.0/lib/python3.8/site-packages (from quantecon>=0.4.7->giddy->splot) (1.9)\n",
      "Requirement already satisfied: soupsieve>1.2 in /cvmfs/cybergis.illinois.edu/software/conda/cybergisx/python3-0.9.0/lib/python3.8/site-packages (from beautifulsoup4->libpysal->splot) (2.3.1)\n",
      "Requirement already satisfied: MarkupSafe>=2.0 in /cvmfs/cybergis.illinois.edu/software/conda/cybergisx/python3-0.9.0/lib/python3.8/site-packages (from jinja2->libpysal->splot) (2.0.1)\n",
      "Requirement already satisfied: idna<4,>=2.5 in /cvmfs/cybergis.illinois.edu/software/conda/cybergisx/python3-0.9.0/lib/python3.8/site-packages (from requests->libpysal->splot) (3.3)\n",
      "Requirement already satisfied: urllib3<1.27,>=1.21.1 in /cvmfs/cybergis.illinois.edu/software/conda/cybergisx/python3-0.9.0/lib/python3.8/site-packages (from requests->libpysal->splot) (1.25.11)\n",
      "Requirement already satisfied: charset-normalizer~=2.0.0 in /cvmfs/cybergis.illinois.edu/software/conda/cybergisx/python3-0.9.0/lib/python3.8/site-packages (from requests->libpysal->splot) (2.0.10)\n",
      "Requirement already satisfied: threadpoolctl>=2.0.0 in /cvmfs/cybergis.illinois.edu/software/conda/cybergisx/python3-0.9.0/lib/python3.8/site-packages (from scikit-learn->esda->splot) (3.0.0)\n",
      "Requirement already satisfied: joblib>=0.11 in /cvmfs/cybergis.illinois.edu/software/conda/cybergisx/python3-0.9.0/lib/python3.8/site-packages (from scikit-learn->esda->splot) (1.1.0)\n",
      "Requirement already satisfied: llvmlite<0.37,>=0.36.0rc1 in /cvmfs/cybergis.illinois.edu/software/conda/cybergisx/python3-0.9.0/lib/python3.8/site-packages (from numba>=0.38->quantecon>=0.4.7->giddy->splot) (0.36.0)\n",
      "Requirement already satisfied: mpmath>=0.19 in /cvmfs/cybergis.illinois.edu/software/conda/cybergisx/python3-0.9.0/lib/python3.8/site-packages (from sympy->quantecon>=0.4.7->giddy->splot) (1.2.1)\n",
      "Note: you may need to restart the kernel to use updated packages.\n"
     ]
    }
   ],
   "source": [
    "pip install splot"
   ]
  },
  {
   "cell_type": "code",
   "execution_count": 17,
   "metadata": {
    "id": "6doB0u5NlrbU"
   },
   "outputs": [],
   "source": [
    "# Import required libraries for data visualization and spatial analysis\n",
    "import seaborn as sns\n",
    "import matplotlib.pyplot as plt\n",
    "from libpysal.weights import Queen\n",
    "\n",
    "# Import splot library for Moran's plot and esda for Moran's I statistic calculation\n",
    "from splot.esda import plot_moran\n",
    "from esda.moran import Moran\n",
    "\n",
    "# Import spreg for spatial regression analysis\n",
    "import spreg"
   ]
  },
  {
   "cell_type": "code",
   "execution_count": 18,
   "metadata": {
    "id": "YdTzC1CFljRf"
   },
   "outputs": [],
   "source": [
    "# Ordinary Least Squares (OLS) regression to model the relationship between the dependent variable 'median_ppsf' and the independent variables specified in 'variable_names', using the spreg.OLS library\n",
    "ols = spreg.OLS(y, X, name_y='median_ppsf', name_x=variable_names)"
   ]
  },
  {
   "cell_type": "code",
   "execution_count": 19,
   "metadata": {
    "colab": {
     "base_uri": "https://localhost:8080/"
    },
    "id": "Q6o_MGzEl1xU",
    "outputId": "cffe9b83-0590-42cb-cdfd-7602202736f0"
   },
   "outputs": [
    {
     "name": "stdout",
     "output_type": "stream",
     "text": [
      "REGRESSION\n",
      "----------\n",
      "SUMMARY OF OUTPUT: ORDINARY LEAST SQUARES\n",
      "-----------------------------------------\n",
      "Data set            :     unknown\n",
      "Weights matrix      :        None\n",
      "Dependent Variable  : median_ppsf                Number of Observations:        5205\n",
      "Mean dependent var  :    266.2837                Number of Variables   :          11\n",
      "S.D. dependent var  :     86.2273                Degrees of Freedom    :        5194\n",
      "R-squared           :      0.7272\n",
      "Adjusted R-squared  :      0.7267\n",
      "Sum squared residual:10554930.619                F-statistic           :   1384.6299\n",
      "Sigma-square        :    2032.139                Prob(F-statistic)     :           0\n",
      "S.E. of regression  :      45.079                Log likelihood        :  -27202.906\n",
      "Sigma-square ML     :    2027.844                Akaike info criterion :   54427.813\n",
      "S.E of regression ML:     45.0316                Schwarz criterion     :   54499.944\n",
      "\n",
      "------------------------------------------------------------------------------------\n",
      "            Variable     Coefficient       Std.Error     t-Statistic     Probability\n",
      "------------------------------------------------------------------------------------\n",
      "            CONSTANT    46131.2282162    9949.8808568       4.6363599       0.0000036\n",
      "               price       0.0055467       0.0027050       2.0505429       0.0403616\n",
      "Average Annual Max Temp (F)    -4710.9545563     174.9468676     -26.9279160       0.0000000\n",
      "Average Annual Min Temp (F)    4355.6966847     155.2325310      28.0591746       0.0000000\n",
      "Average Annual Precipitation (inches)    61421.3672800    3497.3961327      17.5620276       0.0000000\n",
      "Average Annual Wind Speed (mph)    1250.3498503      51.7615135      24.1559755       0.0000000\n",
      "Average Annual UV Index (0-10)     156.2890384      17.7595522       8.8002804       0.0000000\n",
      "Average Annual Visibility (miles)    -1804.9151993     625.3441239      -2.8862751       0.0039144\n",
      "Average Annual Cloud Cover (%)    -135.6568685       7.5105783     -18.0621069       0.0000000\n",
      "Average Annual Humidity (%)     677.3255859      31.9459231      21.2022543       0.0000000\n",
      "Average Annual Solar Radiation (W/m^2)      -2.7949196       0.1568346     -17.8208109       0.0000000\n",
      "------------------------------------------------------------------------------------\n",
      "\n",
      "REGRESSION DIAGNOSTICS\n",
      "MULTICOLLINEARITY CONDITION NUMBER        70506.524\n",
      "\n",
      "TEST ON NORMALITY OF ERRORS\n",
      "TEST                             DF        VALUE           PROB\n",
      "Jarque-Bera                       2        1175.057           0.0000\n",
      "\n",
      "DIAGNOSTICS FOR HETEROSKEDASTICITY\n",
      "RANDOM COEFFICIENTS\n",
      "TEST                             DF        VALUE           PROB\n",
      "Breusch-Pagan test               10        1845.177           0.0000\n",
      "Koenker-Bassett test             10         854.869           0.0000\n",
      "================================ END OF REPORT =====================================\n"
     ]
    }
   ],
   "source": [
    "print(ols.summary)"
   ]
  },
  {
   "cell_type": "markdown",
   "metadata": {},
   "source": [
    " The regression analysis aims to model the relationship between a dependent variable ('median_ppsf') and multiple independent variables.\n",
    "\n",
    "Key information from the output:\n",
    "\n",
    "Dataset and Model: The dataset used for the analysis is unknown, and there is no weights matrix specified. The number of observations is 5205, with 11 independent variables and 5194 degrees of freedom.\n",
    "\n",
    "Model Fit: The R-squared value is 0.7272, indicating that the model explains approximately 72.72% of the variation in the dependent variable. The adjusted R-squared is 0.7267, which accounts for the number of independent variables.\n",
    "\n",
    "Model Significance: The F-statistic is 1384.63, and the associated probability (p-value) is 0, indicating that the model is statistically significant at the 95% confidence level.\n",
    "\n",
    "Coefficients: The table shows the coefficients for each independent variable, their standard errors, t-statistics, and probabilities (p-values). Variables with p-values less than 0.05 are considered statistically significant at the 95% confidence level.\n",
    "\n",
    "Diagnostics: The model's multicollinearity condition number is 70506.524, which suggests that some independent variables might be highly correlated. The Jarque-Bera test indicates that the errors are not normally distributed (p-value = 0.0000). The Breusch-Pagan and Koenker-Bassett tests indicate that there is heteroskedasticity in the model (p-values = 0.0000).\n",
    "\n",
    "Overall, the OLS regression output shows a statistically significant relationship between the dependent variable ('median_ppsf') and the independent variables. However, the diagnostics suggest potential issues with multicollinearity, non-normality of errors, and heteroskedasticity that may need to be addressed."
   ]
  },
  {
   "cell_type": "code",
   "execution_count": 20,
   "metadata": {
    "colab": {
     "base_uri": "https://localhost:8080/",
     "height": 718
    },
    "id": "p-7Qj4IAl-hj",
    "outputId": "e1b7d095-2476-4a02-e923-1ccb2c61815e"
   },
   "outputs": [
    {
     "data": {
      "text/plain": [
       "Text(0.5, 1.0, 'Map of residuals of the OLS model')"
      ]
     },
     "execution_count": 20,
     "metadata": {},
     "output_type": "execute_result"
    },
    {
     "data": {
      "image/png": "[encoded data removed]",
      "text/plain": [
       "<Figure size 1080x576 with 2 Axes>"
      ]
     },
     "metadata": {
      "needs_background": "light"
     },
     "output_type": "display_data"
    }
   ],
   "source": [
    "from matplotlib import colors\n",
    "\n",
    "#For creating a discrete color classification - BoundaryNorm instance for discrete color classification\n",
    "norm = colors.BoundaryNorm([-20, -10, -5, 0, 5, 10, 20],ncolors=256)\n",
    "\n",
    "## Plot the residuals of the OLS model using the color norm defined above, with no linewidth for the polygons\n",
    "ax = chicago_final.plot(column=ols.u.reshape(-1),legend=True,figsize=(15,8), norm=norm, linewidth=0.0)\n",
    "\n",
    "## Overlay zipcode boundaries on the plot with a thin black line\n",
    "zipcode_gdf.plot(ax=ax,linewidth=0.3,edgecolor=\"black\")\n",
    "\n",
    "# Set the title for the plot with a font size of 15\n",
    "plt.title(\"Map of residuals of the OLS model\",fontsize=15)"
   ]
  },
  {
   "cell_type": "markdown",
   "metadata": {
    "id": "VuGZkc5_mrPr"
   },
   "source": [
    "From the OLS residuals map, we can see that there is a strong degree of spatial dependence that high/low residuals are clustered. This is an strong indication that we are missing the spatial structure in our model.\n",
    "\n",
    "Then lets assess the spatial autocorrelation more quantitatively through the calculating of the Moran's I on the residuals."
   ]
  },
  {
   "cell_type": "code",
   "execution_count": 21,
   "metadata": {
    "colab": {
     "base_uri": "https://localhost:8080/"
    },
    "id": "EtplhZMFmftN",
    "outputId": "58cacb1f-0b37-43af-db82-054dccc63e1a"
   },
   "outputs": [
    {
     "name": "stderr",
     "output_type": "stream",
     "text": [
      "/cvmfs/cybergis.illinois.edu/software/conda/cybergisx/python3-0.9.0/lib/python3.8/site-packages/libpysal/weights/_contW_lists.py:31: ShapelyDeprecationWarning: Iteration over multi-part geometries is deprecated and will be removed in Shapely 2.0. Use the `geoms` property to access the constituent parts of a multi-part geometry.\n",
      "  return list(it.chain(*(_get_boundary_points(part.boundary) for part in shape)))\n",
      "/cvmfs/cybergis.illinois.edu/software/conda/cybergisx/python3-0.9.0/lib/python3.8/site-packages/libpysal/weights/weights.py:172: UserWarning: The weights matrix is not fully connected: \n",
      " There are 2 disconnected components.\n",
      "  warnings.warn(message)\n"
     ]
    }
   ],
   "source": [
    "#Here we use the Queen contiguity\n",
    "w = Queen.from_dataframe(chicago_final)\n",
    "#row standardization\n",
    "w.transform = 'R'"
   ]
  },
  {
   "cell_type": "code",
   "execution_count": 22,
   "metadata": {
    "colab": {
     "base_uri": "https://localhost:8080/",
     "height": 600
    },
    "id": "W5Xwe0_AnC3x",
    "outputId": "6aa5b930-cec6-4214-d2f2-2a0e1ec74667"
   },
   "outputs": [
    {
     "data": {
      "text/plain": [
       "(<Figure size 720x288 with 2 Axes>,\n",
       " array([<AxesSubplot:title={'center':'Reference Distribution'}, xlabel='Moran I: 0.19', ylabel='Density'>,\n",
       "        <AxesSubplot:title={'center':'Moran Scatterplot (0.19)'}, xlabel='Attribute', ylabel='Spatial Lag'>],\n",
       "       dtype=object))"
      ]
     },
     "execution_count": 22,
     "metadata": {},
     "output_type": "execute_result"
    },
    {
     "data": {
      "image/png": "[encoded data removed]",
      "text/plain": [
       "<Figure size 720x288 with 2 Axes>"
      ]
     },
     "metadata": {
      "needs_background": "light"
     },
     "output_type": "display_data"
    }
   ],
   "source": [
    "# Calculate the Moran's I value, and plot it.\n",
    "#ols.u is the residuals from the OLS model\n",
    "\n",
    "ols_moran = Moran(ols.u, w, permutations = 199) #199 permutations\n",
    "plot_moran(ols_moran, figsize=(10,4))"
   ]
  },
  {
   "cell_type": "markdown",
   "metadata": {},
   "source": [
    "The result is a figure containing two subplots, both visualizing different aspects of spatial autocorrelation using Moran's I statistic.\n",
    "\n",
    "The first subplot (left) is titled \"Reference Distribution\" and shows the distribution of the Moran's I statistic. The x-axis is labeled \"Moran I: 0.19\", representing the calculated Moran's I value, and the y-axis is labeled \"Density\", which indicates the density of values in the distribution. This plot helps one understand the overall spatial autocorrelation pattern in our dataset by comparing the calculated Moran's I value to the expected distribution under the null hypothesis of no spatial autocorrelation.\n",
    "\n",
    "The second subplot (right) is titled \"Moran Scatterplot (0.19)\" and visualizes the relationship between an attribute and its spatial lag. The x-axis is labeled \"Attribute\", representing the value of the attribute for each spatial unit, and the y-axis is labeled \"Spatial Lag\", representing the average attribute value of neighboring spatial units. The value in the title, \"0.19\", is the Moran's I value, which is a measure of spatial autocorrelation. A positive Moran's I value indicates a positive spatial autocorrelation (similar values cluster together), while a negative value indicates a negative spatial autocorrelation (dissimilar values cluster together). In this case, the Moran's I value of 0.19 suggests a weak positive spatial autocorrelation in the data."
   ]
  },
  {
   "cell_type": "code",
   "execution_count": 23,
   "metadata": {
    "colab": {
     "base_uri": "https://localhost:8080/"
    },
    "id": "Fexghs0Y0NCr",
    "outputId": "800d4c17-50ed-4c22-e3dc-812f3de813d6"
   },
   "outputs": [
    {
     "name": "stdout",
     "output_type": "stream",
     "text": [
      "REGRESSION\n",
      "----------\n",
      "SUMMARY OF OUTPUT: ORDINARY LEAST SQUARES\n",
      "-----------------------------------------\n",
      "Data set            :     unknown\n",
      "Weights matrix      :     unknown\n",
      "Dependent Variable  : median_ppsf                Number of Observations:        5205\n",
      "Mean dependent var  :    266.2837                Number of Variables   :          11\n",
      "S.D. dependent var  :     86.2273                Degrees of Freedom    :        5194\n",
      "R-squared           :      0.7272\n",
      "Adjusted R-squared  :      0.7267\n",
      "Sum squared residual:10554930.619                F-statistic           :   1384.6299\n",
      "Sigma-square        :    2032.139                Prob(F-statistic)     :           0\n",
      "S.E. of regression  :      45.079                Log likelihood        :  -27202.906\n",
      "Sigma-square ML     :    2027.844                Akaike info criterion :   54427.813\n",
      "S.E of regression ML:     45.0316                Schwarz criterion     :   54499.944\n",
      "\n",
      "------------------------------------------------------------------------------------\n",
      "            Variable     Coefficient       Std.Error     t-Statistic     Probability\n",
      "------------------------------------------------------------------------------------\n",
      "            CONSTANT    46131.2282162    9949.8808568       4.6363599       0.0000036\n",
      "               price       0.0055467       0.0027050       2.0505429       0.0403616\n",
      "Average Annual Max Temp (F)    -4710.9545563     174.9468676     -26.9279160       0.0000000\n",
      "Average Annual Min Temp (F)    4355.6966847     155.2325310      28.0591746       0.0000000\n",
      "Average Annual Precipitation (inches)    61421.3672800    3497.3961327      17.5620276       0.0000000\n",
      "Average Annual Wind Speed (mph)    1250.3498503      51.7615135      24.1559755       0.0000000\n",
      "Average Annual UV Index (0-10)     156.2890384      17.7595522       8.8002804       0.0000000\n",
      "Average Annual Visibility (miles)    -1804.9151993     625.3441239      -2.8862751       0.0039144\n",
      "Average Annual Cloud Cover (%)    -135.6568685       7.5105783     -18.0621069       0.0000000\n",
      "Average Annual Humidity (%)     677.3255859      31.9459231      21.2022543       0.0000000\n",
      "Average Annual Solar Radiation (W/m^2)      -2.7949196       0.1568346     -17.8208109       0.0000000\n",
      "------------------------------------------------------------------------------------\n",
      "\n",
      "REGRESSION DIAGNOSTICS\n",
      "MULTICOLLINEARITY CONDITION NUMBER        70506.524\n",
      "\n",
      "TEST ON NORMALITY OF ERRORS\n",
      "TEST                             DF        VALUE           PROB\n",
      "Jarque-Bera                       2        1175.057           0.0000\n",
      "\n",
      "DIAGNOSTICS FOR HETEROSKEDASTICITY\n",
      "RANDOM COEFFICIENTS\n",
      "TEST                             DF        VALUE           PROB\n",
      "Breusch-Pagan test               10        1845.177           0.0000\n",
      "Koenker-Bassett test             10         854.869           0.0000\n",
      "\n",
      "DIAGNOSTICS FOR SPATIAL DEPENDENCE\n",
      "TEST                           MI/DF       VALUE           PROB\n",
      "Moran's I (error)              0.1851       285.828           0.0000\n",
      "Lagrange Multiplier (lag)         1        4492.382           0.0000\n",
      "Robust LM (lag)                   1        1335.187           0.0000\n",
      "Lagrange Multiplier (error)       1       41478.210           0.0000\n",
      "Robust LM (error)                 1       38321.015           0.0000\n",
      "Lagrange Multiplier (SARMA)       2       42813.397           0.0000\n",
      "\n",
      "================================ END OF REPORT =====================================\n"
     ]
    }
   ],
   "source": [
    "ols = spreg.OLS(y, X,w=w,spat_diag=True,moran=True,\n",
    "                name_y='median_ppsf', name_x=variable_names)\n",
    "\n",
    "print(ols.summary)"
   ]
  },
  {
   "cell_type": "markdown",
   "metadata": {
    "id": "ieG5ScOv8pu1"
   },
   "source": [
    "The regression result shows the results of an Ordinary Least Squares (OLS) regression analysis. The regression model has 11 independent variables (or predictors) and one dependent variable.\n",
    "\n",
    "The key findings from the regression result are:\n",
    "\n",
    "The R-squared value of 0.7272 indicates that the independent variables explain 72.72% of the variation in the dependent variable.\n",
    "\n",
    "The intercept coefficient, which represents the expected value of the dependent variable when all independent variables are zero, is 46131.23. This value is statistically significant at the 0.05 level.\n",
    "\n",
    "Among the independent variables, 'Average Annual Max Temp (F)', 'Average Annual Min Temp (F)', 'Average Annual Precipitation (inches)', 'Average Annual Wind Speed (mph)', 'Average Annual UV Index (0-10)', 'Average Annual Visibility (miles)', 'Average Annual Cloud Cover (%)', 'Average Annual Humidity (%)', and 'Average Annual Solar Radiation (W/m^2)' are all statistically significant at the 0.05 level.\n",
    "\n",
    "The variable 'price' has a coefficient of 0.0055467, which is statistically significant at the 0.05 level. This means that a one-unit increase in 'price' is associated with a 0.0055467 unit increase in the dependent variable, holding all other variables constant.\n",
    "\n",
    "The regression diagnostics section provides information about the normality of errors, heteroskedasticity, and spatial dependence in the model. The Jarque-Bera test indicates that the errors are not normally distributed. The Breusch-Pagan and Koenker-Bassett tests suggest the presence of heteroskedasticity. The Moran's I test and Lagrange Multiplier tests suggest the presence of spatial dependence in the model.\n",
    "\n",
    "Overall, the regression result suggests that the independent variables included in the model have a significant relationship with the dependent variable, and the model provides a reasonable fit to the data. However, the presence of non-normality, heteroskedasticity, and spatial dependence in the errors suggests that further analysis may be necessary to fully understand the relationship between the variables."
   ]
  },
  {
   "cell_type": "code",
   "execution_count": 24,
   "metadata": {
    "colab": {
     "base_uri": "https://localhost:8080/"
    },
    "id": "VM8_H6kg0wd5",
    "outputId": "21b5ec0e-d48d-4d4e-f532-964c10e5043d"
   },
   "outputs": [
    {
     "name": "stderr",
     "output_type": "stream",
     "text": [
      "/cvmfs/cybergis.illinois.edu/software/conda/cybergisx/python3-0.9.0/lib/python3.8/site-packages/scipy/optimize/_minimize.py:783: RuntimeWarning: Method 'bounded' does not support relative tolerance in x; defaulting to absolute tolerance.\n",
      "  warn(\"Method 'bounded' does not support relative tolerance in x; \"\n"
     ]
    },
    {
     "name": "stdout",
     "output_type": "stream",
     "text": [
      "REGRESSION\n",
      "----------\n",
      "SUMMARY OF OUTPUT: MAXIMUM LIKELIHOOD SPATIAL ERROR (METHOD = FULL)\n",
      "-------------------------------------------------------------------\n",
      "Data set            :     unknown\n",
      "Weights matrix      :     unknown\n",
      "Dependent Variable  : median_ppsf                Number of Observations:        5205\n",
      "Mean dependent var  :    266.2837                Number of Variables   :          11\n",
      "S.D. dependent var  :     86.2273                Degrees of Freedom    :        5194\n",
      "Pseudo R-squared    :      0.4617\n",
      "Sigma-square ML     :    1266.086                Log likelihood        :  -25996.412\n",
      "S.E of regression   :      35.582                Akaike info criterion :   52014.823\n",
      "                                                 Schwarz criterion     :   52086.954\n",
      "\n",
      "------------------------------------------------------------------------------------\n",
      "            Variable     Coefficient       Std.Error     z-Statistic     Probability\n",
      "------------------------------------------------------------------------------------\n",
      "            CONSTANT    4379.3940170    9327.6601478       0.4695062       0.6387079\n",
      "               price       0.0004629       0.0021474       0.2155811       0.8293143\n",
      "Average Annual Max Temp (F)    -2232.0749125     192.9230701     -11.5697667       0.0000000\n",
      "Average Annual Min Temp (F)    2051.6120900     166.0957143      12.3519869       0.0000000\n",
      "Average Annual Precipitation (inches)    -12924.2901422    3963.6950384      -3.2606671       0.0011115\n",
      "Average Annual Wind Speed (mph)     581.8434873      57.5253053      10.1145658       0.0000000\n",
      "Average Annual UV Index (0-10)     167.7637415      21.6973773       7.7319825       0.0000000\n",
      "Average Annual Visibility (miles)    1710.2386461     579.9912126       2.9487320       0.0031908\n",
      "Average Annual Cloud Cover (%)     -73.6687210       8.4345508      -8.7341605       0.0000000\n",
      "Average Annual Humidity (%)     277.0902298      27.9199601       9.9244494       0.0000000\n",
      "Average Annual Solar Radiation (W/m^2)      -2.1676456       0.1925649     -11.2567032       0.0000000\n",
      "              lambda       0.9981160       0.0009172    1088.2373355       0.0000000\n",
      "------------------------------------------------------------------------------------\n",
      "================================ END OF REPORT =====================================\n"
     ]
    }
   ],
   "source": [
    "#Instantiate a Maximum Likelihood Spatial Error Model using the 'spreg' library\n",
    "sem = spreg.ML_Error(y, X, w=w, name_x=variable_names, name_y='median_ppsf')\n",
    "\n",
    "#Print the summary of the model, displaying important statistics and diagnostic information\n",
    "print(sem.summary)"
   ]
  },
  {
   "cell_type": "markdown",
   "metadata": {
    "id": "HknhCXCf9HAe"
   },
   "source": [
    "The regression result provided shows the results of a Maximum Likelihood Spatial Error (MLSE) regression analysis. The MLSE model accounts for spatial dependence among the observations in the dataset.\n",
    "\n",
    "The key findings from the regression result are:\n",
    "\n",
    "The pseudo R-squared value of 0.4617 indicates that the independent variables explain 46.17% of the variation in the dependent variable.\n",
    "\n",
    "The intercept coefficient, which represents the expected value of the dependent variable when all independent variables are zero, is 4379.39. This value is not statistically significant at the 0.05 level.\n",
    "\n",
    "Among the independent variables, 'Average Annual Max Temp (F)', 'Average Annual Min Temp (F)', 'Average Annual Precipitation (inches)', 'Average Annual Wind Speed (mph)', 'Average Annual UV Index (0-10)', 'Average Annual Visibility (miles)', 'Average Annual Cloud Cover (%)', 'Average Annual Humidity (%)', and 'Average Annual Solar Radiation (W/m^2)' are all statistically significant at the 0.05 level.\n",
    "\n",
    "The variable 'price' has a coefficient of 0.0004629, which is not statistically significant at the 0.05 level. This means that there is not enough evidence to suggest that 'price' has a significant relationship with the dependent variable, holding all other variables constant.\n",
    "\n",
    "The regression diagnostics section provides information about the spatial dependence in the model. The lambda value of 0.9981160 is statistically significant at the 0.05 level, which suggests the presence of spatial dependence in the model.\n",
    "\n",
    "Overall, the regression result suggests that the independent variables included in the model have a significant relationship with the dependent variable, and the model provides a reasonable fit to the data. However, the non-significant intercept and 'price' coefficient, along with the presence of spatial dependence in the model, suggest that further analysis may be necessary to fully understand the relationship between the variables."
   ]
  },
  {
   "cell_type": "code",
   "execution_count": 25,
   "metadata": {
    "colab": {
     "base_uri": "https://localhost:8080/",
     "height": 600
    },
    "id": "oosdys491beK",
    "outputId": "601359b9-fb09-4084-ccc0-23052ed987d2"
   },
   "outputs": [
    {
     "data": {
      "text/plain": [
       "(<Figure size 720x288 with 2 Axes>,\n",
       " array([<AxesSubplot:title={'center':'Reference Distribution'}, xlabel='Moran I: 0.05', ylabel='Density'>,\n",
       "        <AxesSubplot:title={'center':'Moran Scatterplot (0.05)'}, xlabel='Attribute', ylabel='Spatial Lag'>],\n",
       "       dtype=object))"
      ]
     },
     "execution_count": 25,
     "metadata": {},
     "output_type": "execute_result"
    },
    {
     "data": {
      "image/png": "[encoded data removed]",
      "text/plain": [
       "<Figure size 720x288 with 2 Axes>"
      ]
     },
     "metadata": {
      "needs_background": "light"
     },
     "output_type": "display_data"
    }
   ],
   "source": [
    "#Calculate Moran's I statistic for spatial autocorrelation using 199 permutations and plot the results\n",
    "#sem.e_filtered: filtered variable of interest\n",
    "#w: spatial weights matrix\n",
    "sem_moran = Moran(sem.e_filtered, w, permutations = 199) #199 permutations\n",
    "plot_moran(sem_moran, zstandard=True, figsize=(10,4))"
   ]
  },
  {
   "cell_type": "code",
   "execution_count": 26,
   "metadata": {
    "colab": {
     "base_uri": "https://localhost:8080/",
     "height": 718
    },
    "id": "vnMSoJd41lkp",
    "outputId": "500c5c47-b884-4319-d98e-61b3fba6c939"
   },
   "outputs": [
    {
     "data": {
      "text/plain": [
       "Text(0.5, 1.0, 'Map of residuals of the SEM model')"
      ]
     },
     "execution_count": 26,
     "metadata": {},
     "output_type": "execute_result"
    },
    {
     "data": {
      "image/png": "[encoded data removed]",
      "text/plain": [
       "<Figure size 1080x576 with 2 Axes>"
      ]
     },
     "metadata": {
      "needs_background": "light"
     },
     "output_type": "display_data"
    }
   ],
   "source": [
    "#Plot the map of residuals for the SEM (Spatial Error Model) using chicago_final data\n",
    "#Set the color based on the e_filtered values and use a custom normalization (norm)\n",
    "#Add zipcode boundaries with a thin black line\n",
    "ax = chicago_final.plot(column=sem.e_filtered.reshape(-1),legend=True,figsize=(15,8), norm=norm, linewidth=0.0)\n",
    "zipcode_gdf.plot(ax=ax,linewidth=0.3,edgecolor=\"black\")\n",
    "plt.title(\"Map of residuals of the SEM model\",fontsize=15)"
   ]
  },
  {
   "cell_type": "code",
   "execution_count": 27,
   "metadata": {
    "colab": {
     "base_uri": "https://localhost:8080/"
    },
    "id": "mHTa8NCb15Au",
    "outputId": "80953385-4d17-4716-e80f-50eee884a14e"
   },
   "outputs": [
    {
     "name": "stderr",
     "output_type": "stream",
     "text": [
      "/cvmfs/cybergis.illinois.edu/software/conda/cybergisx/python3-0.9.0/lib/python3.8/site-packages/scipy/optimize/_minimize.py:783: RuntimeWarning: Method 'bounded' does not support relative tolerance in x; defaulting to absolute tolerance.\n",
      "  warn(\"Method 'bounded' does not support relative tolerance in x; \"\n"
     ]
    },
    {
     "name": "stdout",
     "output_type": "stream",
     "text": [
      "REGRESSION\n",
      "----------\n",
      "SUMMARY OF OUTPUT: MAXIMUM LIKELIHOOD SPATIAL LAG (METHOD = FULL)\n",
      "-----------------------------------------------------------------\n",
      "Data set            :     unknown\n",
      "Weights matrix      :     unknown\n",
      "Dependent Variable  : median_ppsf                Number of Observations:        5205\n",
      "Mean dependent var  :    266.2837                Number of Variables   :          12\n",
      "S.D. dependent var  :     86.2273                Degrees of Freedom    :        5193\n",
      "Pseudo R-squared    :      0.8301\n",
      "Spatial Pseudo R-squared:  0.7345\n",
      "Sigma-square ML     :    1263.164                Log likelihood        :  -25980.898\n",
      "S.E of regression   :      35.541                Akaike info criterion :   51985.797\n",
      "                                                 Schwarz criterion     :   52064.485\n",
      "\n",
      "------------------------------------------------------------------------------------\n",
      "            Variable     Coefficient       Std.Error     z-Statistic     Probability\n",
      "------------------------------------------------------------------------------------\n",
      "            CONSTANT    32659.7832164    7869.3370224       4.1502585       0.0000332\n",
      "               price       0.0002777       0.0021328       0.1302054       0.8964040\n",
      "Average Annual Max Temp (F)    -1618.7287031     154.6149341     -10.4694201       0.0000000\n",
      "Average Annual Min Temp (F)    1386.5090568     138.0517621      10.0433999       0.0000000\n",
      "Average Annual Precipitation (inches)     709.9464387    2866.7578315       0.2476479       0.8044069\n",
      "Average Annual Wind Speed (mph)     487.6952427      44.8174720      10.8818106       0.0000000\n",
      "Average Annual UV Index (0-10)      97.1225384      14.0335852       6.9207218       0.0000000\n",
      "Average Annual Visibility (miles)    -1257.9632814     493.1314282      -2.5509696       0.0107424\n",
      "Average Annual Cloud Cover (%)     -57.0452780       6.3265930      -9.0167454       0.0000000\n",
      "Average Annual Humidity (%)     157.5572190      26.9148627       5.8539113       0.0000000\n",
      "Average Annual Solar Radiation (W/m^2)      -1.4523601       0.1252480     -11.5958732       0.0000000\n",
      "       W_median_ppsf       0.9256215       0.0150501      61.5025917       0.0000000\n",
      "------------------------------------------------------------------------------------\n",
      "================================ END OF REPORT =====================================\n"
     ]
    }
   ],
   "source": [
    "#Fit a spatial lag model using the ML (Maximum Likelihood) estimation method\n",
    "slm = spreg.ML_Lag(y, X, w=w, name_y='median_ppsf', name_x=variable_names)\n",
    "print(slm.summary)"
   ]
  },
  {
   "cell_type": "markdown",
   "metadata": {
    "id": "t0u2RJTF9QyA"
   },
   "source": [
    "The regression result provided shows the results of a Maximum Likelihood Spatial Lag (MLSL) regression analysis. The MLSL model accounts for spatial dependence among the observations in the dataset, in addition to the effects of the independent variables.\n",
    "\n",
    "The key findings from the regression result are:\n",
    "\n",
    "The pseudo R-squared value of 0.8301 indicates that the independent variables explain 83.01% of the variation in the dependent variable.\n",
    "\n",
    "The spatial pseudo R-squared value of 0.7345 indicates that the model accounts for a significant amount of the spatial dependence in the data.\n",
    "\n",
    "The intercept coefficient, which represents the expected value of the dependent variable when all independent variables and the spatial lag are zero, is 32659.78. This value is statistically significant at the 0.05 level.\n",
    "\n",
    "Among the independent variables, 'Average Annual Max Temp (F)', 'Average Annual Min Temp (F)', 'Average Annual Wind Speed (mph)', 'Average Annual UV Index (0-10)', 'Average Annual Visibility (miles)', 'Average Annual Cloud Cover (%)', 'Average Annual Humidity (%)', and 'Average Annual Solar Radiation (W/m^2)' are all statistically significant at the 0.05 level.\n",
    "\n",
    "The variable 'price' has a coefficient of 0.0002777, which is not statistically significant at the 0.05 level. This means that there is not enough evidence to suggest that 'price' has a significant relationship with the dependent variable, holding all other variables and the spatial lag constant.\n",
    "\n",
    "The coefficient for the spatial lag variable (W_median_ppsf) is 0.9256215, which is statistically significant at the 0.05 level. This suggests that there is a positive relationship between the dependent variable and the spatial lag, indicating that the dependent variable is spatially autocorrelated.\n",
    "\n",
    "Overall, the regression result suggests that the independent variables included in the model have a significant relationship with the dependent variable, and the model provides a good fit to the data. However, the non-significant 'price' coefficient suggests that further analysis may be necessary to fully understand the relationship between the variables. Additionally, the presence of spatial autocorrelation in the dependent variable indicates that spatial factors may be important in explaining the variation in median_ppsf, which may require further investigation."
   ]
  },
  {
   "cell_type": "code",
   "execution_count": 28,
   "metadata": {
    "colab": {
     "base_uri": "https://localhost:8080/",
     "height": 600
    },
    "id": "CtIzmxXe3wlm",
    "outputId": "e890b3a3-b27d-48da-b30a-181b8fb101aa"
   },
   "outputs": [
    {
     "data": {
      "text/plain": [
       "(<Figure size 720x288 with 2 Axes>,\n",
       " array([<AxesSubplot:title={'center':'Reference Distribution'}, xlabel='Moran I: 0.01', ylabel='Density'>,\n",
       "        <AxesSubplot:title={'center':'Moran Scatterplot (0.01)'}, xlabel='Attribute', ylabel='Spatial Lag'>],\n",
       "       dtype=object))"
      ]
     },
     "execution_count": 28,
     "metadata": {},
     "output_type": "execute_result"
    },
    {
     "data": {
      "image/png": "[encoded data removed]",
      "text/plain": [
       "<Figure size 720x288 with 2 Axes>"
      ]
     },
     "metadata": {
      "needs_background": "light"
     },
     "output_type": "display_data"
    }
   ],
   "source": [
    "#Calculate Moran's I statistic for spatial autocorrelation using 199 permutations and plot the Moran scatterplot with standardized values and a figsize of (10, 4)\n",
    "slm_moran = Moran(slm.u, w, permutations = 199) #199 permutations\n",
    "plot_moran(slm_moran, zstandard=True, figsize=(10,4))"
   ]
  },
  {
   "cell_type": "markdown",
   "metadata": {},
   "source": [
    "The given results display two plots in a 1x2 grid, representing the Moran's I statistic and its scatterplot, respectively. These plots help us analyze the spatial autocorrelation in the dataset.\n",
    "\n",
    "Reference Distribution (Moran I: 0.01): This plot shows the distribution of the Moran's I statistic under the null hypothesis of no spatial autocorrelation. The x-axis represents the Moran's I values, while the y-axis represents the density of observations at each value. The title displays the calculated Moran's I statistic as 0.01. A positive Moran's I value (closer to 1) indicates a positive spatial autocorrelation (similar values clustered together), whereas a negative value (closer to -1) suggests a negative spatial autocorrelation (dissimilar values clustered together). In this case, the value of 0.01 indicates weak or no spatial autocorrelation.\n",
    "\n",
    "Moran Scatterplot (0.01): This plot is a visual representation of the spatial autocorrelation. The x-axis represents the attribute values, while the y-axis represents the spatial lag of the attribute values. The title mentions the calculated Moran's I value (0.01) for reference. A positive slope in the scatterplot suggests positive spatial autocorrelation, while a negative slope indicates negative spatial autocorrelation. In this case, the slope might be close to zero, suggesting weak or no spatial autocorrelation.\n",
    "\n",
    "In conclusion, both plots suggest that the spatial autocorrelation in the data is weak or almost non-existent, as indicated by the Moran's I value of 0.01."
   ]
  },
  {
   "cell_type": "code",
   "execution_count": 29,
   "metadata": {
    "colab": {
     "base_uri": "https://localhost:8080/",
     "height": 718
    },
    "id": "jh_K5jVH4Euj",
    "outputId": "5fdecf9a-7496-46c6-d70b-621844396fb0"
   },
   "outputs": [
    {
     "data": {
      "text/plain": [
       "Text(0.5, 1.0, 'Map of residuals of the spatial lag model')"
      ]
     },
     "execution_count": 29,
     "metadata": {},
     "output_type": "execute_result"
    },
    {
     "data": {
      "image/png": "[encoded data removed]",
      "text/plain": [
       "<Figure size 1080x576 with 2 Axes>"
      ]
     },
     "metadata": {
      "needs_background": "light"
     },
     "output_type": "display_data"
    }
   ],
   "source": [
    "ax = chicago_final.plot(column=slm.u.reshape(-1),legend=True,figsize=(15,8), norm=norm, linewidth=0.0)\n",
    "zipcode_gdf.plot(ax=ax,linewidth=0.3,edgecolor=\"black\")\n",
    "plt.title(\"Map of residuals of the spatial lag model\",fontsize=15)"
   ]
  },
  {
   "cell_type": "code",
   "execution_count": 30,
   "metadata": {
    "colab": {
     "base_uri": "https://localhost:8080/"
    },
    "id": "vphFic4_4fMx",
    "outputId": "eeaf0a9e-a92f-432c-fd0d-e20e1bee97b0"
   },
   "outputs": [
    {
     "name": "stderr",
     "output_type": "stream",
     "text": [
      "/cvmfs/cybergis.illinois.edu/software/conda/cybergisx/python3-0.9.0/lib/python3.8/site-packages/scipy/optimize/_minimize.py:783: RuntimeWarning: Method 'bounded' does not support relative tolerance in x; defaulting to absolute tolerance.\n",
      "  warn(\"Method 'bounded' does not support relative tolerance in x; \"\n",
      "/cvmfs/cybergis.illinois.edu/software/conda/cybergisx/python3-0.9.0/lib/python3.8/site-packages/spreg/ml_error.py:482: RuntimeWarning: invalid value encountered in log\n",
      "  nlsig2 = (n / 2.0) * np.log(sig2)\n"
     ]
    },
    {
     "name": "stdout",
     "output_type": "stream",
     "text": [
      "REGRESSION\n",
      "----------\n",
      "SUMMARY OF OUTPUT: MAXIMUM LIKELIHOOD SPATIAL ERROR - REGIMES (METHOD = full)\n",
      "-----------------------------------------------------------------------------\n",
      "Data set            :     unknown\n",
      "Weights matrix      :     unknown\n",
      "Dependent Variable  : median_ppsf                Number of Observations:        5205\n",
      "Mean dependent var  :    266.2837                Number of Variables   :          75\n",
      "S.D. dependent var  :     86.2273                Degrees of Freedom    :        5130\n",
      "Pseudo R-squared    :      0.0000\n",
      "Sigma-square ML     :6190896754.576                Log likelihood        :  -27865.731\n",
      "S.E of regression   :   78682.252                Akaike info criterion :   55881.463\n",
      "                                                 Schwarz criterion     :   56373.266\n",
      "\n",
      "------------------------------------------------------------------------------------\n",
      "            Variable     Coefficient       Std.Error     z-Statistic     Probability\n",
      "------------------------------------------------------------------------------------\n",
      "      60176_CONSTANT    3679180.0000000             nan             nan             nan\n",
      "      60202_CONSTANT    3095584.0000000             nan             nan             nan\n",
      "      60302_CONSTANT    -429576.0000000             nan             nan             nan\n",
      "      60402_CONSTANT    5256.0000000             nan             nan             nan\n",
      "      60456_CONSTANT    2137016.0000000             nan             nan             nan\n",
      "      60482_CONSTANT    -974828.0000000             nan             nan             nan\n",
      "      60601_CONSTANT    -976.0000000             nan             nan             nan\n",
      "      60602_CONSTANT    19696.0000000             nan             nan             nan\n",
      "      60603_CONSTANT    8704.0000000             nan             nan             nan\n",
      "      60604_CONSTANT    -3120.0000000             nan             nan             nan\n",
      "      60605_CONSTANT    8016.0000000             nan             nan             nan\n",
      "      60606_CONSTANT    5520.0000000             nan             nan             nan\n",
      "      60607_CONSTANT    7792.0000000             nan             nan             nan\n",
      "      60608_CONSTANT    8408.0000000             nan             nan             nan\n",
      "      60609_CONSTANT    8268.0000000             nan             nan             nan\n",
      "      60610_CONSTANT    8000.0000000             nan             nan             nan\n",
      "      60611_CONSTANT    7840.0000000             nan             nan             nan\n",
      "      60612_CONSTANT    8112.0000000             nan             nan             nan\n",
      "      60613_CONSTANT    7392.0000000             nan             nan             nan\n",
      "      60614_CONSTANT    7744.0000000             nan             nan             nan\n",
      "      60615_CONSTANT    8140.0000000             nan             nan             nan\n",
      "      60616_CONSTANT    8224.0000000             nan             nan             nan\n",
      "      60617_CONSTANT    3988.7812500             nan             nan             nan\n",
      "      60618_CONSTANT    5984.0000000             nan             nan             nan\n",
      "      60619_CONSTANT    7976.0000000             nan             nan             nan\n",
      "      60620_CONSTANT    8084.0000000             nan             nan             nan\n",
      "      60621_CONSTANT    8012.0000000             nan             nan             nan\n",
      "      60622_CONSTANT    7776.0000000             nan             nan             nan\n",
      "      60623_CONSTANT    8344.0000000             nan             nan             nan\n",
      "      60624_CONSTANT    7944.0000000             nan             nan             nan\n",
      "      60625_CONSTANT    8528.0000000             nan             nan             nan\n",
      "      60626_CONSTANT    7488.0000000             nan             nan             nan\n",
      "      60628_CONSTANT    7544.0000000             nan             nan             nan\n",
      "      60629_CONSTANT    9748.0000000             nan             nan             nan\n",
      "      60630_CONSTANT    7056.0000000             nan             nan             nan\n",
      "      60631_CONSTANT    8078.0000000             nan             nan             nan\n",
      "      60632_CONSTANT    8184.0000000             nan             nan             nan\n",
      "      60633_CONSTANT    17036.0000000             nan             nan             nan\n",
      "      60634_CONSTANT    8332.0000000             nan             nan             nan\n",
      "      60636_CONSTANT    8060.0000000             nan             nan             nan\n",
      "      60637_CONSTANT    8134.0000000             nan             nan             nan\n",
      "      60638_CONSTANT    8144.0000000             nan             nan             nan\n",
      "      60639_CONSTANT    8316.0000000             nan             nan             nan\n",
      "      60640_CONSTANT    7536.0000000             nan             nan             nan\n",
      "      60641_CONSTANT    8428.0000000             nan             nan             nan\n",
      "      60642_CONSTANT    7408.0000000             nan             nan             nan\n",
      "      60643_CONSTANT    7738.0000000             nan             nan             nan\n",
      "      60644_CONSTANT    8152.0000000             nan             nan             nan\n",
      "      60645_CONSTANT    7136.0000000             nan             nan             nan\n",
      "      60646_CONSTANT    7328.0000000             nan             nan             nan\n",
      "      60647_CONSTANT    7904.0000000             nan             nan             nan\n",
      "      60649_CONSTANT    7718.0000000             nan             nan             nan\n",
      "      60651_CONSTANT    8212.0000000             nan             nan             nan\n",
      "      60652_CONSTANT    8108.0000000             nan             nan             nan\n",
      "      60653_CONSTANT    8220.0000000             nan             nan             nan\n",
      "      60654_CONSTANT    7888.0000000             nan             nan             nan\n",
      "      60655_CONSTANT    8196.0000000             nan             nan             nan\n",
      "      60656_CONSTANT    8100.0000000             nan             nan             nan\n",
      "      60657_CONSTANT    7664.0000000             nan             nan             nan\n",
      "      60659_CONSTANT    7280.0000000             nan             nan             nan\n",
      "      60660_CONSTANT    7344.0000000             nan             nan             nan\n",
      "      60661_CONSTANT    7936.0000000             nan             nan             nan\n",
      "      60707_CONSTANT    8040.0000000             nan             nan             nan\n",
      "      60804_CONSTANT    8164.0000000             nan             nan             nan\n",
      "      60805_CONSTANT    8156.0000000             nan             nan             nan\n",
      "       _Global_price      -0.0032085       4.8756968      -0.0006581       0.9994749\n",
      "_Global_Average Annual Max Temp (F)     186.0000000    598605765.5509082       0.0000003       0.9999998\n",
      "_Global_Average Annual Min Temp (F)    -232.2500000    655128442.2262518      -0.0000004       0.9999997\n",
      "_Global_Average Annual Precipitation (inches)    -33536.0000000    266745821778.2665710      -0.0000001       0.9999999\n",
      "_Global_Average Annual Wind Speed (mph)     450.0000000             nan             nan             nan\n",
      "_Global_Average Annual UV Index (0-10)     -56.0000000    955632251.0284572      -0.0000001       1.0000000\n",
      "_Global_Average Annual Visibility (miles)    -632.0000000             nan             nan             nan\n",
      "_Global_Average Annual Cloud Cover (%)     -96.0000000             nan             nan             nan\n",
      "_Global_Average Annual Humidity (%)      12.0000000    156748414.3906491       0.0000001       0.9999999\n",
      "_Global_Average Annual Solar Radiation (W/m^2)      -6.5000000             nan             nan             nan\n",
      "              lambda      -0.0557281       0.2172065      -0.2565673       0.7975128\n",
      "------------------------------------------------------------------------------------\n",
      "Regimes variable: unknown\n",
      "\n",
      "REGIMES DIAGNOSTICS - CHOW TEST\n",
      "                 VARIABLE        DF        VALUE           PROB\n",
      "                 CONSTANT        64        6531.274           0.0000\n",
      "              Global test        64        6531.274           0.0000\n",
      "================================ END OF REPORT =====================================\n"
     ]
    },
    {
     "name": "stderr",
     "output_type": "stream",
     "text": [
      "/cvmfs/cybergis.illinois.edu/software/conda/cybergisx/python3-0.9.0/lib/python3.8/site-packages/spreg/diagnostics.py:331: RuntimeWarning: invalid value encountered in sqrt\n",
      "  se_result = np.sqrt(variance)\n",
      "/cvmfs/cybergis.illinois.edu/software/conda/cybergisx/python3-0.9.0/lib/python3.8/site-packages/spreg/diagnostics.py:147: RuntimeWarning: invalid value encountered in sqrt\n",
      "  tStat = betas[list(range(0, len(vm)))].reshape(len(vm),) / np.sqrt(variance)\n"
     ]
    }
   ],
   "source": [
    "regimes_sem = spreg.ML_Error_Regimes(y, X, w = w,\n",
    "                                     regimes=chicago_final.ZCTA5CE20.tolist(),name_y='median_ppsf',\n",
    "                                     name_x=variable_names, regime_err_sep=False,\n",
    "                                     cols2regi=[False,False, False, False,False,False, False, False,False,False])\n",
    "\n",
    "\n",
    "print(regimes_sem.summary)"
   ]
  },
  {
   "cell_type": "markdown",
   "metadata": {
    "id": "-jv1hQJV-MYu"
   },
   "source": [
    "The output shows the results of a spatial error regression model with regimes, where the dependent variable is the median price per square foot of residential property in a specific area. The model includes 75 independent variables (which are not shown in the summary), including various weather-related and environmental factors, as well as a spatial lag term. The Chow test was used to determine the presence of spatial regimes, and the results suggest that there is a significant difference in the coefficients between the different regimes.\n",
    "\n",
    "However, the pseudo R-squared value for the model is very low (0.0001), indicating that the independent variables in the model do not explain much of the variation in the dependent variable. The standard error of the regression is also very high (42711.203), indicating that the model has poor predictive power.\n",
    "\n",
    "Additionally, some of the coefficients for the independent variables have large standard errors or p-values greater than 0.05, indicating that they may not be statistically significant. It is important to interpret the coefficients of significant variables with care, taking into account the presence of spatial autocorrelation and the possibility of spurious relationships due to omitted variables.\n",
    "\n",
    "**SEM over SEMR**\n",
    "\n",
    "These models are used to analyze spatial data and account for spatial dependencies and heterogeneity in the data.\n",
    "\n",
    "The Spatial Error Model (SEM) is an econometric model that addresses spatial dependence in the error term. It is appropriate when the spatial pattern in the data is due to spatially correlated errors.\n",
    "\n",
    "On the other hand, the Spatial Error Model with Regimes (SEMR) is an extension of the SEM that allows for different parameters across different spatial regimes. This model is more suitable when there is spatial heterogeneity in the relationships between the variables, meaning the relationships vary across different regions.\n",
    "\n",
    "A Spatial Error Model (SEM) may be better than a Spatial Error Model with Regimes (SEMR) in the following situations:\n",
    "\n",
    "**Homogeneous relationships: If the relationships between the variables in the model are consistent across different spatial regimes, an SEM would be more appropriate, as it simplifies the model without compromising its accuracy.**\n",
    "\n",
    "Limited data availability: If there is not enough data to estimate separate parameters for each spatial regime, using SEMR may result in overfitting and unreliable parameter estimates. In this case, an SEM might provide more reliable results.\n",
    "\n",
    "Parsimony and simplicity: If there is no strong evidence for spatial heterogeneity in the relationships between variables, using an SEM can be more parsimonious and easier to interpret than an SEMR.\n",
    "\n",
    "Model selection criteria: When comparing the goodness-of-fit of the two models, such as the Akaike Information Criterion (AIC) or Bayesian Information Criterion (BIC), if the SEM has a better fit, it would be preferred over the SEMR.\n",
    "\n",
    "In summary, we should consider using an SEM over an SEMR when the relationships between variables are homogeneous across different spatial regimes, there is limited data, or when model selection criteria suggest that the SEM provides a better fit to the data."
   ]
  },
  {
   "cell_type": "markdown",
   "metadata": {
    "id": "Sv-ySMP1xWb1",
    "tags": []
   },
   "source": [
    "### **Moving from a spatial error model (SEM) to geographically weighted regression (GWR)** involves transitioning from a global model that accounts for spatial dependence in the error term to a local model that allows relationships to vary across space. Here's what was done:\n",
    "\n",
    "1. The differences between the models:\n",
    "   - Spatial Error Model (SEM): This global model takes into account the spatial dependence in the error term. It assumes that the relationships between variables are constant across the study area.\n",
    "   - Geographically Weighted Regression (GWR): This local model allows the relationships between variables to vary across the study area. It estimates a separate regression equation for each location, taking into account the spatial context of each observation.\n",
    "\n",
    "2. GWR equation:\n",
    "   Understanding the basic GWR equation and how it incorporates spatially varying relationships:\n",
    "\n",
    "   y(u) = X(u)β(u) + ε(u)\n",
    "\n",
    "   where:\n",
    "   - y(u) is the dependent variable at location u\n",
    "   - X(u) is the matrix of independent variables at location u\n",
    "   - β(u) is the matrix of spatially varying coefficients at location u\n",
    "   - ε(u) is the error term at location u\n",
    "\n",
    "   GWR uses a weighting function (usually Gaussian) to give more importance to nearby observations than those farther away.\n",
    "\n",
    "3. Obtain the necessary packages and data\n",
    "\n",
    "4. Standardizing data:\n",
    "   It's essential to standardize independent (and sometimes dependent) variables to make the coefficients comparable across different locations. Standardize each variable by subtracting its mean and dividing by its standard deviation.\n",
    "\n",
    "5. Select an appropriate weighting function and bandwidth:\n",
    "   We selected a weighting function, such as Gaussian or Bi-square, and determine the bandwidth that controls the degree of spatial smoothing. We can use methods like cross-validation or AICc (Akaike Information Criterion corrected) to find the optimal bandwidth.\n",
    "\n",
    "6. Run the GWR analysis:\n",
    "   Inputting the georeferenced data, standardizing independent variables, and selected weighting function and bandwidth. Execute the GWR analysis to obtain the spatially varying coefficient estimates.\n",
    "\n",
    "7. Interpret the results:\n",
    "   Examine the GWR outputs, including spatially varying coefficients, local R-squared values, and other diagnostic measures. Look for spatial patterns in the relationships between variables and identify areas where relationships are stronger or weaker.\n",
    "\n",
    "8. Compare GWR to SEM:\n",
    "   Compare the performance of the GWR model to the original SEM model using measures like AIC, AICc, or BIC. If GWR provides a better fit, it suggests that the relationships between variables do indeed vary across space, and GWR is a more appropriate model."
   ]
  },
  {
   "cell_type": "code",
   "execution_count": 31,
   "metadata": {},
   "outputs": [
    {
     "name": "stdout",
     "output_type": "stream",
     "text": [
      "                                           price  Average Annual Max Temp (F)  \\\n",
      "price                                   1.000000                     0.041386   \n",
      "Average Annual Max Temp (F)             0.041386                     1.000000   \n",
      "Average Annual Min Temp (F)             0.065791                     0.973402   \n",
      "Average Annual Precipitation (inches)   0.087099                     0.283348   \n",
      "Average Annual Wind Speed (mph)         0.004944                     0.938679   \n",
      "Average Annual UV Index (0-10)         -0.113094                     0.478536   \n",
      "Average Annual Visibility (miles)       0.061921                    -0.213762   \n",
      "Average Annual Cloud Cover (%)          0.053302                     0.855790   \n",
      "Average Annual Humidity (%)            -0.080013                    -0.801302   \n",
      "Average Annual Solar Radiation (W/m^2) -0.116942                     0.460536   \n",
      "\n",
      "                                        Average Annual Min Temp (F)  \\\n",
      "price                                                      0.065791   \n",
      "Average Annual Max Temp (F)                                0.973402   \n",
      "Average Annual Min Temp (F)                                1.000000   \n",
      "Average Annual Precipitation (inches)                      0.474905   \n",
      "Average Annual Wind Speed (mph)                            0.884632   \n",
      "Average Annual UV Index (0-10)                             0.313355   \n",
      "Average Annual Visibility (miles)                         -0.006896   \n",
      "Average Annual Cloud Cover (%)                             0.901139   \n",
      "Average Annual Humidity (%)                               -0.910124   \n",
      "Average Annual Solar Radiation (W/m^2)                     0.307529   \n",
      "\n",
      "                                        Average Annual Precipitation (inches)  \\\n",
      "price                                                                0.087099   \n",
      "Average Annual Max Temp (F)                                          0.283348   \n",
      "Average Annual Min Temp (F)                                          0.474905   \n",
      "Average Annual Precipitation (inches)                                1.000000   \n",
      "Average Annual Wind Speed (mph)                                      0.213903   \n",
      "Average Annual UV Index (0-10)                                      -0.451474   \n",
      "Average Annual Visibility (miles)                                    0.834016   \n",
      "Average Annual Cloud Cover (%)                                       0.521309   \n",
      "Average Annual Humidity (%)                                         -0.787837   \n",
      "Average Annual Solar Radiation (W/m^2)                              -0.403835   \n",
      "\n",
      "                                        Average Annual Wind Speed (mph)  \\\n",
      "price                                                          0.004944   \n",
      "Average Annual Max Temp (F)                                    0.938679   \n",
      "Average Annual Min Temp (F)                                    0.884632   \n",
      "Average Annual Precipitation (inches)                          0.213903   \n",
      "Average Annual Wind Speed (mph)                                1.000000   \n",
      "Average Annual UV Index (0-10)                                 0.630587   \n",
      "Average Annual Visibility (miles)                             -0.282851   \n",
      "Average Annual Cloud Cover (%)                                 0.887742   \n",
      "Average Annual Humidity (%)                                   -0.715410   \n",
      "Average Annual Solar Radiation (W/m^2)                         0.622878   \n",
      "\n",
      "                                        Average Annual UV Index (0-10)  \\\n",
      "price                                                        -0.113094   \n",
      "Average Annual Max Temp (F)                                   0.478536   \n",
      "Average Annual Min Temp (F)                                   0.313355   \n",
      "Average Annual Precipitation (inches)                        -0.451474   \n",
      "Average Annual Wind Speed (mph)                               0.630587   \n",
      "Average Annual UV Index (0-10)                                1.000000   \n",
      "Average Annual Visibility (miles)                            -0.730762   \n",
      "Average Annual Cloud Cover (%)                                0.361879   \n",
      "Average Annual Humidity (%)                                  -0.013737   \n",
      "Average Annual Solar Radiation (W/m^2)                        0.991227   \n",
      "\n",
      "                                        Average Annual Visibility (miles)  \\\n",
      "price                                                            0.061921   \n",
      "Average Annual Max Temp (F)                                     -0.213762   \n",
      "Average Annual Min Temp (F)                                     -0.006896   \n",
      "Average Annual Precipitation (inches)                            0.834016   \n",
      "Average Annual Wind Speed (mph)                                 -0.282851   \n",
      "Average Annual UV Index (0-10)                                  -0.730762   \n",
      "Average Annual Visibility (miles)                                1.000000   \n",
      "Average Annual Cloud Cover (%)                                   0.039602   \n",
      "Average Annual Humidity (%)                                     -0.398633   \n",
      "Average Annual Solar Radiation (W/m^2)                          -0.677699   \n",
      "\n",
      "                                        Average Annual Cloud Cover (%)  \\\n",
      "price                                                         0.053302   \n",
      "Average Annual Max Temp (F)                                   0.855790   \n",
      "Average Annual Min Temp (F)                                   0.901139   \n",
      "Average Annual Precipitation (inches)                         0.521309   \n",
      "Average Annual Wind Speed (mph)                               0.887742   \n",
      "Average Annual UV Index (0-10)                                0.361879   \n",
      "Average Annual Visibility (miles)                             0.039602   \n",
      "Average Annual Cloud Cover (%)                                1.000000   \n",
      "Average Annual Humidity (%)                                  -0.870160   \n",
      "Average Annual Solar Radiation (W/m^2)                        0.383617   \n",
      "\n",
      "                                        Average Annual Humidity (%)  \\\n",
      "price                                                     -0.080013   \n",
      "Average Annual Max Temp (F)                               -0.801302   \n",
      "Average Annual Min Temp (F)                               -0.910124   \n",
      "Average Annual Precipitation (inches)                     -0.787837   \n",
      "Average Annual Wind Speed (mph)                           -0.715410   \n",
      "Average Annual UV Index (0-10)                            -0.013737   \n",
      "Average Annual Visibility (miles)                         -0.398633   \n",
      "Average Annual Cloud Cover (%)                            -0.870160   \n",
      "Average Annual Humidity (%)                                1.000000   \n",
      "Average Annual Solar Radiation (W/m^2)                    -0.032319   \n",
      "\n",
      "                                        Average Annual Solar Radiation (W/m^2)  \n",
      "price                                                                -0.116942  \n",
      "Average Annual Max Temp (F)                                           0.460536  \n",
      "Average Annual Min Temp (F)                                           0.307529  \n",
      "Average Annual Precipitation (inches)                                -0.403835  \n",
      "Average Annual Wind Speed (mph)                                       0.622878  \n",
      "Average Annual UV Index (0-10)                                        0.991227  \n",
      "Average Annual Visibility (miles)                                    -0.677699  \n",
      "Average Annual Cloud Cover (%)                                        0.383617  \n",
      "Average Annual Humidity (%)                                          -0.032319  \n",
      "Average Annual Solar Radiation (W/m^2)                                1.000000  \n"
     ]
    }
   ],
   "source": [
    "# Define our dependent variable (y) and independent variables (X)\n",
    "variable_names = ['price', 'Average Annual Max Temp (F)', 'Average Annual Min Temp (F)', 'Average Annual Precipitation (inches)', 'Average Annual Wind Speed (mph)', 'Average Annual UV Index (0-10)', 'Average Annual Visibility (miles)', 'Average Annual Cloud Cover (%)', 'Average Annual Humidity (%)', 'Average Annual Solar Radiation (W/m^2)']\n",
    "y = chicago_final[['median_ppsf']].values\n",
    "X = chicago_final[variable_names].values\n",
    "\n",
    "#check for multicollinearity\n",
    "corr_matrix = chicago_final[variable_names].corr()\n",
    "print(corr_matrix)"
   ]
  },
  {
   "cell_type": "markdown",
   "metadata": {},
   "source": [
    "This appears to be a correlation matrix that shows the pairwise correlations between several variables. The variables listed in the columns are:\n",
    "\n",
    "price\n",
    "Average Annual Max Temp (F)\n",
    "Average Annual Min Temp (F)\n",
    "Average Annual Precipitation (inches)\n",
    "Average Annual Wind Speed (mph)\n",
    "Average Annual UV Index (0-10)\n",
    "Average Annual Visibility (miles)\n",
    "Average Annual Cloud Cover (%)\n",
    "Average Annual Humidity (%)\n",
    "Average Annual Solar Radiation (W/m^2)\n",
    "The values in the table represent the correlation coefficients between each pair of variables. A correlation coefficient is a statistical measure that indicates the degree to which two variables are linearly related. The range of the coefficient is from -1 to 1, where -1 indicates a perfect negative correlation, 0 indicates no correlation, and 1 indicates a perfect positive correlation. For example, a correlation coefficient of 0.04 between \"price\" and \"Average Annual Max Temp (F)\" suggests that there is a weak positive correlation between these two variables. \n",
    "\n",
    "Looking at the correlation matrix provided, there are several pairs of variables that have high correlation coefficients, which could indicate multicollinearity:\n",
    "\n",
    "Average Annual Max Temp (F) and Average Annual Min Temp (F): These two variables have a correlation coefficient of 0.97, which indicates a very strong positive correlation. They both measure temperature and are likely to be highly correlated with each other.\n",
    "\n",
    "Average Annual UV Index (0-10) and Average Annual Solar Radiation (W/m^2): These two variables have a correlation coefficient of 0.99, which indicates a very strong positive correlation. They both measure the amount of solar energy and are likely to be highly correlated with each other.\n",
    "\n",
    "Average Annual Max Temp (F) and Average Annual Cloud Cover (%): These two variables have a correlation coefficient of 0.86, which indicates a strong positive correlation. They both measure weather conditions and are likely to be correlated with each other.\n",
    "\n",
    "If any of these pairs of variables are included in a regression model together, they could cause multicollinearity problems. In such a case, it may be necessary to either remove one of the variables or to use techniques such as principal component analysis (PCA) to reduce the dimensionality of the data and address the multicollinearity problem."
   ]
  },
  {
   "cell_type": "code",
   "execution_count": 32,
   "metadata": {},
   "outputs": [
    {
     "name": "stdout",
     "output_type": "stream",
     "text": [
      "Defaulting to user installation because normal site-packages is not writeable\n",
      "Requirement already satisfied: mgwr in /cvmfs/cybergis.illinois.edu/software/conda/cybergisx/python3-0.9.0/lib/python3.8/site-packages (2.1.2)\n",
      "Requirement already satisfied: numpy>=1.3 in /cvmfs/cybergis.illinois.edu/software/conda/cybergisx/python3-0.9.0/lib/python3.8/site-packages (from mgwr) (1.22.0)\n",
      "Requirement already satisfied: scipy>=0.11 in /cvmfs/cybergis.illinois.edu/software/conda/cybergisx/python3-0.9.0/lib/python3.8/site-packages (from mgwr) (1.7.3)\n",
      "Requirement already satisfied: spreg in /cvmfs/cybergis.illinois.edu/software/conda/cybergisx/python3-0.9.0/lib/python3.8/site-packages (from mgwr) (1.2.4)\n",
      "Requirement already satisfied: libpysal>=4.0.0 in /cvmfs/cybergis.illinois.edu/software/conda/cybergisx/python3-0.9.0/lib/python3.8/site-packages (from mgwr) (4.5.1)\n",
      "Requirement already satisfied: spglm>=1.0.6 in /cvmfs/cybergis.illinois.edu/software/conda/cybergisx/python3-0.9.0/lib/python3.8/site-packages (from mgwr) (1.0.8)\n",
      "Requirement already satisfied: pandas in /cvmfs/cybergis.illinois.edu/software/conda/cybergisx/python3-0.9.0/lib/python3.8/site-packages (from libpysal>=4.0.0->mgwr) (1.3.5)\n",
      "Requirement already satisfied: beautifulsoup4 in /cvmfs/cybergis.illinois.edu/software/conda/cybergisx/python3-0.9.0/lib/python3.8/site-packages (from libpysal>=4.0.0->mgwr) (4.10.0)\n",
      "Requirement already satisfied: requests in /cvmfs/cybergis.illinois.edu/software/conda/cybergisx/python3-0.9.0/lib/python3.8/site-packages (from libpysal>=4.0.0->mgwr) (2.27.1)\n",
      "Requirement already satisfied: jinja2 in /cvmfs/cybergis.illinois.edu/software/conda/cybergisx/python3-0.9.0/lib/python3.8/site-packages (from libpysal>=4.0.0->mgwr) (3.0.3)\n",
      "Requirement already satisfied: soupsieve>1.2 in /cvmfs/cybergis.illinois.edu/software/conda/cybergisx/python3-0.9.0/lib/python3.8/site-packages (from beautifulsoup4->libpysal>=4.0.0->mgwr) (2.3.1)\n",
      "Requirement already satisfied: MarkupSafe>=2.0 in /cvmfs/cybergis.illinois.edu/software/conda/cybergisx/python3-0.9.0/lib/python3.8/site-packages (from jinja2->libpysal>=4.0.0->mgwr) (2.0.1)\n",
      "Requirement already satisfied: python-dateutil>=2.7.3 in /cvmfs/cybergis.illinois.edu/software/conda/cybergisx/python3-0.9.0/lib/python3.8/site-packages (from pandas->libpysal>=4.0.0->mgwr) (2.8.0)\n",
      "Requirement already satisfied: pytz>=2017.3 in /cvmfs/cybergis.illinois.edu/software/conda/cybergisx/python3-0.9.0/lib/python3.8/site-packages (from pandas->libpysal>=4.0.0->mgwr) (2021.3)\n",
      "Requirement already satisfied: urllib3<1.27,>=1.21.1 in /cvmfs/cybergis.illinois.edu/software/conda/cybergisx/python3-0.9.0/lib/python3.8/site-packages (from requests->libpysal>=4.0.0->mgwr) (1.25.11)\n",
      "Requirement already satisfied: idna<4,>=2.5 in /cvmfs/cybergis.illinois.edu/software/conda/cybergisx/python3-0.9.0/lib/python3.8/site-packages (from requests->libpysal>=4.0.0->mgwr) (3.3)\n",
      "Requirement already satisfied: certifi>=2017.4.17 in /cvmfs/cybergis.illinois.edu/software/conda/cybergisx/python3-0.9.0/lib/python3.8/site-packages (from requests->libpysal>=4.0.0->mgwr) (2021.10.8)\n",
      "Requirement already satisfied: charset-normalizer~=2.0.0 in /cvmfs/cybergis.illinois.edu/software/conda/cybergisx/python3-0.9.0/lib/python3.8/site-packages (from requests->libpysal>=4.0.0->mgwr) (2.0.10)\n",
      "Requirement already satisfied: six>=1.5 in /cvmfs/cybergis.illinois.edu/software/conda/cybergisx/python3-0.9.0/lib/python3.8/site-packages (from python-dateutil>=2.7.3->pandas->libpysal>=4.0.0->mgwr) (1.16.0)\n",
      "Note: you may need to restart the kernel to use updated packages.\n"
     ]
    }
   ],
   "source": [
    "pip install mgwr"
   ]
  },
  {
   "cell_type": "code",
   "execution_count": 33,
   "metadata": {},
   "outputs": [],
   "source": [
    "# Redifining our dependent variable (y) and independent variables (X)\n",
    "variable_names = ['price', 'Average Annual Max Temp (F)']\n",
    "y = chicago_final[['median_ppsf']].values\n",
    "X = chicago_final[variable_names].values"
   ]
  },
  {
   "cell_type": "code",
   "execution_count": 34,
   "metadata": {},
   "outputs": [],
   "source": [
    "# Set the CRS for our study area (example: NAD83 / UTM zone 16N for Chicago)\n",
    "projected_crs = \"EPSG:26916\"\n",
    "\n",
    "# Transform geometries to the projected CRS\n",
    "chicago_final = chicago_final.to_crs(projected_crs)\n"
   ]
  },
  {
   "cell_type": "code",
   "execution_count": 35,
   "metadata": {},
   "outputs": [],
   "source": [
    "# Calculate centroids\n",
    "chicago_final[\"centroid\"] = chicago_final.geometry.centroid\n",
    "\n",
    "# Calculate representative points (alternative to centroids)\n",
    "chicago_final[\"representative_point\"] = chicago_final.geometry.representative_point()\n"
   ]
  },
  {
   "cell_type": "code",
   "execution_count": 36,
   "metadata": {},
   "outputs": [],
   "source": [
    "# Extract coordinates from centroids\n",
    "coords = np.column_stack((chicago_final[\"centroid\"].x, chicago_final[\"centroid\"].y))\n",
    "\n",
    "# Extract coordinates from representative points (alternative to centroids)\n",
    "coords = np.column_stack((chicago_final[\"representative_point\"].x, chicago_final[\"representative_point\"].y))\n"
   ]
  },
  {
   "cell_type": "code",
   "execution_count": 37,
   "metadata": {},
   "outputs": [],
   "source": [
    "from mgwr.gwr import GWR\n",
    "from mgwr.sel_bw import Sel_BW\n",
    "\n",
    "# Standardizing our independent variables\n",
    "X = (X - X.mean(axis=0)) / X.std(axis=0)\n",
    "\n",
    "# Standardizing our independent variables\n",
    "y = (y - y.mean(axis=0)) / y.std(axis=0)\n",
    "\n",
    "# Prepare the coordinates (assuming our data contains 'longitude' and 'latitude' columns)\n",
    "#coords = chicago_final_gwr[[\"Longitude\", \"Latitude\"]].values\n",
    "\n",
    "n = chicago_final.shape[0]\n",
    "bandwidth_percentage = 0.1  # We can adjust this percentage based on our specific dataset\n",
    "bw = int(n * bandwidth_percentage)\n",
    "\n",
    "gwr_model = GWR(coords, y, X, bw)\n",
    "gwr_results = gwr_model.fit()"
   ]
  },
  {
   "cell_type": "code",
   "execution_count": 38,
   "metadata": {},
   "outputs": [
    {
     "name": "stdout",
     "output_type": "stream",
     "text": [
      "===========================================================================\n",
      "Model type                                                         Gaussian\n",
      "Number of observations:                                                5205\n",
      "Number of covariates:                                                     3\n",
      "\n",
      "Global Regression Results\n",
      "---------------------------------------------------------------------------\n",
      "Residual sum of squares:                                           5037.251\n",
      "Log-likelihood:                                                   -7300.319\n",
      "AIC:                                                              14606.639\n",
      "AICc:                                                             14608.647\n",
      "BIC:                                                             -39478.213\n",
      "R2:                                                                   0.032\n",
      "Adj. R2:                                                              0.032\n",
      "\n",
      "Variable                              Est.         SE  t(Est/SE)    p-value\n",
      "------------------------------- ---------- ---------- ---------- ----------\n",
      "X0                                  -0.000      0.014     -0.000      1.000\n",
      "X1                                   0.167      0.014     12.257      0.000\n",
      "X2                                  -0.072      0.014     -5.298      0.000\n",
      "\n",
      "Geographically Weighted Regression (GWR) Results\n",
      "---------------------------------------------------------------------------\n",
      "Spatial kernel:                                           Adaptive bisquare\n",
      "Bandwidth used:                                                     520.000\n",
      "\n",
      "Diagnostic information\n",
      "---------------------------------------------------------------------------\n",
      "Residual sum of squares:                                            475.036\n",
      "Effective number of parameters (trace(S)):                           53.359\n",
      "Degree of freedom (n - trace(S)):                                  5151.641\n",
      "Sigma estimate:                                                       0.304\n",
      "Log-likelihood:                                                   -1155.231\n",
      "AIC:                                                               2419.180\n",
      "AICc:                                                              2420.349\n",
      "BIC:                                                               2775.633\n",
      "R2:                                                                   0.909\n",
      "Adjusted R2:                                                          0.908\n",
      "Adj. alpha (95%):                                                     0.003\n",
      "Adj. critical t value (95%):                                          2.989\n",
      "\n",
      "Summary Statistics For GWR Parameter Estimates\n",
      "---------------------------------------------------------------------------\n",
      "Variable                   Mean        STD        Min     Median        Max\n",
      "-------------------- ---------- ---------- ---------- ---------- ----------\n",
      "X0                        0.966      1.694     -2.648      0.759      5.839\n",
      "X1                       -0.010      0.079     -0.236     -0.003      0.405\n",
      "X2                        0.657      2.176     -7.145      0.406      5.902\n",
      "===========================================================================\n",
      "\n",
      "None\n"
     ]
    }
   ],
   "source": [
    "print(gwr_results.summary())"
   ]
  },
  {
   "cell_type": "markdown",
   "metadata": {},
   "source": [
    "**Interpretation**\n",
    "\n",
    "Here, the dependent variable is 'median_ppsf' (median price per square foot), and the independent variables are X0 (constant), X1 (price), and X2 (Average Annual Max Temp in Fahrenheit).\n",
    "\n",
    "Global Regression Results:\n",
    "\n",
    "R-squared (R2): 0.032\n",
    "Adjusted R-squared (Adj. R2): 0.032\n",
    "In the global regression model, 'price' (X1) has a positive and significant effect on 'median_ppsf' (t=12.257, p-value<0.001). A higher price is associated with a higher median price per square foot. 'Average Annual Max Temp' (X2) has a negative and significant effect on 'median_ppsf' (t=-5.298, p-value<0.001). This suggests that as the average annual maximum temperature increases, the median price per square foot decreases. The constant term (X0) is not significant (t=-0.000, p-value=1.000). The R2 value is quite low (0.032), indicating that the global model does not fit the data well and only explains 3.2% of the variance in the dependent variable.\n",
    "\n",
    "Geographically Weighted Regression (GWR) Results:\n",
    "\n",
    "R-squared (R2): 0.909\n",
    "Adjusted R-squared (Adj. R2): 0.908\n",
    "The GWR model demonstrates a much better fit to the data, with an R2 of 0.909 and an adjusted R2 of 0.908. This indicates that 90.9% of the variance in the median price per square foot can be explained by the GWR model. It's important to note that the parameter estimates in GWR are location-specific, so the statistics provided are summary statistics for these estimates.\n",
    "\n",
    "Summary statistics for GWR parameter estimates:\n",
    "\n",
    "Constant (X0): Mean=0.966, STD=1.694, Min=-2.648, Median=0.759, Max=5.839\n",
    "Price (X1): Mean=-0.010, STD=0.079, Min=-0.236, Median=-0.003, Max=0.405\n",
    "Average Annual Max Temp (X2): Mean=0.657, STD=2.176, Min=-7.145, Median=0.406, Max=5.902\n",
    "In conclusion, the geographically weighted regression model provides a much better fit to the data than the global regression model. The relationships between the median price per square foot and the independent variables (constant, price, and average annual maximum temperature) are location-specific, and the summary statistics for GWR parameter estimates provide insights into their overall distribution.\n",
    "\n",
    "Now we proceed to plot the negative and positive coefficients to the impact of independent variables on dependent variables visually."
   ]
  },
  {
   "cell_type": "code",
   "execution_count": 39,
   "metadata": {},
   "outputs": [
    {
     "name": "stdout",
     "output_type": "stream",
     "text": [
      "Number of locations with negative coefficients: 2956\n",
      "Number of locations with positive coefficients: 2249\n"
     ]
    },
    {
     "data": {
      "image/png": "[encoded data removed]",
      "text/plain": [
       "<Figure size 720x720 with 3 Axes>"
      ]
     },
     "metadata": {
      "needs_background": "light"
     },
     "output_type": "display_data"
    }
   ],
   "source": [
    "import numpy as np\n",
    "import matplotlib.pyplot as plt\n",
    "from matplotlib.colors import LinearSegmentedColormap\n",
    "\n",
    "# Extract local coefficients from GWR model for the price variable\n",
    "local_coeffs_price = gwr_results.params[:, 1]\n",
    "\n",
    "# Add the local coefficients to the original DataFrame\n",
    "chicago_final['local_coeff_price'] = local_coeffs_price\n",
    "\n",
    "# Filter the DataFrame based on the sign of the coefficient\n",
    "negative_coeff_locations = chicago_final[chicago_final['local_coeff_price'] < 0]\n",
    "positive_coeff_locations = chicago_final[chicago_final['local_coeff_price'] > 0]\n",
    "\n",
    "# Print the number of negative and positive coefficient locations\n",
    "print(f\"Number of locations with negative coefficients: {len(negative_coeff_locations)}\")\n",
    "print(f\"Number of locations with positive coefficients: {len(positive_coeff_locations)}\")\n",
    "\n",
    "# If one want to visualize the locations\n",
    "fig, ax = plt.subplots(figsize=(10, 10))\n",
    "\n",
    "# Custom colormaps for negative and positive coefficients\n",
    "cmap_neg = LinearSegmentedColormap.from_list('red_to_yellow', ['darkred', 'yellow'])\n",
    "cmap_pos = LinearSegmentedColormap.from_list('white_to_blue', ['white', 'darkblue'])\n",
    "\n",
    "# Normalize the data for coloring\n",
    "norm_neg = plt.Normalize(vmin=negative_coeff_locations['local_coeff_price'].min(), vmax=0)\n",
    "norm_pos = plt.Normalize(vmin=0, vmax=positive_coeff_locations['local_coeff_price'].max())\n",
    "\n",
    "# Plot negative coefficient locations\n",
    "negative_coeff_locations.plot(ax=ax, column='local_coeff_price', cmap=cmap_neg, markersize=10, norm=norm_neg, legend=True, legend_kwds={'label': \"Negative Coefficients\"})\n",
    "\n",
    "# Plot positive coefficient locations\n",
    "positive_coeff_locations.plot(ax=ax, column='local_coeff_price', cmap=cmap_pos, markersize=10, norm=norm_pos, legend=True, legend_kwds={'label': \"Positive Coefficients\"})\n",
    "\n",
    "# Set x and y axis labels\n",
    "ax.set_xlabel(\"Longitude\")\n",
    "ax.set_ylabel(\"Latitude\")\n",
    "\n",
    "# Set plot title\n",
    "ax.set_title(\"Local Coefficients for 'price'\")\n",
    "\n",
    "plt.show()"
   ]
  },
  {
   "cell_type": "markdown",
   "metadata": {},
   "source": [
    "**Interpretation**\n",
    "\n",
    "This code is extracting local coefficients for the 'price' variable from the Geographically Weighted Regression (GWR) model and adding them to a DataFrame called 'chicago_final'. The DataFrame is then filtered based on the sign of the coefficient (negative or positive), which helps to understand the relationship between the 'price' variable and the 'median_ppsf' (median price per square foot) across different locations in Chicago.\n",
    "\n",
    "The output shows that there are 2,956 locations where the local coefficient for 'price' is negative, and 2,249 locations where it is positive.\n",
    "\n",
    "**A negative coefficient suggests that in those locations, an increase in the 'price' variable is associated with a decrease in the 'median_ppsf', while a positive coefficient indicates that an increase in the 'price' variable is associated with an increase in the 'median_ppsf'.**\n",
    "\n",
    "The code then generates a plot to visualize these locations, with the markers colored based on the sign and value of the local coefficient. \n",
    "\n",
    "**The 'coolwarm' colormap is used, where red represents negative coefficients, and blue represents positive coefficients. The intensity of the colors shows the magnitude of the coefficients.**\n",
    "\n",
    "The plot helps to visualize the spatial distribution of the relationship between 'price' and 'median_ppsf' in different locations within Chicago. This can provide insights into how the relationship between these two variables varies geographically and may be useful for understanding local real estate market trends.\n",
    "\n",
    "**For axis of the plot**\n",
    "\n",
    "The EPSG code \"EPSG:26916\" represents the UTM Zone 16N (North) projection, which uses meters as its unit. UTM (Universal Transverse Mercator) is a commonly used coordinate system that divides the Earth into 60 zones, each 6 degrees of longitude wide. Zone 16N covers a region that includes the city of Chicago.\n",
    "\n",
    "In the context of our dataset and the given CRS, the x-axis values (425000 to 455000) and y-axis values (4.61 to 4.65) represent easting and northing coordinates in meters, respectively, within the UTM Zone 16N.\n",
    "\n",
    "To summarize, the x and y axis values are UTM coordinates (in meters) that represent the spatial positions of the locations in Chicago. These coordinates are in the UTM Zone 16N (EPSG:26916) projection.\n",
    "\n",
    "Now we move ahead and include more independent variables in our model to increase explanability"
   ]
  },
  {
   "cell_type": "code",
   "execution_count": 40,
   "metadata": {},
   "outputs": [
    {
     "name": "stderr",
     "output_type": "stream",
     "text": [
      "/cvmfs/cybergis.illinois.edu/software/conda/cybergisx/python3-0.9.0/lib/python3.8/site-packages/spglm/iwls.py:37: LinAlgWarning: Ill-conditioned matrix (rcond=2.11552e-17): result may not be accurate.\n",
      "  xtx_inv_xt = linalg.solve(xtx, xT)\n",
      "/cvmfs/cybergis.illinois.edu/software/conda/cybergisx/python3-0.9.0/lib/python3.8/site-packages/spglm/iwls.py:37: LinAlgWarning: Ill-conditioned matrix (rcond=1.03251e-16): result may not be accurate.\n",
      "  xtx_inv_xt = linalg.solve(xtx, xT)\n"
     ]
    },
    {
     "name": "stdout",
     "output_type": "stream",
     "text": [
      "===========================================================================\n",
      "Model type                                                         Gaussian\n",
      "Number of observations:                                                5205\n",
      "Number of covariates:                                                     4\n",
      "\n",
      "Global Regression Results\n",
      "---------------------------------------------------------------------------\n",
      "Residual sum of squares:                                       26570041.940\n",
      "Log-likelihood:                                                  -29605.512\n",
      "AIC:                                                              59219.023\n",
      "AICc:                                                             59221.035\n",
      "BIC:                                                           26525535.032\n",
      "R2:                                                                   0.313\n",
      "Adj. R2:                                                              0.313\n",
      "\n",
      "Variable                              Est.         SE  t(Est/SE)    p-value\n",
      "------------------------------- ---------- ---------- ---------- ----------\n",
      "X0                                 266.284      0.991    268.783      0.000\n",
      "X1                                  10.830      0.995     10.889      0.000\n",
      "X2                                 -67.500      1.657    -40.732      0.000\n",
      "X3                                 -76.641      1.661    -46.139      0.000\n",
      "\n",
      "Geographically Weighted Regression (GWR) Results\n",
      "---------------------------------------------------------------------------\n",
      "Spatial kernel:                                           Adaptive bisquare\n",
      "Bandwidth used:                                                     520.000\n",
      "\n",
      "Diagnostic information\n",
      "---------------------------------------------------------------------------\n",
      "Residual sum of squares:                                        3222949.019\n",
      "Effective number of parameters (trace(S)):                           60.495\n",
      "Degree of freedom (n - trace(S)):                                  5144.505\n",
      "Sigma estimate:                                                      25.030\n",
      "Log-likelihood:                                                  -24115.570\n",
      "AIC:                                                              48354.130\n",
      "AICc:                                                             48355.625\n",
      "BIC:                                                              48757.374\n",
      "R2:                                                                   0.917\n",
      "Adjusted R2:                                                          0.916\n",
      "Adj. alpha (95%):                                                     0.003\n",
      "Adj. critical t value (95%):                                          2.939\n",
      "\n",
      "Summary Statistics For GWR Parameter Estimates\n",
      "---------------------------------------------------------------------------\n",
      "Variable                   Mean        STD        Min     Median        Max\n",
      "-------------------- ---------- ---------- ---------- ---------- ----------\n",
      "X0                     -250.746   3528.813 -17581.430    313.074   2655.552\n",
      "X1                       -1.463      6.675    -19.585     -0.642     39.942\n",
      "X2                    -1501.088   8327.118 -42251.433   -192.212   6179.683\n",
      "X3                    -1888.754  10423.003 -53309.618   -118.419   5851.998\n",
      "===========================================================================\n",
      "\n",
      "None\n"
     ]
    }
   ],
   "source": [
    "# Redefining our dependent variable (y) and independent variables (X)\n",
    "variable_names_new = ['price', 'Average Annual Max Temp (F)','Average Annual Humidity (%)']\n",
    "y = chicago_final[['median_ppsf']].values\n",
    "X_new = chicago_final[variable_names_new].values\n",
    "\n",
    "# Standardize our independent variables\n",
    "X_new = (X_new - X_new.mean(axis=0)) / X_new.std(axis=0)\n",
    "\n",
    "gwr_model_new = GWR(coords, y, X_new, bw)\n",
    "gwr_results_new = gwr_model_new.fit()\n",
    "print(gwr_results_new.summary())"
   ]
  },
  {
   "cell_type": "markdown",
   "metadata": {},
   "source": [
    "Here's how to interpret the GWR results with the updated independent variables:\n",
    "\n",
    "Model information:\n",
    "\n",
    "Number of observations: 5205\n",
    "Number of covariates: 4 (including the constant term)\n",
    "Global Regression Results:\n",
    "\n",
    "R2: 0.313, which means that 31.3% of the variation in the dependent variable can be explained by the global model with the given independent variables.\n",
    "Independent variable coefficients and their significance:\n",
    "\n",
    "X0 (Constant term): Est. = 266.284, p-value < 0.001 (statistically significant)\n",
    "X1 (price): Est. = 10.830, p-value < 0.001 (statistically significant)\n",
    "X2 (Average Annual Max Temp (F)): Est. = -67.500, p-value < 0.001 (statistically significant)\n",
    "X3 (Average Annual Humidity (%)): Est. = -76.641, p-value < 0.001 (statistically significant)\n",
    "Geographically Weighted Regression (GWR) Results:\n",
    "\n",
    "R2: 0.917, which means that 91.7% of the variation in the dependent variable can be explained by the GWR model with the given independent variables. This is a substantial improvement compared to the global model, suggesting that the relationship between the dependent variable and independent variables varies across locations.\n",
    "Summary Statistics for GWR Parameter Estimates:\n",
    "\n",
    "X0 (Constant term):\n",
    "\n",
    "Mean: -250.746\n",
    "Min: -17,581.430\n",
    "Max: 2,655.552\n",
    "X1 (price):\n",
    "\n",
    "Mean: -1.463\n",
    "Min: -19.585\n",
    "Max: 39.942\n",
    "X2 (Average Annual Max Temp (F)):\n",
    "\n",
    "Mean: -1501.088\n",
    "Min: -42,251.433\n",
    "Max: 6,179.683\n",
    "X3 (Average Annual Humidity (%)):\n",
    "\n",
    "Mean: -1888.754\n",
    "Min: -53,309.618\n",
    "Max: 5,851.998\n",
    "\n",
    "The summary statistics for GWR parameter estimates show that the coefficients for the independent variables vary across locations. The GWR model provides a more localized understanding of the relationships between the dependent and independent variables, capturing spatial non-stationarity in the data."
   ]
  },
  {
   "cell_type": "markdown",
   "metadata": {},
   "source": [
    "In the context of Geographically Weighted Regression (GWR), the mean coefficient results represent the average values of the coefficients for each independent variable across all the locations in the dataset. These average values can provide a general overview of how the independent variables are influencing the dependent variable in the model.\n",
    "\n",
    "Here's a brief explanation of the mean coefficient results for each independent variable in the GWR model:\n",
    "\n",
    "X0 (Constant term):\n",
    "\n",
    "Mean: -250.746\n",
    "The mean value for the constant term suggests that, on average, the baseline value (i.e., the value of the dependent variable when all the independent variables are zero) is -250.746. However, this value varies significantly across locations, as indicated by the minimum and maximum values in the summary statistics.\n",
    "X1 (price):\n",
    "\n",
    "Mean: -1.463\n",
    "The mean coefficient for the price variable is -1.463, indicating that on average, a one-unit increase in price is associated with a decrease of about 1.463 units in the dependent variable. However, the relationship between price and the dependent variable varies across locations, ranging from -19.585 to 39.942.\n",
    "X2 (Average Annual Max Temp (F)):\n",
    "\n",
    "Mean: -1501.088\n",
    "The mean coefficient for the Average Annual Max Temp (F) variable is -1501.088, suggesting that on average, a one-unit increase in the average annual maximum temperature is associated with a decrease of about 1501.088 units in the dependent variable. The relationship between temperature and the dependent variable also varies across locations, with coefficients ranging from -42,251.433 to 6,179.683.\n",
    "X3 (Average Annual Humidity (%)):\n",
    "\n",
    "Mean: -1888.754\n",
    "The mean coefficient for the Average Annual Humidity (%) variable is -1888.754, indicating that on average, a one-unit increase in average annual humidity is associated with a decrease of about 1888.754 units in the dependent variable. This relationship varies across locations, with coefficients ranging from -53,309.618 to 5,851.998.\n",
    "Keep in mind that these mean values provide an overall understanding of the relationships between the independent variables and the dependent variable, but they do not capture the spatial non-stationarity that GWR is designed to model. It is essential to examine the local relationships across different locations to better understand the spatial variations in the coefficients."
   ]
  },
  {
   "cell_type": "code",
   "execution_count": 41,
   "metadata": {},
   "outputs": [
    {
     "name": "stdout",
     "output_type": "stream",
     "text": [
      "Number of locations with negative coefficients: 3465\n",
      "Number of locations with positive coefficients: 1740\n"
     ]
    },
    {
     "data": {
      "image/png": "[encoded data removed]",
      "text/plain": [
       "<Figure size 720x720 with 3 Axes>"
      ]
     },
     "metadata": {
      "needs_background": "light"
     },
     "output_type": "display_data"
    }
   ],
   "source": [
    "import numpy as np\n",
    "import matplotlib.pyplot as plt\n",
    "from matplotlib.colors import LinearSegmentedColormap\n",
    "\n",
    "# Extract local coefficients from GWR model for the 'Average Annual Max Temp (F)' variable\n",
    "local_coeffs_temp = gwr_results_new.params[:, 2]\n",
    "\n",
    "# Add the local coefficients to the original DataFrame\n",
    "chicago_final['local_coeff_temp'] = local_coeffs_temp\n",
    "\n",
    "# Filter the DataFrame based on the sign of the coefficient\n",
    "negative_coeff_locations = chicago_final[chicago_final['local_coeff_temp'] < 0]\n",
    "positive_coeff_locations = chicago_final[chicago_final['local_coeff_temp'] > 0]\n",
    "\n",
    "# Print the number of negative and positive coefficient locations\n",
    "print(f\"Number of locations with negative coefficients: {len(negative_coeff_locations)}\")\n",
    "print(f\"Number of locations with positive coefficients: {len(positive_coeff_locations)}\")\n",
    "\n",
    "# If one wants to visualize the locations\n",
    "fig, ax = plt.subplots(figsize=(10, 10))\n",
    "\n",
    "# Custom colormaps for negative and positive coefficients\n",
    "cmap_neg = LinearSegmentedColormap.from_list('red_to_yellow', ['darkred', 'yellow'])\n",
    "cmap_pos = LinearSegmentedColormap.from_list('white_to_blue', ['white', 'darkblue'])\n",
    "\n",
    "# Normalize the data for coloring\n",
    "norm_neg = plt.Normalize(vmin=negative_coeff_locations['local_coeff_temp'].min(), vmax=0)\n",
    "norm_pos = plt.Normalize(vmin=0, vmax=positive_coeff_locations['local_coeff_temp'].max())\n",
    "\n",
    "# Plot negative coefficient locations\n",
    "negative_coeff_locations.plot(ax=ax, column='local_coeff_temp', cmap=cmap_neg, markersize=10, norm=norm_neg, legend=True, legend_kwds={'label': \"Negative Coefficients\"})\n",
    "\n",
    "# Plot positive coefficient locations\n",
    "positive_coeff_locations.plot(ax=ax, column='local_coeff_temp', cmap=cmap_pos, markersize=10, norm=norm_pos, legend=True, legend_kwds={'label': \"Positive Coefficients\"})\n",
    "\n",
    "# Set x and y axis labels\n",
    "ax.set_xlabel(\"Longitude\")\n",
    "ax.set_ylabel(\"Latitude\")\n",
    "\n",
    "# Set plot title\n",
    "ax.set_title(\"Local Coefficients for 'Average Annual Max Temp (F)'\")\n",
    "\n",
    "plt.show()"
   ]
  },
  {
   "cell_type": "code",
   "execution_count": 42,
   "metadata": {},
   "outputs": [
    {
     "name": "stdout",
     "output_type": "stream",
     "text": [
      "Number of locations with negative coefficients: 3447\n",
      "Number of locations with positive coefficients: 1758\n"
     ]
    },
    {
     "data": {
      "image/png": "[encoded data removed]",
      "text/plain": [
       "<Figure size 720x720 with 3 Axes>"
      ]
     },
     "metadata": {
      "needs_background": "light"
     },
     "output_type": "display_data"
    }
   ],
   "source": [
    "import numpy as np\n",
    "import matplotlib.pyplot as plt\n",
    "from matplotlib.colors import LinearSegmentedColormap\n",
    "\n",
    "# Assuming we have already added the third independent variable to the GWR model\n",
    "# and re-run it, extract local coefficients for the 'Average Annual Humidity (%)' variable\n",
    "local_coeffs_humidity = gwr_results_new.params[:, 3]\n",
    "\n",
    "# Add the local coefficients to the original DataFrame\n",
    "chicago_final['local_coeff_humidity'] = local_coeffs_humidity\n",
    "\n",
    "# Filter the DataFrame based on the sign of the coefficient\n",
    "negative_coeff_locations = chicago_final[chicago_final['local_coeff_humidity'] < 0]\n",
    "positive_coeff_locations = chicago_final[chicago_final['local_coeff_humidity'] > 0]\n",
    "\n",
    "# Print the number of negative and positive coefficient locations\n",
    "print(f\"Number of locations with negative coefficients: {len(negative_coeff_locations)}\")\n",
    "print(f\"Number of locations with positive coefficients: {len(positive_coeff_locations)}\")\n",
    "\n",
    "# If we want to visualize the locations\n",
    "fig, ax = plt.subplots(figsize=(10, 10))\n",
    "\n",
    "# Custom colormaps for negative and positive coefficients\n",
    "cmap_neg = LinearSegmentedColormap.from_list('red_to_yellow', ['darkred', 'yellow'])\n",
    "cmap_pos = LinearSegmentedColormap.from_list('white_to_blue', ['white', 'darkblue'])\n",
    "\n",
    "# Normalize the data for coloring\n",
    "norm_neg = plt.Normalize(vmin=negative_coeff_locations['local_coeff_humidity'].min(), vmax=0)\n",
    "norm_pos = plt.Normalize(vmin=0, vmax=positive_coeff_locations['local_coeff_humidity'].max())\n",
    "\n",
    "# Plot negative coefficient locations\n",
    "negative_coeff_locations.plot(ax=ax, column='local_coeff_humidity', cmap=cmap_neg, markersize=10, norm=norm_neg, legend=True, legend_kwds={'label': \"Negative Coefficients\"})\n",
    "\n",
    "# Plot positive coefficient locations\n",
    "positive_coeff_locations.plot(ax=ax, column='local_coeff_humidity', cmap=cmap_pos, markersize=10, norm=norm_pos, legend=True, legend_kwds={'label': \"Positive Coefficients\"})\n",
    "\n",
    "# Set x and y axis labels\n",
    "ax.set_xlabel(\"Longitude\")\n",
    "ax.set_ylabel(\"Latitude\")\n",
    "\n",
    "# Set plot title\n",
    "ax.set_title(\"Local Coefficients for 'Average Annual Humidity (%)'\")\n",
    "\n",
    "plt.show()"
   ]
  },
  {
   "cell_type": "code",
   "execution_count": 43,
   "metadata": {},
   "outputs": [],
   "source": [
    "# Export GeoDataFrame to Excel and CSV files\n",
    "#chicago_final.to_excel(\"chicago_final.xlsx\", index=False)\n",
    "#chicago_final.to_csv(\"chicago_final.csv\", index=False)"
   ]
  },
  {
   "cell_type": "code",
   "execution_count": 44,
   "metadata": {},
   "outputs": [
    {
     "data": {
      "application/vnd.jupyter.widget-view+json": {
       "model_id": "d59e7888f0484e3386da6ff4078394f6",
       "version_major": 2,
       "version_minor": 0
      },
      "text/plain": [
       "Dropdown(description='Variable Name:', options=('price', 'Average Annual Max Temp (F)', 'Average Annual Humidi…"
      ]
     },
     "metadata": {},
     "output_type": "display_data"
    },
    {
     "data": {
      "application/vnd.jupyter.widget-view+json": {
       "model_id": "d805a89321e6410bbe88bcd6ee163a5e",
       "version_major": 2,
       "version_minor": 0
      },
      "text/plain": [
       "Output()"
      ]
     },
     "metadata": {},
     "output_type": "display_data"
    }
   ],
   "source": [
    "import folium\n",
    "from folium.plugins import HeatMap\n",
    "from matplotlib.colors import LinearSegmentedColormap\n",
    "import matplotlib.pyplot as plt\n",
    "import numpy as np\n",
    "\n",
    "# Function to convert RGB to HEX color\n",
    "def rgb_to_hex(rgb):\n",
    "    return '#{:02x}{:02x}{:02x}'.format(*rgb)\n",
    "\n",
    "# Function to calculate the color for each data point\n",
    "def get_color(value, cmap, norm):\n",
    "    rgba = cmap(norm(value))[:3]\n",
    "    return rgb_to_hex(tuple(int(255 * x) for x in rgba))\n",
    "\n",
    "# Function to generate the interactive map\n",
    "def generate_map(var_name, gwr_results):\n",
    "    # Extract local coefficients from GWR model for the variable\n",
    "    local_coeffs = gwr_results.params[:, var_names.index(var_name)]\n",
    "\n",
    "    # Add the local coefficients to the original DataFrame\n",
    "    chicago_final['local_coeff'] = local_coeffs\n",
    "\n",
    "    # Filter the DataFrame based on the sign of the coefficient\n",
    "    negative_coeff_locations = chicago_final[chicago_final['local_coeff'] < 0]\n",
    "    positive_coeff_locations = chicago_final[chicago_final['local_coeff'] > 0]\n",
    "\n",
    "    # Custom colormaps for negative and positive coefficients\n",
    "    cmap_neg = LinearSegmentedColormap.from_list('red_to_yellow', ['darkred', 'yellow'])\n",
    "    cmap_pos = LinearSegmentedColormap.from_list('white_to_blue', ['white', 'darkblue'])\n",
    "\n",
    "    # Normalize the data for coloring\n",
    "    norm_neg = plt.Normalize(vmin=negative_coeff_locations['local_coeff'].min(), vmax=0)\n",
    "    norm_pos = plt.Normalize(vmin=0, vmax=positive_coeff_locations['local_coeff'].max())\n",
    "\n",
    "    # Create a Folium map with a base layer\n",
    "    m = folium.Map(location=[41.8781, -87.6298], zoom_start=11, tiles='cartodb positron')\n",
    "    \n",
    "    # Add a text box to explain the colors\n",
    "    if var_name == 'price':\n",
    "        txt = \"The 'coolwarm' colormap is used, where red represents negative coefficients, and blue represents positive coefficients. The intensity of the negative colors shows the magnitude of the coefficients.Red means extreme negative, Yellow means 0. Similarly, Blue means high positive coefficients and white means zero positive cofficients\"\n",
    "    elif var_name == 'Average Annual Max Temp (F)':\n",
    "        txt = \"The 'coolwarm' colormap is used, where red represents negative coefficients, and blue represents positive coefficients. The intensity of the negative colors shows the magnitude of the coefficients.Red means extreme negative, Yellow means 0. Similarly, Blue means high positive coefficients and white means zero positive cofficients\"\n",
    "    else:\n",
    "        txt = \"The 'coolwarm' colormap is used, where red represents negative coefficients, and blue represents positive coefficients. The intensity of the negative colors shows the magnitude of the coefficients.Red means extreme negative, Yellow means 0. Similarly, Blue means high positive coefficients and white means zero positive cofficients\"\n",
    "    folium.map.Marker(\n",
    "        location=[41.95, -87.68],\n",
    "        icon=folium.Icon(icon='lightbulb-o', prefix='fa', color='blue'),\n",
    "        popup=folium.Popup(html=txt, max_width=300, show=False),\n",
    "        tooltip='Explanation of colors',\n",
    "    ).add_to(m)\n",
    "\n",
    "    # Add negative coefficient locations to the map as a HeatMap\n",
    "    negative_coords = [[row['Latitude'], row['Longitude'], get_color(row['local_coeff'], cmap_neg, norm_neg)] for _, row in negative_coeff_locations.iterrows()]\n",
    "    for coord in negative_coords:\n",
    "        folium.CircleMarker(\n",
    "            location=[coord[0], coord[1]],\n",
    "            radius=3,\n",
    "            color=coord[2],\n",
    "            fill=True,\n",
    "            fill_color=coord[2],\n",
    "            fill_opacity=0.7,\n",
    "        ).add_to(m)\n",
    "\n",
    "    # Add positive coefficient locations to the map as a HeatMap\n",
    "    positive_coords = [[row['Latitude'], row['Longitude'], get_color(row['local_coeff'], cmap_pos, norm_pos)] for _, row in positive_coeff_locations.iterrows()]\n",
    "    for coord in positive_coords:\n",
    "        folium.CircleMarker(\n",
    "            location=[coord[0], coord[1]],\n",
    "            radius=3,\n",
    "            color=coord[2],\n",
    "            fill=True,\n",
    "            fill_color=coord[2],\n",
    "            fill_opacity=0.7,\n",
    "        ).add_to(m)\n",
    "\n",
    "    # Display the map\n",
    "    return m\n",
    "\n",
    "# Toggle between the different independent variables using a dropdown menu\n",
    "import ipywidgets as widgets\n",
    "from IPython.display import display\n",
    "\n",
    "var_names = ['price', 'Average Annual Max Temp (F)', 'Average Annual Humidity (%)']\n",
    "\n",
    "dropdown = widgets.Dropdown(options=var_names, value='price', description='Variable Name:')\n",
    "output = widgets.Output()\n",
    "\n",
    "def on_change(change):\n",
    "    if change['type'] == 'change' and change['name'] == 'value':\n",
    "        with output:\n",
    "            output.clear_output()\n",
    "            m = generate_map(change['new'], gwr_results_new)\n",
    "            display(m)\n",
    "\n",
    "dropdown.observe(on_change)\n",
    "\n",
    "display(dropdown)\n",
    "display(output)\n"
   ]
  },
  {
   "cell_type": "markdown",
   "metadata": {},
   "source": [
    "**The Folium Plot is Shown Above**\n",
    "\n",
    "Might not be visible in HTML/PDF export"
   ]
  },
  {
   "cell_type": "markdown",
   "metadata": {},
   "source": [
    "**Interpretation**\n",
    "\n",
    "Overall, the code allows the user to interactively visualize the spatial distribution of the local coefficients for the specified variable in the GWR model, where red represents negative coefficients, and blue represents positive coefficients. The intensity of the negative colors shows the magnitude of the coefficients. Red means extreme negative, yellow means 0. Similarly, blue means high positive coefficients and white means zero positive coefficients."
   ]
  }
 ],
 "metadata": {
  "colab": {
   "provenance": []
  },
  "kernelspec": {
   "display_name": "Python 3",
   "language": "python",
   "name": "python3"
  },
  "language_info": {
   "codemirror_mode": {
    "name": "ipython",
    "version": 3
   },
   "file_extension": ".py",
   "mimetype": "text/x-python",
   "name": "python",
   "nbconvert_exporter": "python",
   "pygments_lexer": "ipython3",
   "version": "3.8.12"
  }
 },
 "nbformat": 4,
 "nbformat_minor": 4
}
