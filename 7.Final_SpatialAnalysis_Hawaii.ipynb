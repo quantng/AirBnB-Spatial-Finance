{
 "cells": [
  {
   "cell_type": "code",
   "execution_count": 1,
   "metadata": {
    "id": "bVjtxROkf8nL"
   },
   "outputs": [],
   "source": [
    "import pandas as pd # Library for handling data structures like DataFrames and Series\n",
    "import numpy as np # Library for numerical operations, such as linear algebra and statistical functions\n",
    "from matplotlib import pyplot as plt # Library for creating static, animated, and interactive visualizations in Python"
   ]
  },
  {
   "cell_type": "code",
   "execution_count": 2,
   "metadata": {},
   "outputs": [
    {
     "name": "stdout",
     "output_type": "stream",
     "text": [
      "Current working directory: /home/jovyan/work/GGIS570/FinalProject\n"
     ]
    }
   ],
   "source": [
    "import os\n",
    "current_working_directory = os.getcwd()\n",
    "print(\"Current working directory:\", current_working_directory)"
   ]
  },
  {
   "cell_type": "code",
   "execution_count": 3,
   "metadata": {
    "id": "SoqVMOCpitTt"
   },
   "outputs": [],
   "source": [
    "#reading cleaned data file into data frame\n",
    "hawaii_raw=pd.read_csv('/home/jovyan/work/GGIS570/FinalProject/HawaiiData.csv')"
   ]
  },
  {
   "cell_type": "code",
   "execution_count": 4,
   "metadata": {
    "colab": {
     "base_uri": "https://localhost:8080/"
    },
    "id": "HSyCrGjekWIB",
    "outputId": "7dbe50d0-df84-4f98-bbd8-8bd973bd72ff"
   },
   "outputs": [
    {
     "name": "stdout",
     "output_type": "stream",
     "text": [
      "<class 'pandas.core.frame.DataFrame'>\n",
      "RangeIndex: 15014 entries, 0 to 15013\n",
      "Data columns (total 60 columns):\n",
      " #   Column                                  Non-Null Count  Dtype  \n",
      "---  ------                                  --------------  -----  \n",
      " 0   Latitude                                15014 non-null  float64\n",
      " 1   Longitude                               15014 non-null  float64\n",
      " 2   Zipcode                                 15014 non-null  int64  \n",
      " 3   id                                      15014 non-null  float64\n",
      " 4   listing_url                             15014 non-null  object \n",
      " 5   name                                    15014 non-null  object \n",
      " 6   picture_url                             15014 non-null  object \n",
      " 7   host_id                                 15014 non-null  int64  \n",
      " 8   host_url                                15014 non-null  object \n",
      " 9   host_name                               15014 non-null  object \n",
      " 10  host_location                           11319 non-null  object \n",
      " 11  host_about                              10998 non-null  object \n",
      " 12  host_response_time                      14479 non-null  object \n",
      " 13  host_response_rate                      14479 non-null  object \n",
      " 14  host_acceptance_rate                    14596 non-null  float64\n",
      " 15  host_is_superhost                       14999 non-null  object \n",
      " 16  host_thumbnail_url                      15014 non-null  object \n",
      " 17  host_picture_url                        15014 non-null  object \n",
      " 18  host_neighbourhood                      12679 non-null  object \n",
      " 19  host_listings_count                     15014 non-null  int64  \n",
      " 20  host_total_listings_count               15014 non-null  int64  \n",
      " 21  host_has_profile_pic                    15014 non-null  bool   \n",
      " 22  host_identity_verified                  15014 non-null  bool   \n",
      " 23  neighbourhood                           8315 non-null   object \n",
      " 24  neighbourhood_cleansed                  15014 non-null  object \n",
      " 25  neighbourhood_group_cleansed            15014 non-null  object \n",
      " 26  property_type                           15014 non-null  object \n",
      " 27  code-hawaii                             15014 non-null  int64  \n",
      " 28  room_type                               15014 non-null  object \n",
      " 29  accommodates                            15014 non-null  int64  \n",
      " 30  bathrooms_text                          15008 non-null  object \n",
      " 31  bedrooms                                12628 non-null  float64\n",
      " 32  beds                                    14908 non-null  float64\n",
      " 33  price                                   15014 non-null  int64  \n",
      " 34  revenue_potential_annual                15014 non-null  int64  \n",
      " 35  has_availability                        15014 non-null  bool   \n",
      " 36  availability_30                         15014 non-null  int64  \n",
      " 37  availability_60                         15014 non-null  int64  \n",
      " 38  availability_90                         15014 non-null  int64  \n",
      " 39  availability_365                        15014 non-null  int64  \n",
      " 40  number_of_reviews                       15014 non-null  int64  \n",
      " 41  number_of_reviews_ltm                   15014 non-null  int64  \n",
      " 42  number_of_reviews_l30d                  15014 non-null  int64  \n",
      " 43  review_scores_rating                    12694 non-null  float64\n",
      " 44  review_scores_accuracy                  12686 non-null  float64\n",
      " 45  review_scores_cleanliness               12686 non-null  float64\n",
      " 46  review_scores_checkin                   12685 non-null  float64\n",
      " 47  review_scores_communication             12686 non-null  float64\n",
      " 48  review_scores_location                  12685 non-null  float64\n",
      " 49  review_scores_value                     12685 non-null  float64\n",
      " 50  Average Annual Max Temp (F)             15014 non-null  float64\n",
      " 51  Average Annual Min Temp (F)             15014 non-null  float64\n",
      " 52  Average Annual Precipitation (inches)   15014 non-null  float64\n",
      " 53  Average Annual Wind Speed (mph)         15014 non-null  float64\n",
      " 54  Average Annual UV Index (0-10)          15014 non-null  float64\n",
      " 55  Average Annual Visibility (miles)       15014 non-null  float64\n",
      " 56  Average Annual Cloud Cover (%)          15014 non-null  float64\n",
      " 57  Average Annual Humidity (%)             15014 non-null  float64\n",
      " 58  Average Annual Solar Radiation (W/m^2)  15014 non-null  float64\n",
      " 59  median_ppsf                             15014 non-null  float64\n",
      "dtypes: bool(3), float64(23), int64(15), object(19)\n",
      "memory usage: 6.6+ MB\n"
     ]
    }
   ],
   "source": [
    "hawaii_raw.info()"
   ]
  },
  {
   "cell_type": "code",
   "execution_count": 5,
   "metadata": {
    "colab": {
     "base_uri": "https://localhost:8080/"
    },
    "id": "eGl_7R2nkcHA",
    "outputId": "c80b16c9-11d6-4628-9611-62e0b72e1f8b"
   },
   "outputs": [
    {
     "name": "stdout",
     "output_type": "stream",
     "text": [
      "<class 'pandas.core.frame.DataFrame'>\n",
      "RangeIndex: 15014 entries, 0 to 15013\n",
      "Data columns (total 60 columns):\n",
      " #   Column                                  Non-Null Count  Dtype  \n",
      "---  ------                                  --------------  -----  \n",
      " 0   Latitude                                15014 non-null  float64\n",
      " 1   Longitude                               15014 non-null  float64\n",
      " 2   Zipcode                                 15014 non-null  int64  \n",
      " 3   id                                      15014 non-null  float64\n",
      " 4   listing_url                             15014 non-null  object \n",
      " 5   name                                    15014 non-null  object \n",
      " 6   picture_url                             15014 non-null  object \n",
      " 7   host_id                                 15014 non-null  int64  \n",
      " 8   host_url                                15014 non-null  object \n",
      " 9   host_name                               15014 non-null  object \n",
      " 10  host_location                           11319 non-null  object \n",
      " 11  host_about                              10998 non-null  object \n",
      " 12  host_response_time                      14479 non-null  object \n",
      " 13  host_response_rate                      14479 non-null  object \n",
      " 14  host_acceptance_rate                    14596 non-null  float64\n",
      " 15  host_is_superhost                       14999 non-null  object \n",
      " 16  host_thumbnail_url                      15014 non-null  object \n",
      " 17  host_picture_url                        15014 non-null  object \n",
      " 18  host_neighbourhood                      12679 non-null  object \n",
      " 19  host_listings_count                     15014 non-null  int64  \n",
      " 20  host_total_listings_count               15014 non-null  int64  \n",
      " 21  host_has_profile_pic                    15014 non-null  bool   \n",
      " 22  host_identity_verified                  15014 non-null  bool   \n",
      " 23  neighbourhood                           8315 non-null   object \n",
      " 24  neighbourhood_cleansed                  15014 non-null  object \n",
      " 25  neighbourhood_group_cleansed            15014 non-null  object \n",
      " 26  property_type                           15014 non-null  object \n",
      " 27  code-hawaii                             15014 non-null  int64  \n",
      " 28  room_type                               15014 non-null  object \n",
      " 29  accommodates                            15014 non-null  int64  \n",
      " 30  bathrooms_text                          15008 non-null  object \n",
      " 31  bedrooms                                12628 non-null  float64\n",
      " 32  beds                                    14908 non-null  float64\n",
      " 33  price                                   15014 non-null  int64  \n",
      " 34  revenue_potential_annual                15014 non-null  int64  \n",
      " 35  has_availability                        15014 non-null  bool   \n",
      " 36  availability_30                         15014 non-null  int64  \n",
      " 37  availability_60                         15014 non-null  int64  \n",
      " 38  availability_90                         15014 non-null  int64  \n",
      " 39  availability_365                        15014 non-null  int64  \n",
      " 40  number_of_reviews                       15014 non-null  int64  \n",
      " 41  number_of_reviews_ltm                   15014 non-null  int64  \n",
      " 42  number_of_reviews_l30d                  15014 non-null  int64  \n",
      " 43  review_scores_rating                    12694 non-null  float64\n",
      " 44  review_scores_accuracy                  12686 non-null  float64\n",
      " 45  review_scores_cleanliness               12686 non-null  float64\n",
      " 46  review_scores_checkin                   12685 non-null  float64\n",
      " 47  review_scores_communication             12686 non-null  float64\n",
      " 48  review_scores_location                  12685 non-null  float64\n",
      " 49  review_scores_value                     12685 non-null  float64\n",
      " 50  Average Annual Max Temp (F)             15014 non-null  float64\n",
      " 51  Average Annual Min Temp (F)             15014 non-null  float64\n",
      " 52  Average Annual Precipitation (inches)   15014 non-null  float64\n",
      " 53  Average Annual Wind Speed (mph)         15014 non-null  float64\n",
      " 54  Average Annual UV Index (0-10)          15014 non-null  float64\n",
      " 55  Average Annual Visibility (miles)       15014 non-null  float64\n",
      " 56  Average Annual Cloud Cover (%)          15014 non-null  float64\n",
      " 57  Average Annual Humidity (%)             15014 non-null  float64\n",
      " 58  Average Annual Solar Radiation (W/m^2)  15014 non-null  float64\n",
      " 59  median_ppsf                             15014 non-null  float64\n",
      "dtypes: bool(3), float64(23), int64(15), object(19)\n",
      "memory usage: 6.6+ MB\n"
     ]
    }
   ],
   "source": [
    "hawaii_raw.dropna()\n",
    "hawaii_raw.info()"
   ]
  },
  {
   "cell_type": "code",
   "execution_count": 6,
   "metadata": {
    "colab": {
     "base_uri": "https://localhost:8080/"
    },
    "id": "UxxcXRxLlYeA",
    "outputId": "70f14784-93e5-4748-dfe8-2df47d53a1cd"
   },
   "outputs": [
    {
     "name": "stdout",
     "output_type": "stream",
     "text": [
      "Defaulting to user installation because normal site-packages is not writeable\n",
      "Requirement already satisfied: geopandas in /cvmfs/cybergis.illinois.edu/software/conda/cybergisx/python3-0.9.0/lib/python3.8/site-packages (0.10.2)\n",
      "Requirement already satisfied: shapely>=1.6 in /cvmfs/cybergis.illinois.edu/software/conda/cybergisx/python3-0.9.0/lib/python3.8/site-packages (from geopandas) (1.8.0)\n",
      "Requirement already satisfied: fiona>=1.8 in /cvmfs/cybergis.illinois.edu/software/conda/cybergisx/python3-0.9.0/lib/python3.8/site-packages (from geopandas) (1.8.20)\n",
      "Requirement already satisfied: pyproj>=2.2.0 in /cvmfs/cybergis.illinois.edu/software/conda/cybergisx/python3-0.9.0/lib/python3.8/site-packages (from geopandas) (3.3.0)\n",
      "Requirement already satisfied: pandas>=0.25.0 in /cvmfs/cybergis.illinois.edu/software/conda/cybergisx/python3-0.9.0/lib/python3.8/site-packages (from geopandas) (1.3.5)\n",
      "Requirement already satisfied: attrs>=17 in /cvmfs/cybergis.illinois.edu/software/conda/cybergisx/python3-0.9.0/lib/python3.8/site-packages (from fiona>=1.8->geopandas) (21.4.0)\n",
      "Requirement already satisfied: certifi in /cvmfs/cybergis.illinois.edu/software/conda/cybergisx/python3-0.9.0/lib/python3.8/site-packages (from fiona>=1.8->geopandas) (2021.10.8)\n",
      "Requirement already satisfied: click>=4.0 in /cvmfs/cybergis.illinois.edu/software/conda/cybergisx/python3-0.9.0/lib/python3.8/site-packages (from fiona>=1.8->geopandas) (7.1.2)\n",
      "Requirement already satisfied: cligj>=0.5 in /cvmfs/cybergis.illinois.edu/software/conda/cybergisx/python3-0.9.0/lib/python3.8/site-packages (from fiona>=1.8->geopandas) (0.7.2)\n",
      "Requirement already satisfied: click-plugins>=1.0 in /cvmfs/cybergis.illinois.edu/software/conda/cybergisx/python3-0.9.0/lib/python3.8/site-packages (from fiona>=1.8->geopandas) (1.1.1)\n",
      "Requirement already satisfied: six>=1.7 in /cvmfs/cybergis.illinois.edu/software/conda/cybergisx/python3-0.9.0/lib/python3.8/site-packages (from fiona>=1.8->geopandas) (1.16.0)\n",
      "Requirement already satisfied: munch in /cvmfs/cybergis.illinois.edu/software/conda/cybergisx/python3-0.9.0/lib/python3.8/site-packages (from fiona>=1.8->geopandas) (2.5.0)\n",
      "Requirement already satisfied: setuptools in /cvmfs/cybergis.illinois.edu/software/conda/cybergisx/python3-0.9.0/lib/python3.8/site-packages (from fiona>=1.8->geopandas) (59.8.0)\n",
      "Requirement already satisfied: python-dateutil>=2.7.3 in /cvmfs/cybergis.illinois.edu/software/conda/cybergisx/python3-0.9.0/lib/python3.8/site-packages (from pandas>=0.25.0->geopandas) (2.8.0)\n",
      "Requirement already satisfied: pytz>=2017.3 in /cvmfs/cybergis.illinois.edu/software/conda/cybergisx/python3-0.9.0/lib/python3.8/site-packages (from pandas>=0.25.0->geopandas) (2021.3)\n",
      "Requirement already satisfied: numpy>=1.17.3 in /cvmfs/cybergis.illinois.edu/software/conda/cybergisx/python3-0.9.0/lib/python3.8/site-packages (from pandas>=0.25.0->geopandas) (1.22.0)\n",
      "Note: you may need to restart the kernel to use updated packages.\n"
     ]
    }
   ],
   "source": [
    "pip install geopandas"
   ]
  },
  {
   "cell_type": "code",
   "execution_count": 7,
   "metadata": {
    "id": "1a05Q-sfkuHa"
   },
   "outputs": [],
   "source": [
    "#reading zipcode wise shape file of US\n",
    "import geopandas\n",
    "hawaii_zipcode_gdf=geopandas.read_file(\"/home/jovyan/work/GGIS570/FinalProject/ShapeFiles/tl_2022_us_zcta520.shp\")"
   ]
  },
  {
   "cell_type": "code",
   "execution_count": 8,
   "metadata": {
    "colab": {
     "base_uri": "https://localhost:8080/"
    },
    "id": "mVwLLgnNnIx4",
    "outputId": "f2a6e2ce-e83f-4ed5-fd38-49af52bffacc"
   },
   "outputs": [
    {
     "name": "stdout",
     "output_type": "stream",
     "text": [
      "<class 'geopandas.geodataframe.GeoDataFrame'>\n",
      "RangeIndex: 33791 entries, 0 to 33790\n",
      "Data columns (total 10 columns):\n",
      " #   Column      Non-Null Count  Dtype   \n",
      "---  ------      --------------  -----   \n",
      " 0   ZCTA5CE20   33791 non-null  object  \n",
      " 1   GEOID20     33791 non-null  object  \n",
      " 2   CLASSFP20   33791 non-null  object  \n",
      " 3   MTFCC20     33791 non-null  object  \n",
      " 4   FUNCSTAT20  33791 non-null  object  \n",
      " 5   ALAND20     33791 non-null  int64   \n",
      " 6   AWATER20    33791 non-null  int64   \n",
      " 7   INTPTLAT20  33791 non-null  object  \n",
      " 8   INTPTLON20  33791 non-null  object  \n",
      " 9   geometry    33791 non-null  geometry\n",
      "dtypes: geometry(1), int64(2), object(7)\n",
      "memory usage: 2.6+ MB\n"
     ]
    }
   ],
   "source": [
    "hawaii_zipcode_gdf.info()"
   ]
  },
  {
   "cell_type": "code",
   "execution_count": 9,
   "metadata": {
    "colab": {
     "base_uri": "https://localhost:8080/"
    },
    "id": "5eJKmQsHXSxM",
    "outputId": "30374d07-af90-4b8f-d977-fcfcaf7cdee0"
   },
   "outputs": [
    {
     "name": "stdout",
     "output_type": "stream",
     "text": [
      "<class 'geopandas.geodataframe.GeoDataFrame'>\n",
      "Int64Index: 15014 entries, 0 to 15013\n",
      "Data columns (total 69 columns):\n",
      " #   Column                                  Non-Null Count  Dtype   \n",
      "---  ------                                  --------------  -----   \n",
      " 0   ZCTA5CE20                               15014 non-null  int64   \n",
      " 1   GEOID20                                 15014 non-null  object  \n",
      " 2   CLASSFP20                               15014 non-null  object  \n",
      " 3   MTFCC20                                 15014 non-null  object  \n",
      " 4   FUNCSTAT20                              15014 non-null  object  \n",
      " 5   ALAND20                                 15014 non-null  int64   \n",
      " 6   AWATER20                                15014 non-null  int64   \n",
      " 7   INTPTLAT20                              15014 non-null  object  \n",
      " 8   INTPTLON20                              15014 non-null  object  \n",
      " 9   geometry                                15014 non-null  geometry\n",
      " 10  Latitude                                15014 non-null  float64 \n",
      " 11  Longitude                               15014 non-null  float64 \n",
      " 12  id                                      15014 non-null  float64 \n",
      " 13  listing_url                             15014 non-null  object  \n",
      " 14  name                                    15014 non-null  object  \n",
      " 15  picture_url                             15014 non-null  object  \n",
      " 16  host_id                                 15014 non-null  int64   \n",
      " 17  host_url                                15014 non-null  object  \n",
      " 18  host_name                               15014 non-null  object  \n",
      " 19  host_location                           11319 non-null  object  \n",
      " 20  host_about                              10998 non-null  object  \n",
      " 21  host_response_time                      14479 non-null  object  \n",
      " 22  host_response_rate                      14479 non-null  object  \n",
      " 23  host_acceptance_rate                    14596 non-null  float64 \n",
      " 24  host_is_superhost                       14999 non-null  object  \n",
      " 25  host_thumbnail_url                      15014 non-null  object  \n",
      " 26  host_picture_url                        15014 non-null  object  \n",
      " 27  host_neighbourhood                      12679 non-null  object  \n",
      " 28  host_listings_count                     15014 non-null  int64   \n",
      " 29  host_total_listings_count               15014 non-null  int64   \n",
      " 30  host_has_profile_pic                    15014 non-null  bool    \n",
      " 31  host_identity_verified                  15014 non-null  bool    \n",
      " 32  neighbourhood                           8315 non-null   object  \n",
      " 33  neighbourhood_cleansed                  15014 non-null  object  \n",
      " 34  neighbourhood_group_cleansed            15014 non-null  object  \n",
      " 35  property_type                           15014 non-null  object  \n",
      " 36  code-hawaii                             15014 non-null  int64   \n",
      " 37  room_type                               15014 non-null  object  \n",
      " 38  accommodates                            15014 non-null  int64   \n",
      " 39  bathrooms_text                          15008 non-null  object  \n",
      " 40  bedrooms                                12628 non-null  float64 \n",
      " 41  beds                                    14908 non-null  float64 \n",
      " 42  price                                   15014 non-null  int64   \n",
      " 43  revenue_potential_annual                15014 non-null  int64   \n",
      " 44  has_availability                        15014 non-null  bool    \n",
      " 45  availability_30                         15014 non-null  int64   \n",
      " 46  availability_60                         15014 non-null  int64   \n",
      " 47  availability_90                         15014 non-null  int64   \n",
      " 48  availability_365                        15014 non-null  int64   \n",
      " 49  number_of_reviews                       15014 non-null  int64   \n",
      " 50  number_of_reviews_ltm                   15014 non-null  int64   \n",
      " 51  number_of_reviews_l30d                  15014 non-null  int64   \n",
      " 52  review_scores_rating                    12694 non-null  float64 \n",
      " 53  review_scores_accuracy                  12686 non-null  float64 \n",
      " 54  review_scores_cleanliness               12686 non-null  float64 \n",
      " 55  review_scores_checkin                   12685 non-null  float64 \n",
      " 56  review_scores_communication             12686 non-null  float64 \n",
      " 57  review_scores_location                  12685 non-null  float64 \n",
      " 58  review_scores_value                     12685 non-null  float64 \n",
      " 59  Average Annual Max Temp (F)             15014 non-null  float64 \n",
      " 60  Average Annual Min Temp (F)             15014 non-null  float64 \n",
      " 61  Average Annual Precipitation (inches)   15014 non-null  float64 \n",
      " 62  Average Annual Wind Speed (mph)         15014 non-null  float64 \n",
      " 63  Average Annual UV Index (0-10)          15014 non-null  float64 \n",
      " 64  Average Annual Visibility (miles)       15014 non-null  float64 \n",
      " 65  Average Annual Cloud Cover (%)          15014 non-null  float64 \n",
      " 66  Average Annual Humidity (%)             15014 non-null  float64 \n",
      " 67  Average Annual Solar Radiation (W/m^2)  15014 non-null  float64 \n",
      " 68  median_ppsf                             15014 non-null  float64 \n",
      "dtypes: bool(3), float64(23), geometry(1), int64(17), object(25)\n",
      "memory usage: 7.7+ MB\n"
     ]
    }
   ],
   "source": [
    "#merging shp gdf (geopandas data frame) and hawaii raw df (data frame)\n",
    "\n",
    "hawaii_zipcode_gdf['ZCTA5CE20']=hawaii_zipcode_gdf['ZCTA5CE20'].astype(int)\n",
    "hawaii_raw.rename(columns = {'Zipcode':'ZCTA5CE20'}, inplace = True)\n",
    "#Merge the shapefile with the places data by the common column - ZCTA5CE20\n",
    "hawaii_zipcode_gdf_merged = hawaii_zipcode_gdf.merge(hawaii_raw, on = \"ZCTA5CE20\")\n",
    "#Final GeoDataFrame\n",
    "\n",
    "hawaii_zipcode_gdf_merged.info()"
   ]
  },
  {
   "cell_type": "code",
   "execution_count": 10,
   "metadata": {
    "id": "d1GPbdh3xb4F"
   },
   "outputs": [],
   "source": [
    "#converts the resulting values to floats using the 'astype' method\n",
    "hawaii_zipcode_gdf_merged['price'] = hawaii_zipcode_gdf_merged['price'].astype(float)"
   ]
  },
  {
   "cell_type": "code",
   "execution_count": 11,
   "metadata": {
    "colab": {
     "base_uri": "https://localhost:8080/"
    },
    "id": "IfV5KTuDYQcJ",
    "outputId": "7b8a79d1-318c-480f-bc62-6c269665dc26"
   },
   "outputs": [
    {
     "name": "stdout",
     "output_type": "stream",
     "text": [
      "<class 'geopandas.geodataframe.GeoDataFrame'>\n",
      "Int64Index: 15014 entries, 0 to 15013\n",
      "Data columns (total 57 columns):\n",
      " #   Column                                  Non-Null Count  Dtype   \n",
      "---  ------                                  --------------  -----   \n",
      " 0   ZCTA5CE20                               15014 non-null  int64   \n",
      " 1   GEOID20                                 15014 non-null  object  \n",
      " 2   CLASSFP20                               15014 non-null  object  \n",
      " 3   MTFCC20                                 15014 non-null  object  \n",
      " 4   FUNCSTAT20                              15014 non-null  object  \n",
      " 5   ALAND20                                 15014 non-null  int64   \n",
      " 6   AWATER20                                15014 non-null  int64   \n",
      " 7   INTPTLAT20                              15014 non-null  object  \n",
      " 8   INTPTLON20                              15014 non-null  object  \n",
      " 9   geometry                                15014 non-null  geometry\n",
      " 10  Latitude                                15014 non-null  float64 \n",
      " 11  Longitude                               15014 non-null  float64 \n",
      " 12  id                                      15014 non-null  float64 \n",
      " 13  listing_url                             15014 non-null  object  \n",
      " 14  name                                    15014 non-null  object  \n",
      " 15  picture_url                             15014 non-null  object  \n",
      " 16  host_id                                 15014 non-null  int64   \n",
      " 17  host_url                                15014 non-null  object  \n",
      " 18  host_name                               15014 non-null  object  \n",
      " 19  host_about                              10998 non-null  object  \n",
      " 20  host_response_time                      14479 non-null  object  \n",
      " 21  host_response_rate                      14479 non-null  object  \n",
      " 22  host_acceptance_rate                    14596 non-null  float64 \n",
      " 23  host_is_superhost                       14999 non-null  object  \n",
      " 24  host_thumbnail_url                      15014 non-null  object  \n",
      " 25  host_picture_url                        15014 non-null  object  \n",
      " 26  host_listings_count                     15014 non-null  int64   \n",
      " 27  host_total_listings_count               15014 non-null  int64   \n",
      " 28  host_has_profile_pic                    15014 non-null  bool    \n",
      " 29  host_identity_verified                  15014 non-null  bool    \n",
      " 30  neighbourhood                           8315 non-null   object  \n",
      " 31  neighbourhood_cleansed                  15014 non-null  object  \n",
      " 32  neighbourhood_group_cleansed            15014 non-null  object  \n",
      " 33  property_type                           15014 non-null  object  \n",
      " 34  code-hawaii                             15014 non-null  int64   \n",
      " 35  room_type                               15014 non-null  object  \n",
      " 36  accommodates                            15014 non-null  int64   \n",
      " 37  price                                   15014 non-null  float64 \n",
      " 38  revenue_potential_annual                15014 non-null  int64   \n",
      " 39  has_availability                        15014 non-null  bool    \n",
      " 40  availability_30                         15014 non-null  int64   \n",
      " 41  availability_60                         15014 non-null  int64   \n",
      " 42  availability_90                         15014 non-null  int64   \n",
      " 43  availability_365                        15014 non-null  int64   \n",
      " 44  number_of_reviews                       15014 non-null  int64   \n",
      " 45  number_of_reviews_ltm                   15014 non-null  int64   \n",
      " 46  number_of_reviews_l30d                  15014 non-null  int64   \n",
      " 47  Average Annual Max Temp (F)             15014 non-null  float64 \n",
      " 48  Average Annual Min Temp (F)             15014 non-null  float64 \n",
      " 49  Average Annual Precipitation (inches)   15014 non-null  float64 \n",
      " 50  Average Annual Wind Speed (mph)         15014 non-null  float64 \n",
      " 51  Average Annual UV Index (0-10)          15014 non-null  float64 \n",
      " 52  Average Annual Visibility (miles)       15014 non-null  float64 \n",
      " 53  Average Annual Cloud Cover (%)          15014 non-null  float64 \n",
      " 54  Average Annual Humidity (%)             15014 non-null  float64 \n",
      " 55  Average Annual Solar Radiation (W/m^2)  15014 non-null  float64 \n",
      " 56  median_ppsf                             15014 non-null  float64 \n",
      "dtypes: bool(3), float64(15), geometry(1), int64(16), object(22)\n",
      "memory usage: 6.3+ MB\n"
     ]
    }
   ],
   "source": [
    "#Dropping non relevant columns to get final geodataframe called hawaii_final\n",
    "hawaii_final = hawaii_zipcode_gdf_merged.drop(columns=['host_location', 'review_scores_value','review_scores_location','review_scores_communication','review_scores_checkin','review_scores_cleanliness','review_scores_accuracy','review_scores_rating','beds','bedrooms','bathrooms_text','host_neighbourhood','host_neighbourhood','host_location'])\n",
    "hawaii_final.info()"
   ]
  },
  {
   "cell_type": "code",
   "execution_count": 12,
   "metadata": {
    "colab": {
     "base_uri": "https://localhost:8080/"
    },
    "id": "kZDcYMLgZmDW",
    "outputId": "5d7ae206-42cb-4e73-ed25-d656e049ece6",
    "tags": []
   },
   "outputs": [
    {
     "name": "stdout",
     "output_type": "stream",
     "text": [
      "<class 'geopandas.geodataframe.GeoDataFrame'>\n",
      "Int64Index: 15014 entries, 0 to 15013\n",
      "Data columns (total 57 columns):\n",
      " #   Column                                  Non-Null Count  Dtype   \n",
      "---  ------                                  --------------  -----   \n",
      " 0   ZCTA5CE20                               15014 non-null  int64   \n",
      " 1   GEOID20                                 15014 non-null  object  \n",
      " 2   CLASSFP20                               15014 non-null  object  \n",
      " 3   MTFCC20                                 15014 non-null  object  \n",
      " 4   FUNCSTAT20                              15014 non-null  object  \n",
      " 5   ALAND20                                 15014 non-null  int64   \n",
      " 6   AWATER20                                15014 non-null  int64   \n",
      " 7   INTPTLAT20                              15014 non-null  object  \n",
      " 8   INTPTLON20                              15014 non-null  object  \n",
      " 9   geometry                                15014 non-null  geometry\n",
      " 10  Latitude                                15014 non-null  float64 \n",
      " 11  Longitude                               15014 non-null  float64 \n",
      " 12  id                                      15014 non-null  float64 \n",
      " 13  listing_url                             15014 non-null  object  \n",
      " 14  name                                    15014 non-null  object  \n",
      " 15  picture_url                             15014 non-null  object  \n",
      " 16  host_id                                 15014 non-null  int64   \n",
      " 17  host_url                                15014 non-null  object  \n",
      " 18  host_name                               15014 non-null  object  \n",
      " 19  host_about                              10998 non-null  object  \n",
      " 20  host_response_time                      14479 non-null  object  \n",
      " 21  host_response_rate                      14479 non-null  object  \n",
      " 22  host_acceptance_rate                    14596 non-null  float64 \n",
      " 23  host_is_superhost                       14999 non-null  object  \n",
      " 24  host_thumbnail_url                      15014 non-null  object  \n",
      " 25  host_picture_url                        15014 non-null  object  \n",
      " 26  host_listings_count                     15014 non-null  int64   \n",
      " 27  host_total_listings_count               15014 non-null  int64   \n",
      " 28  host_has_profile_pic                    15014 non-null  bool    \n",
      " 29  host_identity_verified                  15014 non-null  bool    \n",
      " 30  neighbourhood                           8315 non-null   object  \n",
      " 31  neighbourhood_cleansed                  15014 non-null  object  \n",
      " 32  neighbourhood_group_cleansed            15014 non-null  object  \n",
      " 33  property_type                           15014 non-null  object  \n",
      " 34  code-hawaii                             15014 non-null  int64   \n",
      " 35  room_type                               15014 non-null  object  \n",
      " 36  accommodates                            15014 non-null  int64   \n",
      " 37  price                                   15014 non-null  float64 \n",
      " 38  revenue_potential_annual                15014 non-null  int64   \n",
      " 39  has_availability                        15014 non-null  bool    \n",
      " 40  availability_30                         15014 non-null  int64   \n",
      " 41  availability_60                         15014 non-null  int64   \n",
      " 42  availability_90                         15014 non-null  int64   \n",
      " 43  availability_365                        15014 non-null  int64   \n",
      " 44  number_of_reviews                       15014 non-null  int64   \n",
      " 45  number_of_reviews_ltm                   15014 non-null  int64   \n",
      " 46  number_of_reviews_l30d                  15014 non-null  int64   \n",
      " 47  Average Annual Max Temp (F)             15014 non-null  float64 \n",
      " 48  Average Annual Min Temp (F)             15014 non-null  float64 \n",
      " 49  Average Annual Precipitation (inches)   15014 non-null  float64 \n",
      " 50  Average Annual Wind Speed (mph)         15014 non-null  float64 \n",
      " 51  Average Annual UV Index (0-10)          15014 non-null  float64 \n",
      " 52  Average Annual Visibility (miles)       15014 non-null  float64 \n",
      " 53  Average Annual Cloud Cover (%)          15014 non-null  float64 \n",
      " 54  Average Annual Humidity (%)             15014 non-null  float64 \n",
      " 55  Average Annual Solar Radiation (W/m^2)  15014 non-null  float64 \n",
      " 56  median_ppsf                             15014 non-null  float64 \n",
      "dtypes: bool(3), float64(15), geometry(1), int64(16), object(22)\n",
      "memory usage: 6.3+ MB\n"
     ]
    }
   ],
   "source": [
    "hawaii_final.dropna()\n",
    "hawaii_final.info()"
   ]
  },
  {
   "cell_type": "code",
   "execution_count": 13,
   "metadata": {
    "id": "NGGv24G2idvc"
   },
   "outputs": [],
   "source": [
    "#dissolve Hawaii's final dataset by zip code boundaries ('ZCTA5CE20') and then retrieving the boundary geometry for each zip code for aggregated granularity\n",
    "zipcode_gdf = hawaii_final.dissolve(by='ZCTA5CE20').geometry.boundary"
   ]
  },
  {
   "cell_type": "code",
   "execution_count": 14,
   "metadata": {
    "id": "TN8mL_oIig0f"
   },
   "outputs": [],
   "source": [
    "#defining two variables, y and X, based on the data in a DataFrame called hawaii_final\n",
    "variable_names=['price', 'Average Annual Max Temp (F)', 'Average Annual Min Temp (F)', 'Average Annual Precipitation (inches)', 'Average Annual Wind Speed (mph)', 'Average Annual UV Index (0-10)', 'Average Annual Visibility (miles)', 'Average Annual Cloud Cover (%)', 'Average Annual Humidity (%)', 'Average Annual Solar Radiation (W/m^2)']\n",
    "y = hawaii_final[['median_ppsf']].values\n",
    "X = hawaii_final[variable_names].values"
   ]
  },
  {
   "cell_type": "code",
   "execution_count": 15,
   "metadata": {
    "colab": {
     "base_uri": "https://localhost:8080/"
    },
    "id": "NRsdB0dltakP",
    "outputId": "a5ba2dba-8d6b-4fdf-a1b7-cc1c7b7bd4fb"
   },
   "outputs": [
    {
     "name": "stdout",
     "output_type": "stream",
     "text": [
      "Defaulting to user installation because normal site-packages is not writeable\n",
      "Requirement already satisfied: libpysal in /cvmfs/cybergis.illinois.edu/software/conda/cybergisx/python3-0.9.0/lib/python3.8/site-packages (4.5.1)\n",
      "Requirement already satisfied: scipy>=0.11 in /cvmfs/cybergis.illinois.edu/software/conda/cybergisx/python3-0.9.0/lib/python3.8/site-packages (from libpysal) (1.7.3)\n",
      "Requirement already satisfied: requests in /cvmfs/cybergis.illinois.edu/software/conda/cybergisx/python3-0.9.0/lib/python3.8/site-packages (from libpysal) (2.27.1)\n",
      "Requirement already satisfied: jinja2 in /cvmfs/cybergis.illinois.edu/software/conda/cybergisx/python3-0.9.0/lib/python3.8/site-packages (from libpysal) (3.0.3)\n",
      "Requirement already satisfied: pandas in /cvmfs/cybergis.illinois.edu/software/conda/cybergisx/python3-0.9.0/lib/python3.8/site-packages (from libpysal) (1.3.5)\n",
      "Requirement already satisfied: numpy>=1.3 in /cvmfs/cybergis.illinois.edu/software/conda/cybergisx/python3-0.9.0/lib/python3.8/site-packages (from libpysal) (1.22.0)\n",
      "Requirement already satisfied: beautifulsoup4 in /cvmfs/cybergis.illinois.edu/software/conda/cybergisx/python3-0.9.0/lib/python3.8/site-packages (from libpysal) (4.10.0)\n",
      "Requirement already satisfied: soupsieve>1.2 in /cvmfs/cybergis.illinois.edu/software/conda/cybergisx/python3-0.9.0/lib/python3.8/site-packages (from beautifulsoup4->libpysal) (2.3.1)\n",
      "Requirement already satisfied: MarkupSafe>=2.0 in /cvmfs/cybergis.illinois.edu/software/conda/cybergisx/python3-0.9.0/lib/python3.8/site-packages (from jinja2->libpysal) (2.0.1)\n",
      "Requirement already satisfied: python-dateutil>=2.7.3 in /cvmfs/cybergis.illinois.edu/software/conda/cybergisx/python3-0.9.0/lib/python3.8/site-packages (from pandas->libpysal) (2.8.0)\n",
      "Requirement already satisfied: pytz>=2017.3 in /cvmfs/cybergis.illinois.edu/software/conda/cybergisx/python3-0.9.0/lib/python3.8/site-packages (from pandas->libpysal) (2021.3)\n",
      "Requirement already satisfied: urllib3<1.27,>=1.21.1 in /cvmfs/cybergis.illinois.edu/software/conda/cybergisx/python3-0.9.0/lib/python3.8/site-packages (from requests->libpysal) (1.25.11)\n",
      "Requirement already satisfied: certifi>=2017.4.17 in /cvmfs/cybergis.illinois.edu/software/conda/cybergisx/python3-0.9.0/lib/python3.8/site-packages (from requests->libpysal) (2021.10.8)\n",
      "Requirement already satisfied: charset-normalizer~=2.0.0 in /cvmfs/cybergis.illinois.edu/software/conda/cybergisx/python3-0.9.0/lib/python3.8/site-packages (from requests->libpysal) (2.0.10)\n",
      "Requirement already satisfied: idna<4,>=2.5 in /cvmfs/cybergis.illinois.edu/software/conda/cybergisx/python3-0.9.0/lib/python3.8/site-packages (from requests->libpysal) (3.3)\n",
      "Requirement already satisfied: six>=1.5 in /cvmfs/cybergis.illinois.edu/software/conda/cybergisx/python3-0.9.0/lib/python3.8/site-packages (from python-dateutil>=2.7.3->pandas->libpysal) (1.16.0)\n",
      "Note: you may need to restart the kernel to use updated packages.\n"
     ]
    }
   ],
   "source": [
    "pip install libpysal"
   ]
  },
  {
   "cell_type": "code",
   "execution_count": 16,
   "metadata": {
    "colab": {
     "base_uri": "https://localhost:8080/"
    },
    "id": "JFs-3DswtlS8",
    "outputId": "e486d617-9e7a-42d8-c46b-1dc399858df0"
   },
   "outputs": [
    {
     "name": "stdout",
     "output_type": "stream",
     "text": [
      "Defaulting to user installation because normal site-packages is not writeable\n",
      "Requirement already satisfied: splot in /cvmfs/cybergis.illinois.edu/software/conda/cybergisx/python3-0.9.0/lib/python3.8/site-packages (1.1.4)\n",
      "Requirement already satisfied: descartes in /cvmfs/cybergis.illinois.edu/software/conda/cybergisx/python3-0.9.0/lib/python3.8/site-packages (from splot) (1.1.0)\n",
      "Requirement already satisfied: seaborn in /cvmfs/cybergis.illinois.edu/software/conda/cybergisx/python3-0.9.0/lib/python3.8/site-packages (from splot) (0.11.2)\n",
      "Requirement already satisfied: mapclassify in /cvmfs/cybergis.illinois.edu/software/conda/cybergisx/python3-0.9.0/lib/python3.8/site-packages (from splot) (2.4.3)\n",
      "Requirement already satisfied: giddy in /cvmfs/cybergis.illinois.edu/software/conda/cybergisx/python3-0.9.0/lib/python3.8/site-packages (from splot) (2.3.3)\n",
      "Requirement already satisfied: matplotlib in /cvmfs/cybergis.illinois.edu/software/conda/cybergisx/python3-0.9.0/lib/python3.8/site-packages (from splot) (3.4.3)\n",
      "Requirement already satisfied: numpy in /cvmfs/cybergis.illinois.edu/software/conda/cybergisx/python3-0.9.0/lib/python3.8/site-packages (from splot) (1.22.0)\n",
      "Requirement already satisfied: geopandas>=0.4.0 in /cvmfs/cybergis.illinois.edu/software/conda/cybergisx/python3-0.9.0/lib/python3.8/site-packages (from splot) (0.10.2)\n",
      "Requirement already satisfied: spreg in /cvmfs/cybergis.illinois.edu/software/conda/cybergisx/python3-0.9.0/lib/python3.8/site-packages (from splot) (1.2.4)\n",
      "Requirement already satisfied: esda in /cvmfs/cybergis.illinois.edu/software/conda/cybergisx/python3-0.9.0/lib/python3.8/site-packages (from splot) (2.4.1)\n",
      "Requirement already satisfied: libpysal in /cvmfs/cybergis.illinois.edu/software/conda/cybergisx/python3-0.9.0/lib/python3.8/site-packages (from splot) (4.5.1)\n",
      "Requirement already satisfied: fiona>=1.8 in /cvmfs/cybergis.illinois.edu/software/conda/cybergisx/python3-0.9.0/lib/python3.8/site-packages (from geopandas>=0.4.0->splot) (1.8.20)\n",
      "Requirement already satisfied: pandas>=0.25.0 in /cvmfs/cybergis.illinois.edu/software/conda/cybergisx/python3-0.9.0/lib/python3.8/site-packages (from geopandas>=0.4.0->splot) (1.3.5)\n",
      "Requirement already satisfied: shapely>=1.6 in /cvmfs/cybergis.illinois.edu/software/conda/cybergisx/python3-0.9.0/lib/python3.8/site-packages (from geopandas>=0.4.0->splot) (1.8.0)\n",
      "Requirement already satisfied: pyproj>=2.2.0 in /cvmfs/cybergis.illinois.edu/software/conda/cybergisx/python3-0.9.0/lib/python3.8/site-packages (from geopandas>=0.4.0->splot) (3.3.0)\n",
      "Requirement already satisfied: scipy>=0.11 in /cvmfs/cybergis.illinois.edu/software/conda/cybergisx/python3-0.9.0/lib/python3.8/site-packages (from esda->splot) (1.7.3)\n",
      "Requirement already satisfied: scikit-learn in /cvmfs/cybergis.illinois.edu/software/conda/cybergisx/python3-0.9.0/lib/python3.8/site-packages (from esda->splot) (1.0.2)\n",
      "Requirement already satisfied: quantecon>=0.4.7 in /cvmfs/cybergis.illinois.edu/software/conda/cybergisx/python3-0.9.0/lib/python3.8/site-packages (from giddy->splot) (0.5.2)\n",
      "Requirement already satisfied: beautifulsoup4 in /cvmfs/cybergis.illinois.edu/software/conda/cybergisx/python3-0.9.0/lib/python3.8/site-packages (from libpysal->splot) (4.10.0)\n",
      "Requirement already satisfied: requests in /cvmfs/cybergis.illinois.edu/software/conda/cybergisx/python3-0.9.0/lib/python3.8/site-packages (from libpysal->splot) (2.27.1)\n",
      "Requirement already satisfied: jinja2 in /cvmfs/cybergis.illinois.edu/software/conda/cybergisx/python3-0.9.0/lib/python3.8/site-packages (from libpysal->splot) (3.0.3)\n",
      "Requirement already satisfied: networkx in /cvmfs/cybergis.illinois.edu/software/conda/cybergisx/python3-0.9.0/lib/python3.8/site-packages (from mapclassify->splot) (2.6.3)\n",
      "Requirement already satisfied: pyparsing>=2.2.1 in /cvmfs/cybergis.illinois.edu/software/conda/cybergisx/python3-0.9.0/lib/python3.8/site-packages (from matplotlib->splot) (3.0.7)\n",
      "Requirement already satisfied: kiwisolver>=1.0.1 in /cvmfs/cybergis.illinois.edu/software/conda/cybergisx/python3-0.9.0/lib/python3.8/site-packages (from matplotlib->splot) (1.3.2)\n",
      "Requirement already satisfied: pillow>=6.2.0 in /cvmfs/cybergis.illinois.edu/software/conda/cybergisx/python3-0.9.0/lib/python3.8/site-packages (from matplotlib->splot) (8.4.0)\n",
      "Requirement already satisfied: cycler>=0.10 in /cvmfs/cybergis.illinois.edu/software/conda/cybergisx/python3-0.9.0/lib/python3.8/site-packages (from matplotlib->splot) (0.11.0)\n",
      "Requirement already satisfied: python-dateutil>=2.7 in /cvmfs/cybergis.illinois.edu/software/conda/cybergisx/python3-0.9.0/lib/python3.8/site-packages (from matplotlib->splot) (2.8.0)\n",
      "Requirement already satisfied: attrs>=17 in /cvmfs/cybergis.illinois.edu/software/conda/cybergisx/python3-0.9.0/lib/python3.8/site-packages (from fiona>=1.8->geopandas>=0.4.0->splot) (21.4.0)\n",
      "Requirement already satisfied: certifi in /cvmfs/cybergis.illinois.edu/software/conda/cybergisx/python3-0.9.0/lib/python3.8/site-packages (from fiona>=1.8->geopandas>=0.4.0->splot) (2021.10.8)\n",
      "Requirement already satisfied: click>=4.0 in /cvmfs/cybergis.illinois.edu/software/conda/cybergisx/python3-0.9.0/lib/python3.8/site-packages (from fiona>=1.8->geopandas>=0.4.0->splot) (7.1.2)\n",
      "Requirement already satisfied: cligj>=0.5 in /cvmfs/cybergis.illinois.edu/software/conda/cybergisx/python3-0.9.0/lib/python3.8/site-packages (from fiona>=1.8->geopandas>=0.4.0->splot) (0.7.2)\n",
      "Requirement already satisfied: click-plugins>=1.0 in /cvmfs/cybergis.illinois.edu/software/conda/cybergisx/python3-0.9.0/lib/python3.8/site-packages (from fiona>=1.8->geopandas>=0.4.0->splot) (1.1.1)\n",
      "Requirement already satisfied: six>=1.7 in /cvmfs/cybergis.illinois.edu/software/conda/cybergisx/python3-0.9.0/lib/python3.8/site-packages (from fiona>=1.8->geopandas>=0.4.0->splot) (1.16.0)\n",
      "Requirement already satisfied: munch in /cvmfs/cybergis.illinois.edu/software/conda/cybergisx/python3-0.9.0/lib/python3.8/site-packages (from fiona>=1.8->geopandas>=0.4.0->splot) (2.5.0)\n",
      "Requirement already satisfied: setuptools in /cvmfs/cybergis.illinois.edu/software/conda/cybergisx/python3-0.9.0/lib/python3.8/site-packages (from fiona>=1.8->geopandas>=0.4.0->splot) (59.8.0)\n",
      "Requirement already satisfied: pytz>=2017.3 in /cvmfs/cybergis.illinois.edu/software/conda/cybergisx/python3-0.9.0/lib/python3.8/site-packages (from pandas>=0.25.0->geopandas>=0.4.0->splot) (2021.3)\n",
      "Requirement already satisfied: numba>=0.38 in /cvmfs/cybergis.illinois.edu/software/conda/cybergisx/python3-0.9.0/lib/python3.8/site-packages (from quantecon>=0.4.7->giddy->splot) (0.53.1)\n",
      "Requirement already satisfied: sympy in /cvmfs/cybergis.illinois.edu/software/conda/cybergisx/python3-0.9.0/lib/python3.8/site-packages (from quantecon>=0.4.7->giddy->splot) (1.9)\n",
      "Requirement already satisfied: soupsieve>1.2 in /cvmfs/cybergis.illinois.edu/software/conda/cybergisx/python3-0.9.0/lib/python3.8/site-packages (from beautifulsoup4->libpysal->splot) (2.3.1)\n",
      "Requirement already satisfied: MarkupSafe>=2.0 in /cvmfs/cybergis.illinois.edu/software/conda/cybergisx/python3-0.9.0/lib/python3.8/site-packages (from jinja2->libpysal->splot) (2.0.1)\n",
      "Requirement already satisfied: charset-normalizer~=2.0.0 in /cvmfs/cybergis.illinois.edu/software/conda/cybergisx/python3-0.9.0/lib/python3.8/site-packages (from requests->libpysal->splot) (2.0.10)\n",
      "Requirement already satisfied: idna<4,>=2.5 in /cvmfs/cybergis.illinois.edu/software/conda/cybergisx/python3-0.9.0/lib/python3.8/site-packages (from requests->libpysal->splot) (3.3)\n",
      "Requirement already satisfied: urllib3<1.27,>=1.21.1 in /cvmfs/cybergis.illinois.edu/software/conda/cybergisx/python3-0.9.0/lib/python3.8/site-packages (from requests->libpysal->splot) (1.25.11)\n",
      "Requirement already satisfied: threadpoolctl>=2.0.0 in /cvmfs/cybergis.illinois.edu/software/conda/cybergisx/python3-0.9.0/lib/python3.8/site-packages (from scikit-learn->esda->splot) (3.0.0)\n",
      "Requirement already satisfied: joblib>=0.11 in /cvmfs/cybergis.illinois.edu/software/conda/cybergisx/python3-0.9.0/lib/python3.8/site-packages (from scikit-learn->esda->splot) (1.1.0)\n",
      "Requirement already satisfied: llvmlite<0.37,>=0.36.0rc1 in /cvmfs/cybergis.illinois.edu/software/conda/cybergisx/python3-0.9.0/lib/python3.8/site-packages (from numba>=0.38->quantecon>=0.4.7->giddy->splot) (0.36.0)\n",
      "Requirement already satisfied: mpmath>=0.19 in /cvmfs/cybergis.illinois.edu/software/conda/cybergisx/python3-0.9.0/lib/python3.8/site-packages (from sympy->quantecon>=0.4.7->giddy->splot) (1.2.1)\n",
      "Note: you may need to restart the kernel to use updated packages.\n"
     ]
    }
   ],
   "source": [
    "pip install splot"
   ]
  },
  {
   "cell_type": "code",
   "execution_count": 17,
   "metadata": {
    "id": "6doB0u5NlrbU"
   },
   "outputs": [],
   "source": [
    "# Import required libraries for data visualization and spatial analysis\n",
    "import seaborn as sns\n",
    "import matplotlib.pyplot as plt\n",
    "from libpysal.weights import Queen\n",
    "\n",
    "# Import splot library for Moran's plot and esda for Moran's I statistic calculation\n",
    "from splot.esda import plot_moran\n",
    "from esda.moran import Moran\n",
    "\n",
    "# Import spreg for spatial regression analysis\n",
    "import spreg"
   ]
  },
  {
   "cell_type": "code",
   "execution_count": 18,
   "metadata": {
    "id": "YdTzC1CFljRf"
   },
   "outputs": [],
   "source": [
    "# Ordinary Least Squares (OLS) regression to model the relationship between the dependent variable 'median_ppsf' and the independent variables specified in 'variable_names', using the spreg.OLS library\n",
    "ols = spreg.OLS(y, X, name_y='median_ppsf', name_x=variable_names)"
   ]
  },
  {
   "cell_type": "code",
   "execution_count": 19,
   "metadata": {
    "colab": {
     "base_uri": "https://localhost:8080/"
    },
    "id": "Q6o_MGzEl1xU",
    "outputId": "cffe9b83-0590-42cb-cdfd-7602202736f0"
   },
   "outputs": [
    {
     "name": "stdout",
     "output_type": "stream",
     "text": [
      "REGRESSION\n",
      "----------\n",
      "SUMMARY OF OUTPUT: ORDINARY LEAST SQUARES\n",
      "-----------------------------------------\n",
      "Data set            :     unknown\n",
      "Weights matrix      :        None\n",
      "Dependent Variable  : median_ppsf                Number of Observations:       15014\n",
      "Mean dependent var  :    897.9359                Number of Variables   :          11\n",
      "S.D. dependent var  :    248.8070                Degrees of Freedom    :       15003\n",
      "R-squared           :      0.6396\n",
      "Adjusted R-squared  :      0.6393\n",
      "Sum squared residual:334987413.912                F-statistic           :   2662.0858\n",
      "Sigma-square        :   22328.029                Prob(F-statistic)     :           0\n",
      "S.E. of regression  :     149.426                Log likelihood        :  -96470.522\n",
      "Sigma-square ML     :   22311.670                Akaike info criterion :  192963.043\n",
      "S.E of regression ML:    149.3709                Schwarz criterion     :  193046.828\n",
      "\n",
      "------------------------------------------------------------------------------------\n",
      "            Variable     Coefficient       Std.Error     t-Statistic     Probability\n",
      "------------------------------------------------------------------------------------\n",
      "            CONSTANT    17295.7062790     437.1247615      39.5669790       0.0000000\n",
      "               price       0.0038334       0.0014472       2.6488497       0.0080851\n",
      "Average Annual Max Temp (F)      97.9859057       1.6484987      59.4394800       0.0000000\n",
      "Average Annual Min Temp (F)     -22.8759111       0.8483423     -26.9654251       0.0000000\n",
      "Average Annual Precipitation (inches)    -8153.1372644     140.5290179     -58.0174642       0.0000000\n",
      "Average Annual Wind Speed (mph)      33.1234224       0.9307536      35.5877444       0.0000000\n",
      "Average Annual UV Index (0-10)    -340.1049498       8.0611212     -42.1907749       0.0000000\n",
      "Average Annual Visibility (miles)    -2470.8037259      57.7368389     -42.7942328       0.0000000\n",
      "Average Annual Cloud Cover (%)      13.2006751       0.4164349      31.6992536       0.0000000\n",
      "Average Annual Humidity (%)      31.5382052       0.5987987      52.6691297       0.0000000\n",
      "Average Annual Solar Radiation (W/m^2)       2.9015357       0.0830644      34.9311442       0.0000000\n",
      "------------------------------------------------------------------------------------\n",
      "\n",
      "REGRESSION DIAGNOSTICS\n",
      "MULTICOLLINEARITY CONDITION NUMBER         1832.538\n",
      "\n",
      "TEST ON NORMALITY OF ERRORS\n",
      "TEST                             DF        VALUE           PROB\n",
      "Jarque-Bera                       2       62145.338           0.0000\n",
      "\n",
      "DIAGNOSTICS FOR HETEROSKEDASTICITY\n",
      "RANDOM COEFFICIENTS\n",
      "TEST                             DF        VALUE           PROB\n",
      "Breusch-Pagan test               10        2437.406           0.0000\n",
      "Koenker-Bassett test             10         409.520           0.0000\n",
      "================================ END OF REPORT =====================================\n"
     ]
    }
   ],
   "source": [
    "print(ols.summary)"
   ]
  },
  {
   "cell_type": "markdown",
   "metadata": {},
   "source": [
    " The regression analysis aims to model the relationship between a dependent variable ('median_ppsf') and multiple independent variables.\n",
    "\n",
    "Key information from the output:\n",
    "\n",
    "Dataset and Model: The dataset used for the analysis is unknown, and there is no weights matrix specified. The number of observations is 5205, with 11 independent variables and 5194 degrees of freedom.\n",
    "\n",
    "Model Fit: The R-squared value is 0.7272, indicating that the model explains approximately 72.72% of the variation in the dependent variable. The adjusted R-squared is 0.7267, which accounts for the number of independent variables.\n",
    "\n",
    "Model Significance: The F-statistic is 1384.63, and the associated probability (p-value) is 0, indicating that the model is statistically significant at the 95% confidence level.\n",
    "\n",
    "Coefficients: The table shows the coefficients for each independent variable, their standard errors, t-statistics, and probabilities (p-values). Variables with p-values less than 0.05 are considered statistically significant at the 95% confidence level.\n",
    "\n",
    "Diagnostics: The model's multicollinearity condition number is 70506.524, which suggests that some independent variables might be highly correlated. The Jarque-Bera test indicates that the errors are not normally distributed (p-value = 0.0000). The Breusch-Pagan and Koenker-Bassett tests indicate that there is heteroskedasticity in the model (p-values = 0.0000).\n",
    "\n",
    "Overall, the OLS regression output shows a statistically significant relationship between the dependent variable ('median_ppsf') and the independent variables. However, the diagnostics suggest potential issues with multicollinearity, non-normality of errors, and heteroskedasticity that may need to be addressed."
   ]
  },
  {
   "cell_type": "code",
   "execution_count": 20,
   "metadata": {
    "colab": {
     "base_uri": "https://localhost:8080/",
     "height": 718
    },
    "id": "p-7Qj4IAl-hj",
    "outputId": "e1b7d095-2476-4a02-e923-1ccb2c61815e"
   },
   "outputs": [
    {
     "data": {
      "text/plain": [
       "Text(0.5, 1.0, 'Map of residuals of the OLS model')"
      ]
     },
     "execution_count": 20,
     "metadata": {},
     "output_type": "execute_result"
    },
    {
     "data": {
      "image/png": "[encoded data removed]",
      "text/plain": [
       "<Figure size 1080x576 with 2 Axes>"
      ]
     },
     "metadata": {
      "needs_background": "light"
     },
     "output_type": "display_data"
    }
   ],
   "source": [
    "from matplotlib import colors\n",
    "\n",
    "#For creating a discrete color classification - BoundaryNorm instance for discrete color classification\n",
    "norm = colors.BoundaryNorm([-20, -10, -5, 0, 5, 10, 20],ncolors=256)\n",
    "\n",
    "## Plot the residuals of the OLS model using the color norm defined above, with no linewidth for the polygons\n",
    "ax = hawaii_final.plot(column=ols.u.reshape(-1),legend=True,figsize=(15,8), norm=norm, linewidth=0.0)\n",
    "\n",
    "## Overlay zipcode boundaries on the plot with a thin black line\n",
    "zipcode_gdf.plot(ax=ax,linewidth=0.3,edgecolor=\"black\")\n",
    "\n",
    "# Set the title for the plot with a font size of 15\n",
    "plt.title(\"Map of residuals of the OLS model\",fontsize=15)"
   ]
  },
  {
   "cell_type": "markdown",
   "metadata": {
    "id": "VuGZkc5_mrPr"
   },
   "source": [
    "From the OLS residuals map, we can see that there is a strong degree of spatial dependence that high/low residuals are clustered. This is an strong indication that we are missing the spatial structure in our model.\n",
    "\n",
    "Then lets assess the spatial autocorrelation more quantitatively through the calculating of the Moran's I on the residuals."
   ]
  },
  {
   "cell_type": "markdown",
   "metadata": {},
   "source": [
    "The result is a figure containing two subplots, both visualizing different aspects of spatial autocorrelation using Moran's I statistic.\n",
    "\n",
    "The first subplot (left) is titled \"Reference Distribution\" and shows the distribution of the Moran's I statistic. The x-axis is labeled \"Moran I: 0.19\", representing the calculated Moran's I value, and the y-axis is labeled \"Density\", which indicates the density of values in the distribution. This plot helps us understand the overall spatial autocorrelation pattern in our dataset by comparing the calculated Moran's I value to the expected distribution under the null hypothesis of no spatial autocorrelation.\n",
    "\n",
    "The second subplot (right) is titled \"Moran Scatterplot (0.19)\" and visualizes the relationship between an attribute and its spatial lag. The x-axis is labeled \"Attribute\", representing the value of the attribute for each spatial unit, and the y-axis is labeled \"Spatial Lag\", representing the average attribute value of neighboring spatial units. The value in the title, \"0.19\", is the Moran's I value, which is a measure of spatial autocorrelation. A positive Moran's I value indicates a positive spatial autocorrelation (similar values cluster together), while a negative value indicates a negative spatial autocorrelation (dissimilar values cluster together). In this case, the Moran's I value of 0.19 suggests a weak positive spatial autocorrelation in the data."
   ]
  },
  {
   "cell_type": "markdown",
   "metadata": {
    "id": "ieG5ScOv8pu1"
   },
   "source": [
    "The regression result provided shows the results of an Ordinary Least Squares (OLS) regression analysis. The regression model has 11 independent variables (or predictors) and one dependent variable.\n",
    "\n",
    "The key findings from the regression result are:\n",
    "\n",
    "The R-squared value of 0.7272 indicates that the independent variables explain 72.72% of the variation in the dependent variable.\n",
    "\n",
    "The intercept coefficient, which represents the expected value of the dependent variable when all independent variables are zero, is 46131.23. This value is statistically significant at the 0.05 level.\n",
    "\n",
    "Among the independent variables, 'Average Annual Max Temp (F)', 'Average Annual Min Temp (F)', 'Average Annual Precipitation (inches)', 'Average Annual Wind Speed (mph)', 'Average Annual UV Index (0-10)', 'Average Annual Visibility (miles)', 'Average Annual Cloud Cover (%)', 'Average Annual Humidity (%)', and 'Average Annual Solar Radiation (W/m^2)' are all statistically significant at the 0.05 level.\n",
    "\n",
    "The variable 'price' has a coefficient of 0.0055467, which is statistically significant at the 0.05 level. This means that a one-unit increase in 'price' is associated with a 0.0055467 unit increase in the dependent variable, holding all other variables constant.\n",
    "\n",
    "The regression diagnostics section provides information about the normality of errors, heteroskedasticity, and spatial dependence in the model. The Jarque-Bera test indicates that the errors are not normally distributed. The Breusch-Pagan and Koenker-Bassett tests suggest the presence of heteroskedasticity. The Moran's I test and Lagrange Multiplier tests suggest the presence of spatial dependence in the model.\n",
    "\n",
    "Overall, the regression result suggests that the independent variables included in the model have a significant relationship with the dependent variable, and the model provides a reasonable fit to the data. However, the presence of non-normality, heteroskedasticity, and spatial dependence in the errors suggests that further analysis may be necessary to fully understand the relationship between the variables."
   ]
  },
  {
   "cell_type": "markdown",
   "metadata": {
    "id": "HknhCXCf9HAe"
   },
   "source": [
    "The regression result provided shows the results of a Maximum Likelihood Spatial Error (MLSE) regression analysis. The MLSE model accounts for spatial dependence among the observations in the dataset.\n",
    "\n",
    "The key findings from the regression result are:\n",
    "\n",
    "The pseudo R-squared value of 0.4617 indicates that the independent variables explain 46.17% of the variation in the dependent variable.\n",
    "\n",
    "The intercept coefficient, which represents the expected value of the dependent variable when all independent variables are zero, is 4379.39. This value is not statistically significant at the 0.05 level.\n",
    "\n",
    "Among the independent variables, 'Average Annual Max Temp (F)', 'Average Annual Min Temp (F)', 'Average Annual Precipitation (inches)', 'Average Annual Wind Speed (mph)', 'Average Annual UV Index (0-10)', 'Average Annual Visibility (miles)', 'Average Annual Cloud Cover (%)', 'Average Annual Humidity (%)', and 'Average Annual Solar Radiation (W/m^2)' are all statistically significant at the 0.05 level.\n",
    "\n",
    "The variable 'price' has a coefficient of 0.0004629, which is not statistically significant at the 0.05 level. This means that there is not enough evidence to suggest that 'price' has a significant relationship with the dependent variable, holding all other variables constant.\n",
    "\n",
    "The regression diagnostics section provides information about the spatial dependence in the model. The lambda value of 0.9981160 is statistically significant at the 0.05 level, which suggests the presence of spatial dependence in the model.\n",
    "\n",
    "Overall, the regression result suggests that the independent variables included in the model have a significant relationship with the dependent variable, and the model provides a reasonable fit to the data. However, the non-significant intercept and 'price' coefficient, along with the presence of spatial dependence in the model, suggest that further analysis may be necessary to fully understand the relationship between the variables."
   ]
  },
  {
   "cell_type": "code",
   "execution_count": 21,
   "metadata": {},
   "outputs": [
    {
     "name": "stdout",
     "output_type": "stream",
     "text": [
      "Defaulting to user installation because normal site-packages is not writeable\n",
      "Requirement already satisfied: mgwr in /cvmfs/cybergis.illinois.edu/software/conda/cybergisx/python3-0.9.0/lib/python3.8/site-packages (2.1.2)\n",
      "Requirement already satisfied: spglm>=1.0.6 in /cvmfs/cybergis.illinois.edu/software/conda/cybergisx/python3-0.9.0/lib/python3.8/site-packages (from mgwr) (1.0.8)\n",
      "Requirement already satisfied: spreg in /cvmfs/cybergis.illinois.edu/software/conda/cybergisx/python3-0.9.0/lib/python3.8/site-packages (from mgwr) (1.2.4)\n",
      "Requirement already satisfied: scipy>=0.11 in /cvmfs/cybergis.illinois.edu/software/conda/cybergisx/python3-0.9.0/lib/python3.8/site-packages (from mgwr) (1.7.3)\n",
      "Requirement already satisfied: libpysal>=4.0.0 in /cvmfs/cybergis.illinois.edu/software/conda/cybergisx/python3-0.9.0/lib/python3.8/site-packages (from mgwr) (4.5.1)\n",
      "Requirement already satisfied: numpy>=1.3 in /cvmfs/cybergis.illinois.edu/software/conda/cybergisx/python3-0.9.0/lib/python3.8/site-packages (from mgwr) (1.22.0)\n",
      "Requirement already satisfied: jinja2 in /cvmfs/cybergis.illinois.edu/software/conda/cybergisx/python3-0.9.0/lib/python3.8/site-packages (from libpysal>=4.0.0->mgwr) (3.0.3)\n",
      "Requirement already satisfied: pandas in /cvmfs/cybergis.illinois.edu/software/conda/cybergisx/python3-0.9.0/lib/python3.8/site-packages (from libpysal>=4.0.0->mgwr) (1.3.5)\n",
      "Requirement already satisfied: requests in /cvmfs/cybergis.illinois.edu/software/conda/cybergisx/python3-0.9.0/lib/python3.8/site-packages (from libpysal>=4.0.0->mgwr) (2.27.1)\n",
      "Requirement already satisfied: beautifulsoup4 in /cvmfs/cybergis.illinois.edu/software/conda/cybergisx/python3-0.9.0/lib/python3.8/site-packages (from libpysal>=4.0.0->mgwr) (4.10.0)\n",
      "Requirement already satisfied: soupsieve>1.2 in /cvmfs/cybergis.illinois.edu/software/conda/cybergisx/python3-0.9.0/lib/python3.8/site-packages (from beautifulsoup4->libpysal>=4.0.0->mgwr) (2.3.1)\n",
      "Requirement already satisfied: MarkupSafe>=2.0 in /cvmfs/cybergis.illinois.edu/software/conda/cybergisx/python3-0.9.0/lib/python3.8/site-packages (from jinja2->libpysal>=4.0.0->mgwr) (2.0.1)\n",
      "Requirement already satisfied: python-dateutil>=2.7.3 in /cvmfs/cybergis.illinois.edu/software/conda/cybergisx/python3-0.9.0/lib/python3.8/site-packages (from pandas->libpysal>=4.0.0->mgwr) (2.8.0)\n",
      "Requirement already satisfied: pytz>=2017.3 in /cvmfs/cybergis.illinois.edu/software/conda/cybergisx/python3-0.9.0/lib/python3.8/site-packages (from pandas->libpysal>=4.0.0->mgwr) (2021.3)\n",
      "Requirement already satisfied: charset-normalizer~=2.0.0 in /cvmfs/cybergis.illinois.edu/software/conda/cybergisx/python3-0.9.0/lib/python3.8/site-packages (from requests->libpysal>=4.0.0->mgwr) (2.0.10)\n",
      "Requirement already satisfied: certifi>=2017.4.17 in /cvmfs/cybergis.illinois.edu/software/conda/cybergisx/python3-0.9.0/lib/python3.8/site-packages (from requests->libpysal>=4.0.0->mgwr) (2021.10.8)\n",
      "Requirement already satisfied: urllib3<1.27,>=1.21.1 in /cvmfs/cybergis.illinois.edu/software/conda/cybergisx/python3-0.9.0/lib/python3.8/site-packages (from requests->libpysal>=4.0.0->mgwr) (1.25.11)\n",
      "Requirement already satisfied: idna<4,>=2.5 in /cvmfs/cybergis.illinois.edu/software/conda/cybergisx/python3-0.9.0/lib/python3.8/site-packages (from requests->libpysal>=4.0.0->mgwr) (3.3)\n",
      "Requirement already satisfied: six>=1.5 in /cvmfs/cybergis.illinois.edu/software/conda/cybergisx/python3-0.9.0/lib/python3.8/site-packages (from python-dateutil>=2.7.3->pandas->libpysal>=4.0.0->mgwr) (1.16.0)\n",
      "Note: you may need to restart the kernel to use updated packages.\n"
     ]
    }
   ],
   "source": [
    "pip install mgwr"
   ]
  },
  {
   "cell_type": "code",
   "execution_count": 22,
   "metadata": {},
   "outputs": [],
   "source": [
    "# Redifining our dependent variable (y) and independent variables (X)\n",
    "variable_names = ['price', 'Average Annual Max Temp (F)']\n",
    "y = hawaii_final[['median_ppsf']].values\n",
    "X = hawaii_final[variable_names].values"
   ]
  },
  {
   "cell_type": "code",
   "execution_count": 23,
   "metadata": {},
   "outputs": [],
   "source": [
    "# Set the CRS for our study area (example: NAD83 / UTM zone 16N for Hawaii)\n",
    "projected_crs = \"EPSG:26916\"\n",
    "\n",
    "# Transform geometries to the projected CRS\n",
    "hawaii_final = hawaii_final.to_crs(projected_crs)\n"
   ]
  },
  {
   "cell_type": "code",
   "execution_count": 24,
   "metadata": {},
   "outputs": [],
   "source": [
    "# Calculate centroids\n",
    "hawaii_final[\"centroid\"] = hawaii_final.geometry.centroid\n",
    "\n",
    "# Calculate representative points (alternative to centroids)\n",
    "hawaii_final[\"representative_point\"] = hawaii_final.geometry.representative_point()\n"
   ]
  },
  {
   "cell_type": "code",
   "execution_count": 25,
   "metadata": {},
   "outputs": [],
   "source": [
    "# Extract coordinates from centroids\n",
    "coords = np.column_stack((hawaii_final[\"centroid\"].x, hawaii_final[\"centroid\"].y))\n",
    "\n",
    "# Extract coordinates from representative points (alternative to centroids)\n",
    "coords = np.column_stack((hawaii_final[\"representative_point\"].x, hawaii_final[\"representative_point\"].y))\n"
   ]
  },
  {
   "cell_type": "code",
   "execution_count": 26,
   "metadata": {},
   "outputs": [],
   "source": [
    "from mgwr.gwr import GWR\n",
    "from mgwr.sel_bw import Sel_BW\n",
    "\n",
    "# Standardizing our independent variables\n",
    "X = (X - X.mean(axis=0)) / X.std(axis=0)\n",
    "\n",
    "# Standardizing our independent variables\n",
    "y = (y - y.mean(axis=0)) / y.std(axis=0)\n",
    "\n",
    "# Prepare the coordinates (assuming our data contains 'longitude' and 'latitude' columns)\n",
    "#coords = hawaii_final_gwr[[\"Longitude\", \"Latitude\"]].values\n",
    "\n",
    "n = hawaii_final.shape[0]\n",
    "bandwidth_percentage = 0.25  # We can adjust this percentage based on our specific dataset\n",
    "bw = int(n * bandwidth_percentage)\n",
    "\n",
    "gwr_model = GWR(coords, y, X, bw)\n",
    "gwr_results = gwr_model.fit()"
   ]
  },
  {
   "cell_type": "code",
   "execution_count": 27,
   "metadata": {},
   "outputs": [
    {
     "name": "stdout",
     "output_type": "stream",
     "text": [
      "===========================================================================\n",
      "Model type                                                         Gaussian\n",
      "Number of observations:                                               15014\n",
      "Number of covariates:                                                     3\n",
      "\n",
      "Global Regression Results\n",
      "---------------------------------------------------------------------------\n",
      "Residual sum of squares:                                          12098.557\n",
      "Log-likelihood:                                                  -19683.205\n",
      "AIC:                                                              39372.411\n",
      "AICc:                                                             39374.413\n",
      "BIC:                                                            -132258.302\n",
      "R2:                                                                   0.194\n",
      "Adj. R2:                                                              0.194\n",
      "\n",
      "Variable                              Est.         SE  t(Est/SE)    p-value\n",
      "------------------------------- ---------- ---------- ---------- ----------\n",
      "X0                                   0.000      0.007      0.000      1.000\n",
      "X1                                   0.099      0.007     13.572      0.000\n",
      "X2                                   0.426      0.007     58.108      0.000\n",
      "\n",
      "Geographically Weighted Regression (GWR) Results\n",
      "---------------------------------------------------------------------------\n",
      "Spatial kernel:                                           Adaptive bisquare\n",
      "Bandwidth used:                                                    3753.000\n",
      "\n",
      "Diagnostic information\n",
      "---------------------------------------------------------------------------\n",
      "Residual sum of squares:                                           2742.739\n",
      "Effective number of parameters (trace(S)):                           29.853\n",
      "Degree of freedom (n - trace(S)):                                 14984.147\n",
      "Sigma estimate:                                                       0.428\n",
      "Log-likelihood:                                                   -8541.849\n",
      "AIC:                                                              17145.404\n",
      "AICc:                                                             17145.535\n",
      "BIC:                                                              17380.406\n",
      "R2:                                                                   0.817\n",
      "Adjusted R2:                                                          0.817\n",
      "Adj. alpha (95%):                                                     0.005\n",
      "Adj. critical t value (95%):                                          2.806\n",
      "\n",
      "Summary Statistics For GWR Parameter Estimates\n",
      "---------------------------------------------------------------------------\n",
      "Variable                   Mean        STD        Min     Median        Max\n",
      "-------------------- ---------- ---------- ---------- ---------- ----------\n",
      "X0                       -0.665      2.339    -22.873     -0.435      1.561\n",
      "X1                        0.079      0.285     -0.194      0.001      1.622\n",
      "X2                        1.740      4.269     -4.105      0.324     39.892\n",
      "===========================================================================\n",
      "\n",
      "None\n"
     ]
    }
   ],
   "source": [
    "print(gwr_results.summary())"
   ]
  },
  {
   "cell_type": "markdown",
   "metadata": {},
   "source": [
    "**Interpretation**\n",
    "\n",
    "Here, the dependent variable is 'median_ppsf' (median price per square foot), and the independent variables are X0 (constant), X1 (price), and X2 (Average Annual Max Temp in Fahrenheit).\n",
    "\n",
    "Global Regression Results:\n",
    "\n",
    "R-squared (R2): 0.032\n",
    "Adjusted R-squared (Adj. R2): 0.032\n",
    "In the global regression model, 'price' (X1) has a positive and significant effect on 'median_ppsf' (t=12.257, p-value<0.001). A higher price is associated with a higher median price per square foot. 'Average Annual Max Temp' (X2) has a negative and significant effect on 'median_ppsf' (t=-5.298, p-value<0.001). This suggests that as the average annual maximum temperature increases, the median price per square foot decreases. The constant term (X0) is not significant (t=-0.000, p-value=1.000). The R2 value is quite low (0.032), indicating that the global model does not fit the data well and only explains 3.2% of the variance in the dependent variable.\n",
    "\n",
    "Geographically Weighted Regression (GWR) Results:\n",
    "\n",
    "R-squared (R2): 0.909\n",
    "Adjusted R-squared (Adj. R2): 0.908\n",
    "The GWR model demonstrates a much better fit to the data, with an R2 of 0.909 and an adjusted R2 of 0.908. This indicates that 90.9% of the variance in the median price per square foot can be explained by the GWR model. It's important to note that the parameter estimates in GWR are location-specific, so the statistics provided are summary statistics for these estimates.\n",
    "\n",
    "Summary statistics for GWR parameter estimates:\n",
    "\n",
    "Constant (X0): Mean=0.966, STD=1.694, Min=-2.648, Median=0.759, Max=5.839\n",
    "Price (X1): Mean=-0.010, STD=0.079, Min=-0.236, Median=-0.003, Max=0.405\n",
    "Average Annual Max Temp (X2): Mean=0.657, STD=2.176, Min=-7.145, Median=0.406, Max=5.902\n",
    "In conclusion, the geographically weighted regression model provides a much better fit to the data than the global regression model. The relationships between the median price per square foot and the independent variables (constant, price, and average annual maximum temperature) are location-specific, and the summary statistics for GWR parameter estimates provide insights into their overall distribution.\n",
    "\n",
    "Now we proceed to plot the negative and positive coefficients to the impact of independent variables on dependent variables visually."
   ]
  },
  {
   "cell_type": "code",
   "execution_count": 28,
   "metadata": {},
   "outputs": [
    {
     "name": "stdout",
     "output_type": "stream",
     "text": [
      "Number of locations with negative coefficients: 2633\n",
      "Number of locations with positive coefficients: 12381\n"
     ]
    },
    {
     "data": {
      "image/png": "[encoded data removed]",
      "text/plain": [
       "<Figure size 720x720 with 3 Axes>"
      ]
     },
     "metadata": {
      "needs_background": "light"
     },
     "output_type": "display_data"
    }
   ],
   "source": [
    "import numpy as np\n",
    "import matplotlib.pyplot as plt\n",
    "from matplotlib.colors import LinearSegmentedColormap\n",
    "\n",
    "# Extract local coefficients from GWR model for the price variable\n",
    "local_coeffs_price = gwr_results.params[:, 1]\n",
    "\n",
    "# Add the local coefficients to the original DataFrame\n",
    "hawaii_final['local_coeff_price'] = local_coeffs_price\n",
    "\n",
    "# Filter the DataFrame based on the sign of the coefficient\n",
    "negative_coeff_locations = hawaii_final[hawaii_final['local_coeff_price'] < 0]\n",
    "positive_coeff_locations = hawaii_final[hawaii_final['local_coeff_price'] > 0]\n",
    "\n",
    "# Print the number of negative and positive coefficient locations\n",
    "print(f\"Number of locations with negative coefficients: {len(negative_coeff_locations)}\")\n",
    "print(f\"Number of locations with positive coefficients: {len(positive_coeff_locations)}\")\n",
    "\n",
    "# If we want to visualize the locations\n",
    "fig, ax = plt.subplots(figsize=(10, 10))\n",
    "\n",
    "# Custom colormaps for negative and positive coefficients\n",
    "cmap_neg = LinearSegmentedColormap.from_list('red_to_yellow', ['darkred', 'yellow'])\n",
    "cmap_pos = LinearSegmentedColormap.from_list('white_to_blue', ['white', 'darkblue'])\n",
    "\n",
    "# Normalize the data for coloring\n",
    "norm_neg = plt.Normalize(vmin=negative_coeff_locations['local_coeff_price'].min(), vmax=0)\n",
    "norm_pos = plt.Normalize(vmin=0, vmax=positive_coeff_locations['local_coeff_price'].max())\n",
    "\n",
    "# Plot negative coefficient locations\n",
    "negative_coeff_locations.plot(ax=ax, column='local_coeff_price', cmap=cmap_neg, markersize=10, norm=norm_neg, legend=True, legend_kwds={'label': \"Negative Coefficients\"})\n",
    "\n",
    "# Plot positive coefficient locations\n",
    "positive_coeff_locations.plot(ax=ax, column='local_coeff_price', cmap=cmap_pos, markersize=10, norm=norm_pos, legend=True, legend_kwds={'label': \"Positive Coefficients\"})\n",
    "\n",
    "# Set x and y axis labels\n",
    "ax.set_xlabel(\"Longitude\")\n",
    "ax.set_ylabel(\"Latitude\")\n",
    "\n",
    "# Set plot title\n",
    "ax.set_title(\"Local Coefficients for 'price'\")\n",
    "\n",
    "plt.show()"
   ]
  },
  {
   "cell_type": "markdown",
   "metadata": {},
   "source": [
    "**Interpretation**\n",
    "\n",
    "This code is extracting local coefficients for the 'price' variable from the Geographically Weighted Regression (GWR) model and adding them to a DataFrame called 'hawaii_final'. The DataFrame is then filtered based on the sign of the coefficient (negative or positive), which helps to understand the relationship between the 'price' variable and the 'median_ppsf' (median price per square foot) across different locations in hawaii.\n",
    "\n",
    "The output shows that there are 2,956 locations where the local coefficient for 'price' is negative, and 2,249 locations where it is positive.\n",
    "\n",
    "**A negative coefficient suggests that in those locations, an increase in the 'price' variable is associated with a decrease in the 'median_ppsf', while a positive coefficient indicates that an increase in the 'price' variable is associated with an increase in the 'median_ppsf'.**\n",
    "\n",
    "The code then generates a plot to visualize these locations, with the markers colored based on the sign and value of the local coefficient. \n",
    "\n",
    "**The 'coolwarm' colormap is used, where red represents negative coefficients, and blue represents positive coefficients. The intensity of the colors shows the magnitude of the coefficients.**\n",
    "\n",
    "The plot helps to visualize the spatial distribution of the relationship between 'price' and 'median_ppsf' in different locations within hawaii. This can provide insights into how the relationship between these two variables varies geographically and may be useful for understanding local real estate market trends.\n",
    "\n",
    "**For axis of the plot**\n",
    "\n",
    "The EPSG code \"EPSG:26916\" represents the UTM Zone 16N (North) projection, which uses meters as its unit. UTM (Universal Transverse Mercator) is a commonly used coordinate system that divides the Earth into 60 zones, each 6 degrees of longitude wide. Zone 16N covers a region that includes the city of hawaii.\n",
    "\n",
    "In the context of our dataset and the given CRS, the x-axis values (425000 to 455000) and y-axis values (4.61 to 4.65) represent easting and northing coordinates in meters, respectively, within the UTM Zone 16N.\n",
    "\n",
    "To summarize, the x and y axis values are UTM coordinates (in meters) that represent the spatial positions of the locations in hawaii. These coordinates are in the UTM Zone 16N (EPSG:26916) projection.\n",
    "\n",
    "Now we move ahead and include more independent variables in our model to increase explanability"
   ]
  },
  {
   "cell_type": "code",
   "execution_count": 29,
   "metadata": {},
   "outputs": [
    {
     "name": "stderr",
     "output_type": "stream",
     "text": [
      "/cvmfs/cybergis.illinois.edu/software/conda/cybergisx/python3-0.9.0/lib/python3.8/site-packages/spglm/iwls.py:37: LinAlgWarning: Ill-conditioned matrix (rcond=7.60146e-17): result may not be accurate.\n",
      "  xtx_inv_xt = linalg.solve(xtx, xT)\n"
     ]
    },
    {
     "name": "stdout",
     "output_type": "stream",
     "text": [
      "===========================================================================\n",
      "Model type                                                         Gaussian\n",
      "Number of observations:                                               15014\n",
      "Number of covariates:                                                     4\n",
      "\n",
      "Global Regression Results\n",
      "---------------------------------------------------------------------------\n",
      "Residual sum of squares:                                       744626581.308\n",
      "Log-likelihood:                                                 -102467.038\n",
      "AIC:                                                             204942.075\n",
      "AICc:                                                            204944.079\n",
      "BIC:                                                           744482234.065\n",
      "R2:                                                                   0.199\n",
      "Adj. R2:                                                              0.199\n",
      "\n",
      "Variable                              Est.         SE  t(Est/SE)    p-value\n",
      "------------------------------- ---------- ---------- ---------- ----------\n",
      "X0                                 897.936      1.818    493.986      0.000\n",
      "X1                                  25.097      1.819     13.796      0.000\n",
      "X2                                 121.682      2.482     49.019      0.000\n",
      "X3                                  23.071      2.483      9.293      0.000\n",
      "\n",
      "Geographically Weighted Regression (GWR) Results\n",
      "---------------------------------------------------------------------------\n",
      "Spatial kernel:                                           Adaptive bisquare\n",
      "Bandwidth used:                                                    3753.000\n",
      "\n",
      "Diagnostic information\n",
      "---------------------------------------------------------------------------\n",
      "Residual sum of squares:                                       145689648.242\n",
      "Effective number of parameters (trace(S)):                           36.188\n",
      "Degree of freedom (n - trace(S)):                                 14977.812\n",
      "Sigma estimate:                                                      98.626\n",
      "Log-likelihood:                                                  -90220.086\n",
      "AIC:                                                             180514.549\n",
      "AICc:                                                            180514.738\n",
      "BIC:                                                             180797.800\n",
      "R2:                                                                   0.843\n",
      "Adjusted R2:                                                          0.843\n",
      "Adj. alpha (95%):                                                     0.006\n",
      "Adj. critical t value (95%):                                          2.775\n",
      "\n",
      "Summary Statistics For GWR Parameter Estimates\n",
      "---------------------------------------------------------------------------\n",
      "Variable                   Mean        STD        Min     Median        Max\n",
      "-------------------- ---------- ---------- ---------- ---------- ----------\n",
      "X0                      633.577   2437.899 -29781.093    617.546   2914.004\n",
      "X1                       11.787     59.930    -48.766      0.212    406.419\n",
      "X2                      537.769   1336.442  -9638.326    579.825   6938.463\n",
      "X3                     -309.776   5793.438 -75843.280   -207.069   4623.738\n",
      "===========================================================================\n",
      "\n",
      "None\n"
     ]
    }
   ],
   "source": [
    "# Redefining our dependent variable (y) and independent variables (X)\n",
    "variable_names_new = ['price', 'Average Annual Max Temp (F)','Average Annual Humidity (%)']\n",
    "y = hawaii_final[['median_ppsf']].values\n",
    "X_new = hawaii_final[variable_names_new].values\n",
    "\n",
    "# Standardize our independent variables\n",
    "X_new = (X_new - X_new.mean(axis=0)) / X_new.std(axis=0)\n",
    "\n",
    "gwr_model_new = GWR(coords, y, X_new, bw)\n",
    "gwr_results_new = gwr_model_new.fit()\n",
    "print(gwr_results_new.summary())"
   ]
  },
  {
   "cell_type": "markdown",
   "metadata": {},
   "source": [
    "Here's how to interpret the GWR results with the updated independent variables:\n",
    "\n",
    "Model information:\n",
    "\n",
    "Number of observations: 5205\n",
    "Number of covariates: 4 (including the constant term)\n",
    "Global Regression Results:\n",
    "\n",
    "R2: 0.313, which means that 31.3% of the variation in the dependent variable can be explained by the global model with the given independent variables.\n",
    "Independent variable coefficients and their significance:\n",
    "\n",
    "X0 (Constant term): Est. = 266.284, p-value < 0.001 (statistically significant)\n",
    "X1 (price): Est. = 10.830, p-value < 0.001 (statistically significant)\n",
    "X2 (Average Annual Max Temp (F)): Est. = -67.500, p-value < 0.001 (statistically significant)\n",
    "X3 (Average Annual Humidity (%)): Est. = -76.641, p-value < 0.001 (statistically significant)\n",
    "Geographically Weighted Regression (GWR) Results:\n",
    "\n",
    "R2: 0.917, which means that 91.7% of the variation in the dependent variable can be explained by the GWR model with the given independent variables. This is a substantial improvement compared to the global model, suggesting that the relationship between the dependent variable and independent variables varies across locations.\n",
    "Summary Statistics for GWR Parameter Estimates:\n",
    "\n",
    "X0 (Constant term):\n",
    "\n",
    "Mean: -250.746\n",
    "Min: -17,581.430\n",
    "Max: 2,655.552\n",
    "X1 (price):\n",
    "\n",
    "Mean: -1.463\n",
    "Min: -19.585\n",
    "Max: 39.942\n",
    "X2 (Average Annual Max Temp (F)):\n",
    "\n",
    "Mean: -1501.088\n",
    "Min: -42,251.433\n",
    "Max: 6,179.683\n",
    "X3 (Average Annual Humidity (%)):\n",
    "\n",
    "Mean: -1888.754\n",
    "Min: -53,309.618\n",
    "Max: 5,851.998\n",
    "\n",
    "The summary statistics for GWR parameter estimates show that the coefficients for the independent variables vary across locations. The GWR model provides a more localized understanding of the relationships between the dependent and independent variables, capturing spatial non-stationarity in the data."
   ]
  },
  {
   "cell_type": "markdown",
   "metadata": {},
   "source": [
    "In the context of Geographically Weighted Regression (GWR), the mean coefficient results represent the average values of the coefficients for each independent variable across all the locations in the dataset. These average values can provide a general overview of how the independent variables are influencing the dependent variable in the model.\n",
    "\n",
    "Here's a brief explanation of the mean coefficient results for each independent variable in the GWR model:\n",
    "\n",
    "X0 (Constant term):\n",
    "\n",
    "Mean: -250.746\n",
    "The mean value for the constant term suggests that, on average, the baseline value (i.e., the value of the dependent variable when all the independent variables are zero) is -250.746. However, this value varies significantly across locations, as indicated by the minimum and maximum values in the summary statistics.\n",
    "X1 (price):\n",
    "\n",
    "Mean: -1.463\n",
    "The mean coefficient for the price variable is -1.463, indicating that on average, a one-unit increase in price is associated with a decrease of about 1.463 units in the dependent variable. However, the relationship between price and the dependent variable varies across locations, ranging from -19.585 to 39.942.\n",
    "X2 (Average Annual Max Temp (F)):\n",
    "\n",
    "Mean: -1501.088\n",
    "The mean coefficient for the Average Annual Max Temp (F) variable is -1501.088, suggesting that on average, a one-unit increase in the average annual maximum temperature is associated with a decrease of about 1501.088 units in the dependent variable. The relationship between temperature and the dependent variable also varies across locations, with coefficients ranging from -42,251.433 to 6,179.683.\n",
    "X3 (Average Annual Humidity (%)):\n",
    "\n",
    "Mean: -1888.754\n",
    "The mean coefficient for the Average Annual Humidity (%) variable is -1888.754, indicating that on average, a one-unit increase in average annual humidity is associated with a decrease of about 1888.754 units in the dependent variable. This relationship varies across locations, with coefficients ranging from -53,309.618 to 5,851.998.\n",
    "Keep in mind that these mean values provide an overall understanding of the relationships between the independent variables and the dependent variable, but they do not capture the spatial non-stationarity that GWR is designed to model. It is essential to examine the local relationships across different locations to better understand the spatial variations in the coefficients."
   ]
  },
  {
   "cell_type": "code",
   "execution_count": 30,
   "metadata": {},
   "outputs": [
    {
     "name": "stdout",
     "output_type": "stream",
     "text": [
      "Number of locations with negative coefficients: 5327\n",
      "Number of locations with positive coefficients: 9687\n"
     ]
    },
    {
     "data": {
      "image/png": "[encoded data removed]",
      "text/plain": [
       "<Figure size 720x720 with 3 Axes>"
      ]
     },
     "metadata": {
      "needs_background": "light"
     },
     "output_type": "display_data"
    }
   ],
   "source": [
    "import numpy as np\n",
    "import matplotlib.pyplot as plt\n",
    "from matplotlib.colors import LinearSegmentedColormap\n",
    "\n",
    "# Extract local coefficients from GWR model for the 'Average Annual Max Temp (F)' variable\n",
    "local_coeffs_temp = gwr_results_new.params[:, 2]\n",
    "\n",
    "# Add the local coefficients to the original DataFrame\n",
    "hawaii_final['local_coeff_temp'] = local_coeffs_temp\n",
    "\n",
    "# Filter the DataFrame based on the sign of the coefficient\n",
    "negative_coeff_locations = hawaii_final[hawaii_final['local_coeff_temp'] < 0]\n",
    "positive_coeff_locations = hawaii_final[hawaii_final['local_coeff_temp'] > 0]\n",
    "\n",
    "# Print the number of negative and positive coefficient locations\n",
    "print(f\"Number of locations with negative coefficients: {len(negative_coeff_locations)}\")\n",
    "print(f\"Number of locations with positive coefficients: {len(positive_coeff_locations)}\")\n",
    "\n",
    "# If we want to visualize the locations\n",
    "fig, ax = plt.subplots(figsize=(10, 10))\n",
    "\n",
    "# Custom colormaps for negative and positive coefficients\n",
    "cmap_neg = LinearSegmentedColormap.from_list('red_to_yellow', ['darkred', 'yellow'])\n",
    "cmap_pos = LinearSegmentedColormap.from_list('white_to_blue', ['white', 'darkblue'])\n",
    "\n",
    "# Normalize the data for coloring\n",
    "norm_neg = plt.Normalize(vmin=negative_coeff_locations['local_coeff_temp'].min(), vmax=0)\n",
    "norm_pos = plt.Normalize(vmin=0, vmax=positive_coeff_locations['local_coeff_temp'].max())\n",
    "\n",
    "# Plot negative coefficient locations\n",
    "negative_coeff_locations.plot(ax=ax, column='local_coeff_temp', cmap=cmap_neg, markersize=10, norm=norm_neg, legend=True, legend_kwds={'label': \"Negative Coefficients\"})\n",
    "\n",
    "# Plot positive coefficient locations\n",
    "positive_coeff_locations.plot(ax=ax, column='local_coeff_temp', cmap=cmap_pos, markersize=10, norm=norm_pos, legend=True, legend_kwds={'label': \"Positive Coefficients\"})\n",
    "\n",
    "# Set x and y axis labels\n",
    "ax.set_xlabel(\"Longitude\")\n",
    "ax.set_ylabel(\"Latitude\")\n",
    "\n",
    "# Set plot title\n",
    "ax.set_title(\"Local Coefficients for 'Average Annual Max Temp (F)'\")\n",
    "\n",
    "plt.show()"
   ]
  },
  {
   "cell_type": "code",
   "execution_count": 31,
   "metadata": {},
   "outputs": [
    {
     "name": "stdout",
     "output_type": "stream",
     "text": [
      "Number of locations with negative coefficients: 11776\n",
      "Number of locations with positive coefficients: 3238\n"
     ]
    },
    {
     "data": {
      "image/png": "[encoded data removed]",
      "text/plain": [
       "<Figure size 720x720 with 3 Axes>"
      ]
     },
     "metadata": {
      "needs_background": "light"
     },
     "output_type": "display_data"
    }
   ],
   "source": [
    "import numpy as np\n",
    "import matplotlib.pyplot as plt\n",
    "from matplotlib.colors import LinearSegmentedColormap\n",
    "\n",
    "# Assuming we have already added the third independent variable to the GWR model\n",
    "# and re-run it, extract local coefficients for the 'Average Annual Humidity (%)' variable\n",
    "local_coeffs_humidity = gwr_results_new.params[:, 3]\n",
    "\n",
    "# Add the local coefficients to the original DataFrame\n",
    "hawaii_final['local_coeff_humidity'] = local_coeffs_humidity\n",
    "\n",
    "# Filter the DataFrame based on the sign of the coefficient\n",
    "negative_coeff_locations = hawaii_final[hawaii_final['local_coeff_humidity'] < 0]\n",
    "positive_coeff_locations = hawaii_final[hawaii_final['local_coeff_humidity'] > 0]\n",
    "\n",
    "# Print the number of negative and positive coefficient locations\n",
    "print(f\"Number of locations with negative coefficients: {len(negative_coeff_locations)}\")\n",
    "print(f\"Number of locations with positive coefficients: {len(positive_coeff_locations)}\")\n",
    "\n",
    "# If we want to visualize the locations\n",
    "fig, ax = plt.subplots(figsize=(10, 10))\n",
    "\n",
    "# Custom colormaps for negative and positive coefficients\n",
    "cmap_neg = LinearSegmentedColormap.from_list('red_to_yellow', ['darkred', 'yellow'])\n",
    "cmap_pos = LinearSegmentedColormap.from_list('white_to_blue', ['white', 'darkblue'])\n",
    "\n",
    "# Normalize the data for coloring\n",
    "norm_neg = plt.Normalize(vmin=negative_coeff_locations['local_coeff_humidity'].min(), vmax=0)\n",
    "norm_pos = plt.Normalize(vmin=0, vmax=positive_coeff_locations['local_coeff_humidity'].max())\n",
    "\n",
    "# Plot negative coefficient locations\n",
    "negative_coeff_locations.plot(ax=ax, column='local_coeff_humidity', cmap=cmap_neg, markersize=10, norm=norm_neg, legend=True, legend_kwds={'label': \"Negative Coefficients\"})\n",
    "\n",
    "# Plot positive coefficient locations\n",
    "positive_coeff_locations.plot(ax=ax, column='local_coeff_humidity', cmap=cmap_pos, markersize=10, norm=norm_pos, legend=True, legend_kwds={'label': \"Positive Coefficients\"})\n",
    "\n",
    "# Set x and y axis labels\n",
    "ax.set_xlabel(\"Longitude\")\n",
    "ax.set_ylabel(\"Latitude\")\n",
    "\n",
    "# Set plot title\n",
    "ax.set_title(\"Local Coefficients for 'Average Annual Humidity (%)'\")\n",
    "\n",
    "plt.show()"
   ]
  },
  {
   "cell_type": "code",
   "execution_count": 32,
   "metadata": {},
   "outputs": [],
   "source": [
    "# Export GeoDataFrame to Excel and CSV files\n",
    "#hawaii_final.to_excel(\"hawaii_final.xlsx\", index=False)\n",
    "#hawaii_final.to_csv(\"hawaii_final.csv\", index=False)"
   ]
  },
  {
   "cell_type": "code",
   "execution_count": 33,
   "metadata": {},
   "outputs": [
    {
     "data": {
      "application/vnd.jupyter.widget-view+json": {
       "model_id": "56f78717847f400b9a818af8c3ba21e4",
       "version_major": 2,
       "version_minor": 0
      },
      "text/plain": [
       "Dropdown(description='Variable Name:', options=('price', 'Average Annual Max Temp (F)', 'Average Annual Humidi…"
      ]
     },
     "metadata": {},
     "output_type": "display_data"
    },
    {
     "data": {
      "application/vnd.jupyter.widget-view+json": {
       "model_id": "cd0db39bd4294b59b8b266edce85c11b",
       "version_major": 2,
       "version_minor": 0
      },
      "text/plain": [
       "Output()"
      ]
     },
     "metadata": {},
     "output_type": "display_data"
    }
   ],
   "source": [
    "import folium\n",
    "from folium.plugins import HeatMap\n",
    "from matplotlib.colors import LinearSegmentedColormap\n",
    "import matplotlib.pyplot as plt\n",
    "import numpy as np\n",
    "\n",
    "# Function to convert RGB to HEX color\n",
    "def rgb_to_hex(rgb):\n",
    "    return '#{:02x}{:02x}{:02x}'.format(*rgb)\n",
    "\n",
    "# Function to calculate the color for each data point\n",
    "def get_color(value, cmap, norm):\n",
    "    rgba = cmap(norm(value))[:3]\n",
    "    return rgb_to_hex(tuple(int(255 * x) for x in rgba))\n",
    "\n",
    "# Function to generate the interactive map\n",
    "def generate_map(var_name, gwr_results):\n",
    "    # Extract local coefficients from GWR model for the variable\n",
    "    local_coeffs = gwr_results.params[:, var_names.index(var_name)]\n",
    "\n",
    "    # Add the local coefficients to the original DataFrame\n",
    "    hawaii_final['local_coeff'] = local_coeffs\n",
    "\n",
    "    # Filter the DataFrame based on the sign of the coefficient\n",
    "    negative_coeff_locations = hawaii_final[hawaii_final['local_coeff'] < 0]\n",
    "    positive_coeff_locations = hawaii_final[hawaii_final['local_coeff'] > 0]\n",
    "\n",
    "    # Custom colormaps for negative and positive coefficients\n",
    "    cmap_neg = LinearSegmentedColormap.from_list('red_to_yellow', ['darkred', 'yellow'])\n",
    "    cmap_pos = LinearSegmentedColormap.from_list('white_to_blue', ['white', 'darkblue'])\n",
    "\n",
    "    # Normalize the data for coloring\n",
    "    norm_neg = plt.Normalize(vmin=negative_coeff_locations['local_coeff'].min(), vmax=0)\n",
    "    norm_pos = plt.Normalize(vmin=0, vmax=positive_coeff_locations['local_coeff'].max())\n",
    "\n",
    "    # Create a Folium map with a base layer\n",
    "    m = folium.Map(location=[21.315603, -157.858093], zoom_start=7, tiles='cartodb positron')\n",
    "    \n",
    "    # Add a text box to explain the colors\n",
    "    if var_name == 'price':\n",
    "        txt = \"The 'coolwarm' colormap is used, where red represents negative coefficients, and blue represents positive coefficients. The intensity of the negative colors shows the magnitude of the coefficients.Red means extreme negative, Yellow means 0. Similarly, Blue means high positive coefficients and white means zero positive cofficients\"\n",
    "    elif var_name == 'Average Annual Max Temp (F)':\n",
    "        txt = \"The 'coolwarm' colormap is used, where red represents negative coefficients, and blue represents positive coefficients. The intensity of the negative colors shows the magnitude of the coefficients.Red means extreme negative, Yellow means 0. Similarly, Blue means high positive coefficients and white means zero positive cofficients\"\n",
    "    else:\n",
    "        txt = \"The 'coolwarm' colormap is used, where red represents negative coefficients, and blue represents positive coefficients. The intensity of the negative colors shows the magnitude of the coefficients.Red means extreme negative, Yellow means 0. Similarly, Blue means high positive coefficients and white means zero positive cofficients\"\n",
    "    folium.map.Marker(\n",
    "        location=[21.315603, -157.858093],\n",
    "        icon=folium.Icon(icon='lightbulb-o', prefix='fa', color='blue'),\n",
    "        popup=folium.Popup(html=txt, max_width=300, show=False),\n",
    "        tooltip='Explanation of colors',\n",
    "    ).add_to(m)\n",
    "\n",
    "    # Add negative coefficient locations to the map as a HeatMap\n",
    "    negative_coords = [[row['Latitude'], row['Longitude'], get_color(row['local_coeff'], cmap_neg, norm_neg)] for _, row in negative_coeff_locations.iterrows()]\n",
    "    for coord in negative_coords:\n",
    "        folium.CircleMarker(\n",
    "            location=[coord[0], coord[1]],\n",
    "            radius=3,\n",
    "            color=coord[2],\n",
    "            fill=True,\n",
    "            fill_color=coord[2],\n",
    "            fill_opacity=0.7,\n",
    "        ).add_to(m)\n",
    "\n",
    "    # Add positive coefficient locations to the map as a HeatMap\n",
    "    positive_coords = [[row['Latitude'], row['Longitude'], get_color(row['local_coeff'], cmap_pos, norm_pos)] for _, row in positive_coeff_locations.iterrows()]\n",
    "    for coord in positive_coords:\n",
    "        folium.CircleMarker(\n",
    "            location=[coord[0], coord[1]],\n",
    "            radius=3,\n",
    "            color=coord[2],\n",
    "            fill=True,\n",
    "            fill_color=coord[2],\n",
    "            fill_opacity=0.7,\n",
    "        ).add_to(m)\n",
    "\n",
    "    # Display the map\n",
    "    return m\n",
    "\n",
    "# Toggle between the different independent variables using a dropdown menu\n",
    "import ipywidgets as widgets\n",
    "from IPython.display import display\n",
    "\n",
    "var_names = ['price', 'Average Annual Max Temp (F)', 'Average Annual Humidity (%)']\n",
    "\n",
    "dropdown = widgets.Dropdown(options=var_names, value='price', description='Variable Name:')\n",
    "output = widgets.Output()\n",
    "\n",
    "def on_change(change):\n",
    "    if change['type'] == 'change' and change['name'] == 'value':\n",
    "        with output:\n",
    "            output.clear_output()\n",
    "            m = generate_map(change['new'], gwr_results_new)\n",
    "            display(m)\n",
    "\n",
    "dropdown.observe(on_change)\n",
    "\n",
    "display(dropdown)\n",
    "display(output)\n"
   ]
  },
  {
   "cell_type": "markdown",
   "metadata": {},
   "source": [
    "**The Folium Plot is Shown Above**\n",
    "\n",
    "Might not be visible in HTML/PDF export"
   ]
  },
  {
   "cell_type": "markdown",
   "metadata": {},
   "source": [
    "**Interpretation**\n",
    "\n",
    "Overall, the code allows the user to interactively visualize the spatial distribution of the local coefficients for the specified variable in the GWR model, where red represents negative coefficients, and blue represents positive coefficients. The intensity of the negative colors shows the magnitude of the coefficients. Red means extreme negative, yellow means 0. Similarly, blue means high positive coefficients and white means zero positive coefficients."
   ]
  }
 ],
 "metadata": {
  "colab": {
   "provenance": []
  },
  "kernelspec": {
   "display_name": "Python 3",
   "language": "python",
   "name": "python3"
  },
  "language_info": {
   "codemirror_mode": {
    "name": "ipython",
    "version": 3
   },
   "file_extension": ".py",
   "mimetype": "text/x-python",
   "name": "python",
   "nbconvert_exporter": "python",
   "pygments_lexer": "ipython3",
   "version": "3.8.12"
  }
 },
 "nbformat": 4,
 "nbformat_minor": 4
}
